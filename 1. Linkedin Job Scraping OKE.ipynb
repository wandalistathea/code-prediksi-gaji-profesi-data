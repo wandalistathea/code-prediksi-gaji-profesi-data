{
 "cells": [
  {
   "cell_type": "markdown",
   "metadata": {},
   "source": [
    "# Web Scraping LinkedIn"
   ]
  },
  {
   "cell_type": "code",
   "execution_count": null,
   "metadata": {},
   "outputs": [],
   "source": [
    "#!pip install selenium"
   ]
  },
  {
   "cell_type": "code",
   "execution_count": null,
   "metadata": {},
   "outputs": [],
   "source": [
    "import pandas as pd\n",
    "import time\n",
    "from datetime import datetime\n",
    "from selenium import webdriver\n",
    "from selenium.webdriver.common.keys import Keys\n",
    "from selenium.webdriver.common.by import By"
   ]
  },
  {
   "cell_type": "code",
   "execution_count": null,
   "metadata": {},
   "outputs": [],
   "source": [
    "browser = webdriver.Chrome(\"chromedriver.exe\")\n",
    "browser.get(\"https://www.linkedin.com/login/\")"
   ]
  },
  {
   "cell_type": "code",
   "execution_count": null,
   "metadata": {},
   "outputs": [],
   "source": [
    "username = browser.find_element(By.ID, \"username\")\n",
    "username.send_keys(\"masukkan email\")\n",
    "\n",
    "password = browser.find_element(By.ID, \"password\")\n",
    "password.send_keys(\"masukkan password\")\n",
    "\n",
    "time.sleep(2)\n",
    "\n",
    "login_button = browser.find_element(By.XPATH, \"//button[@class = 'btn__primary--large from__button--floating']\")\n",
    "login_button.click()"
   ]
  },
  {
   "cell_type": "markdown",
   "metadata": {},
   "source": [
    "### Scrap Multiple Page -> Untuk  Search Term List (Beberapa Kata Kunci)"
   ]
  },
  {
   "cell_type": "code",
   "execution_count": null,
   "metadata": {},
   "outputs": [],
   "source": [
    "# FUNCTION UNTUK MENCARI DARI SEARCH TERM LIST\n",
    "\n",
    "def job_linkedin_list(search_term_list, search_loc):\n",
    "    # Data frame awal\n",
    "    df = pd.DataFrame(columns = [\"job_name\", \"company\", \"lokasi\", \"icon_keterangan\"])\n",
    "        \n",
    "    # For looping untuk \"search term list\"\n",
    "    for search_term in search_term_list:\n",
    "        \n",
    "        browser.get(\"https://www.linkedin.com/jobs/\")\n",
    "        time.sleep(1)\n",
    "        \n",
    "        # Isian untuk cari berdasarkan pekerjaan dan lokasi\n",
    "        search_term_isi = browser.find_element(By.XPATH, \"//input[starts-with (@id, 'jobs-search-box-keyword-id-')]\")\n",
    "        search_term_isi.send_keys(search_term)\n",
    "\n",
    "        time.sleep(1)\n",
    "\n",
    "        search_loc_isi = browser.find_element(By.XPATH, \"//input[starts-with (@id, 'jobs-search-box-location-id-')]\")\n",
    "        search_loc_isi.send_keys(search_loc)\n",
    "\n",
    "        time.sleep(1)\n",
    "\n",
    "        search_loc_isi.send_keys(Keys.RETURN)\n",
    "        \n",
    "        #-------------------------------------------------------------------------------\n",
    "        # UNTUK PAGE = 1 (langsung scraping saja karena tidak perlu klik page button-nya)\n",
    "        # Mengecilkan ukuran window\n",
    "        browser.set_window_size(600, 1080)\n",
    "\n",
    "        # Scroll sampai bawah dan kembalikan ke atas\n",
    "        element = browser.find_element(By.TAG_NAME, \"body\")\n",
    "        for i in range(1, 7): # For looping untuk scroll down 6x\n",
    "            browser.execute_script(\"window.scrollBy(0, 560)\", \"\")\n",
    "            time.sleep(0.5)\n",
    "        time.sleep(1)\n",
    "        element.send_keys(Keys.HOME)\n",
    "\n",
    "        # Memperbesar kembali ukuran window \n",
    "        browser.maximize_window()\n",
    "\n",
    "        # List nama-nama lowongan\n",
    "        job_all = browser.find_elements(By.XPATH, \"//a[@class = 'disabled ember-view job-card-container__link job-card-list__title']\")\n",
    "        list_job_oke = [i for i in job_all if search_term in i.text.lower()]\n",
    "\n",
    "        # For looping untuk \"list job oke\" (job yang sesuai dengan search term)\n",
    "        for job in list_job_oke:\n",
    "            job.click()\n",
    "            time.sleep(1)\n",
    "\n",
    "            job_name = browser.find_element(By.XPATH, \"//h2[@class = 't-16 t-black t-bold truncate']\").text\n",
    "            company = browser.find_element(By.XPATH, \"//span[@class = 'jobs-unified-top-card__subtitle-primary-grouping mr2 t-black']/span\").text\n",
    "            lokasi = browser.find_element(By.XPATH, \"//span[@class = 'jobs-unified-top-card__bullet']\").text\n",
    "\n",
    "            icon = browser.find_elements(By.XPATH, \"//div[starts-with (@class, 'ivm-image-view-model')]/div/li-icon\")\n",
    "            list_icon = [i.get_attribute(\"type\") for i in icon]\n",
    "            if \"lightbulb\" in list_icon:\n",
    "                list_icon.remove(\"lightbulb\")\n",
    "\n",
    "            keterangan = browser.find_elements(By.XPATH, \"//div[@class = 'jobs-unified-top-card__job-insight']\")\n",
    "            list_keterangan = [k.text for k in keterangan]\n",
    "\n",
    "            icon_keterangan = dict(zip(list_icon, list_keterangan))\n",
    "\n",
    "            df = df.append({\"job_name\": job_name, \"company\": company, \"lokasi\": lokasi, \n",
    "                            \"icon_keterangan\": icon_keterangan}, ignore_index = True)\n",
    "\n",
    "        #-------------------------------------------------------------------------------\n",
    "        # UNTUK PAGE > 1 (perlu klik page button-nya)\n",
    "        max_pages = [int(num_page.text) for num_page in browser.find_elements(By.XPATH, \"//li[@data-test-pagination-page-btn]\")][-1]\n",
    "        pages = [x for x in range(2, max_pages+1)]\n",
    "\n",
    "        # For looping untuk page (agar bisa ke next page)\n",
    "        for page in pages:\n",
    "            if page < 9 or page > 9:\n",
    "                page_button = browser.find_element(By.XPATH, \"//li[@data-test-pagination-page-btn =\" + str(page) + \"]\")\n",
    "            elif page == 9:\n",
    "                page_button = browser.find_elements(By.XPATH, \"//li[@class = 'artdeco-pagination__indicator artdeco-pagination__indicator--number ember-view']\")[7]\n",
    "\n",
    "            page_button.click()\n",
    "            time.sleep(2)\n",
    "\n",
    "            # Mengecilkan ukuran window\n",
    "            browser.set_window_size(600, 1080)\n",
    "\n",
    "            # Scroll sampai bawah dan kembalikan ke atas\n",
    "            element = browser.find_element(By.TAG_NAME, \"body\")\n",
    "            for i in range(1, 7): # For looping untuk scroll down 6x\n",
    "                browser.execute_script(\"window.scrollBy(0, 560)\", \"\")\n",
    "                time.sleep(0.5)\n",
    "\n",
    "            time.sleep(1)\n",
    "            element.send_keys(Keys.HOME)\n",
    "\n",
    "            # Memperbesar kembali ukuran window \n",
    "            browser.maximize_window()\n",
    "\n",
    "            job_all = browser.find_elements(By.XPATH, \"//a[@class = 'disabled ember-view job-card-container__link job-card-list__title']\")\n",
    "            list_job_oke = [i for i in job_all if search_term in i.text.lower()]\n",
    "\n",
    "            # For looping untuk \"list job oke\" (job yang sesuai dengan search term)\n",
    "            for job in list_job_oke:\n",
    "                job.click()\n",
    "                time.sleep(1)\n",
    "\n",
    "                job_name = browser.find_element(By.XPATH, \"//h2[@class = 't-16 t-black t-bold truncate']\").text\n",
    "                company = browser.find_element(By.XPATH, \"//span[@class = 'jobs-unified-top-card__subtitle-primary-grouping mr2 t-black']/span\").text\n",
    "                lokasi = browser.find_element(By.XPATH, \"//span[@class = 'jobs-unified-top-card__bullet']\").text\n",
    "\n",
    "                icon = browser.find_elements(By.XPATH, \"//div[starts-with (@class, 'ivm-image-view-model')]/div/li-icon\")\n",
    "                list_icon = [i.get_attribute(\"type\") for i in icon]\n",
    "                if \"lightbulb\" in list_icon:\n",
    "                    list_icon.remove(\"lightbulb\")\n",
    "\n",
    "                keterangan = browser.find_elements(By.XPATH, \"//div[@class = 'jobs-unified-top-card__job-insight']\")\n",
    "                list_keterangan = [k.text for k in keterangan]\n",
    "\n",
    "                icon_keterangan = dict(zip(list_icon, list_keterangan))\n",
    "\n",
    "                df = df.append({\"job_name\": job_name, \"company\": company, \"lokasi\": lokasi, \n",
    "                                \"icon_keterangan\": icon_keterangan}, ignore_index = True)\n",
    "\n",
    "    return df"
   ]
  },
  {
   "cell_type": "code",
   "execution_count": null,
   "metadata": {},
   "outputs": [],
   "source": [
    "start_time = datetime.now()\n",
    "\n",
    "search_term_list = [\"data scientist\", \"data analyst\", \"data engineer\"]\n",
    "hasil = job_linkedin_list(search_term_list, \"indonesia\")\n",
    "\n",
    "end_time = datetime.now()\n",
    "print(\"Durasi Scraping: {}\".format(end_time - start_time))"
   ]
  },
  {
   "cell_type": "code",
   "execution_count": null,
   "metadata": {},
   "outputs": [],
   "source": [
    "len(hasil)"
   ]
  },
  {
   "cell_type": "code",
   "execution_count": null,
   "metadata": {},
   "outputs": [],
   "source": [
    "# Save to csv\n",
    "hasil.to_csv(\"Scraping Profesi Data (Linkedin).csv\", index = False)\n",
    "\n",
    "# Data diambil tanggal 4 Nov 2021"
   ]
  },
  {
   "cell_type": "code",
   "execution_count": null,
   "metadata": {},
   "outputs": [],
   "source": [
    "browser.close()"
   ]
  },
  {
   "cell_type": "code",
   "execution_count": null,
   "metadata": {},
   "outputs": [],
   "source": [
    "# Membaca data yang sudah disimpan\n",
    "df = pd.read_csv(\"Scraping Profesi Data (Linkedin).csv\")\n",
    "df.head()"
   ]
  }
 ],
 "metadata": {
  "kernelspec": {
   "display_name": "Python 3",
   "language": "python",
   "name": "python3"
  },
  "language_info": {
   "codemirror_mode": {
    "name": "ipython",
    "version": 3
   },
   "file_extension": ".py",
   "mimetype": "text/x-python",
   "name": "python",
   "nbconvert_exporter": "python",
   "pygments_lexer": "ipython3",
   "version": "3.8.3"
  }
 },
 "nbformat": 4,
 "nbformat_minor": 4
}
