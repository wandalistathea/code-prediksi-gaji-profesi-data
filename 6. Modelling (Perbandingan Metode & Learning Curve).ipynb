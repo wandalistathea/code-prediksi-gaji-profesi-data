{
 "cells": [
  {
   "cell_type": "markdown",
   "metadata": {},
   "source": [
    "# Modelling (Perbandingan Metode & Learning Curve)"
   ]
  },
  {
   "cell_type": "code",
   "execution_count": null,
   "metadata": {},
   "outputs": [],
   "source": [
    "import pandas as pd\n",
    "import numpy as np\n",
    "import json\n",
    "import matplotlib.pyplot as plt"
   ]
  },
  {
   "cell_type": "code",
   "execution_count": null,
   "metadata": {
    "scrolled": false
   },
   "outputs": [],
   "source": [
    "data_oke = pd.read_csv(\"Data Gabungan Hasil Preprocessing Tahap 2 (3 Profesi).csv\")\n",
    "data_oke.tail()"
   ]
  },
  {
   "cell_type": "markdown",
   "metadata": {},
   "source": [
    "# K-Fold Cross Validation"
   ]
  },
  {
   "cell_type": "code",
   "execution_count": null,
   "metadata": {},
   "outputs": [],
   "source": [
    "# Kalau pakai k-fold cross validation berarti langsung pakai semua data\n",
    "X = data_oke.drop(\"median_gaji\", axis = 1)\n",
    "y = data_oke[\"median_gaji\"]"
   ]
  },
  {
   "cell_type": "code",
   "execution_count": null,
   "metadata": {},
   "outputs": [],
   "source": [
    "len(y)"
   ]
  },
  {
   "cell_type": "markdown",
   "metadata": {},
   "source": [
    "# Modelling"
   ]
  },
  {
   "cell_type": "markdown",
   "metadata": {},
   "source": [
    "### A. Pakai Data Asli (Tanpa Resampling) -> Untuk Perbandingan 3 Metode"
   ]
  },
  {
   "cell_type": "markdown",
   "metadata": {},
   "source": [
    "### 1. Decision Tree"
   ]
  },
  {
   "cell_type": "code",
   "execution_count": null,
   "metadata": {},
   "outputs": [],
   "source": [
    "len(X)\n",
    "len(y)"
   ]
  },
  {
   "cell_type": "code",
   "execution_count": null,
   "metadata": {},
   "outputs": [],
   "source": [
    "from sklearn.tree import DecisionTreeRegressor\n",
    "\n",
    "tree = DecisionTreeRegressor(random_state = 0)\n",
    "\n",
    "# PAKAI CROSS VAL\n",
    "from sklearn.model_selection import cross_val_score\n",
    "r2_tree = cross_val_score(estimator = tree, X = X, y = y, cv = 5)"
   ]
  },
  {
   "cell_type": "code",
   "execution_count": null,
   "metadata": {
    "scrolled": true
   },
   "outputs": [],
   "source": [
    "r2_tree.mean() #-0.23937415266659418"
   ]
  },
  {
   "cell_type": "code",
   "execution_count": null,
   "metadata": {},
   "outputs": [],
   "source": [
    "from sklearn.model_selection import GridSearchCV\n",
    "\n",
    "tree_x = DecisionTreeRegressor(random_state = 0)\n",
    "param_grid = {\"max_depth\": list(range(11)), \n",
    "              \"criterion\": [\"mse\", \"friedman_mse\", \"mae\"], \n",
    "              \"max_features\": [\"auto\", \"sqrt\", \"log2\"], \n",
    "              \"min_samples_split\": list(range(6))}\n",
    "\n",
    "grid_search_x = GridSearchCV(tree_x, param_grid, n_jobs = 2, verbose = 1, cv = 5)\n",
    "\n",
    "grid_search_x.fit(X, y)"
   ]
  },
  {
   "cell_type": "code",
   "execution_count": null,
   "metadata": {},
   "outputs": [],
   "source": [
    "grid_search_x.best_params_"
   ]
  },
  {
   "cell_type": "code",
   "execution_count": null,
   "metadata": {},
   "outputs": [],
   "source": [
    "# Ini nilai score test (R2)-nya\n",
    "grid_search_x.best_score_ # Mean cross-validated score of the best_estimator"
   ]
  },
  {
   "cell_type": "code",
   "execution_count": null,
   "metadata": {
    "scrolled": true
   },
   "outputs": [],
   "source": [
    "# COBA BUAT MODEL BERDASARKAN \"best_params_\"\n",
    "tree_x1 = DecisionTreeRegressor(random_state = 0, \n",
    "                                criterion = 'mae',\n",
    "                                max_depth = 2,\n",
    "                                max_features = 'sqrt',\n",
    "                                min_samples_split = 2)"
   ]
  },
  {
   "cell_type": "code",
   "execution_count": null,
   "metadata": {
    "scrolled": true
   },
   "outputs": [],
   "source": [
    "# PAKAI CROSS VAL\n",
    "from sklearn.model_selection import cross_val_score\n",
    "from numpy import mean\n",
    "from numpy import absolute\n",
    "\n",
    "r2_tree_x1 = cross_val_score(estimator = tree_x1, X = X, y = y, cv = 5, scoring  ='r2')\n",
    "nrmse_tree_x1 = cross_val_score(estimator = tree_x1, X = X, y = y, cv = 5, scoring  ='neg_root_mean_squared_error')\n",
    "nmape_tree_x1 = cross_val_score(estimator = tree_x1, X = X, y = y, cv = 5, scoring  ='neg_mean_absolute_percentage_error')\n",
    "\n",
    "r2_tree_x1 = mean(r2_tree_x1)\n",
    "rmse_tree_x1 = mean(absolute(nrmse_tree_x1))\n",
    "mape_tree_x1 = mean(absolute(nmape_tree_x1))"
   ]
  },
  {
   "cell_type": "code",
   "execution_count": null,
   "metadata": {},
   "outputs": [],
   "source": [
    "print(\"R2 TREE:\", r2_tree_x1)\n",
    "print(\"RMSE TREE:\", rmse_tree_x1)\n",
    "print(\"MAPE TREE:\", mape_tree_x1)"
   ]
  },
  {
   "cell_type": "markdown",
   "metadata": {},
   "source": [
    "### 2. Random Forest"
   ]
  },
  {
   "cell_type": "code",
   "execution_count": null,
   "metadata": {},
   "outputs": [],
   "source": [
    "from sklearn.ensemble import RandomForestRegressor\n",
    "\n",
    "random_forest = RandomForestRegressor(random_state = 0)\n",
    "\n",
    "# PAKAI CROSS VAL\n",
    "from sklearn.model_selection import cross_val_score\n",
    "r2_rf = cross_val_score(estimator = random_forest, X = X, y = y, cv = 5)"
   ]
  },
  {
   "cell_type": "code",
   "execution_count": null,
   "metadata": {},
   "outputs": [],
   "source": [
    "r2_rf.mean()"
   ]
  },
  {
   "cell_type": "code",
   "execution_count": null,
   "metadata": {},
   "outputs": [],
   "source": [
    "from sklearn.model_selection import GridSearchCV, RandomizedSearchCV\n",
    "\n",
    "random_forest_x = RandomForestRegressor(random_state = 0)\n",
    "param_grid = {\"n_estimators\": list(range(100, 131)),\n",
    "              \"criterion\": [\"squared_error\", \"absolute_error\"],\n",
    "              \"max_depth\": list(range(11)), \n",
    "              \"max_features\": [\"auto\", \"sqrt\", \"log2\"], \n",
    "              \"min_samples_split\": list(range(2, 16))}\n",
    "\n",
    "# grid_search_x1 = GridSearchCV(random_forest_x, param_grid, n_jobs = 2, verbose = 1, cv = 5)\n",
    "# grid_search_x1.fit(X, y)\n",
    "\n",
    "random_search_x = RandomizedSearchCV(random_forest_x, param_grid, cv = 5, n_jobs = 2, verbose = 1, \n",
    "                                     n_iter = 1000, random_state = 0)\n",
    "# Harusnya kandidatnya ada banyak, tapi n_iter = 1000 jadi cuma pilih 1000 saja\n",
    "random_search_x.fit(X, y)"
   ]
  },
  {
   "cell_type": "code",
   "execution_count": null,
   "metadata": {},
   "outputs": [],
   "source": [
    "random_search_x.best_params_"
   ]
  },
  {
   "cell_type": "code",
   "execution_count": null,
   "metadata": {},
   "outputs": [],
   "source": [
    "random_search_x.best_score_"
   ]
  },
  {
   "cell_type": "code",
   "execution_count": null,
   "metadata": {
    "scrolled": true
   },
   "outputs": [],
   "source": [
    "# COBA BUAT MODEL BERDASARKAN \"best_params_\"\n",
    "random_forest_x1 = RandomForestRegressor(random_state = 0, \n",
    "                                         n_estimators = 127,\n",
    "                                         min_samples_split = 11,\n",
    "                                         max_features = 'auto',\n",
    "                                         max_depth = 3,\n",
    "                                         criterion = 'absolute_error')"
   ]
  },
  {
   "cell_type": "code",
   "execution_count": null,
   "metadata": {
    "scrolled": true
   },
   "outputs": [],
   "source": [
    "# PAKAI CROSS VAL\n",
    "from sklearn.model_selection import cross_val_score\n",
    "from numpy import mean\n",
    "from numpy import absolute\n",
    "\n",
    "r2_rf_x1 = cross_val_score(estimator = random_forest_x1, X = X, y = y, cv = 5, scoring  ='r2')\n",
    "nrmse_rf_x1 = cross_val_score(estimator = random_forest_x1, X = X, y = y, cv = 5, scoring  ='neg_root_mean_squared_error')\n",
    "nmape_rf_x1 = cross_val_score(estimator = random_forest_x1, X = X, y = y, cv = 5, scoring  ='neg_mean_absolute_percentage_error')\n",
    "\n",
    "r2_rf_x1 = mean(r2_rf_x1)\n",
    "rmse_rf_x1 = mean(absolute(nrmse_rf_x1))\n",
    "mape_rf_x1 = mean(absolute(nmape_rf_x1))"
   ]
  },
  {
   "cell_type": "code",
   "execution_count": null,
   "metadata": {},
   "outputs": [],
   "source": [
    "print(\"R2 RANDOM FOREST:\", r2_rf_x1)\n",
    "print(\"RMSE RANDOM FOREST:\", rmse_rf_x1)\n",
    "print(\"MAPE RANDOM FOREST:\", mape_rf_x1)"
   ]
  },
  {
   "cell_type": "markdown",
   "metadata": {},
   "source": [
    "### 3. Support Vector Regression (SVR)"
   ]
  },
  {
   "cell_type": "code",
   "execution_count": null,
   "metadata": {},
   "outputs": [],
   "source": [
    "from sklearn.svm import SVR\n",
    "\n",
    "svr = SVR()\n",
    "\n",
    "# PAKAI CROSS VAL\n",
    "from sklearn.model_selection import cross_val_score\n",
    "r2_svr = cross_val_score(estimator = svr, X = X, y = y, cv = 5)"
   ]
  },
  {
   "cell_type": "code",
   "execution_count": null,
   "metadata": {},
   "outputs": [],
   "source": [
    "r2_svr.mean()"
   ]
  },
  {
   "cell_type": "code",
   "execution_count": null,
   "metadata": {},
   "outputs": [],
   "source": [
    "from sklearn.model_selection import GridSearchCV, RandomizedSearchCV\n",
    "\n",
    "svr_x = SVR()\n",
    "param_grid = {\"gamma\": np.logspace(-2, 2, 20), \n",
    "              \"C\": np.logspace(-2, 2, 20)}\n",
    "\n",
    "grid_search_x2 = GridSearchCV(svr_x, param_grid, n_jobs = 2, verbose = 1, cv = 5)\n",
    "grid_search_x2.fit(X, y)"
   ]
  },
  {
   "cell_type": "code",
   "execution_count": null,
   "metadata": {
    "scrolled": true
   },
   "outputs": [],
   "source": [
    "grid_search_x2.best_params_"
   ]
  },
  {
   "cell_type": "code",
   "execution_count": null,
   "metadata": {},
   "outputs": [],
   "source": [
    "grid_search_x2.best_score_"
   ]
  },
  {
   "cell_type": "code",
   "execution_count": null,
   "metadata": {
    "scrolled": true
   },
   "outputs": [],
   "source": [
    "# COBA BUAT MODEL BERDASARKAN \"best_params_\"\n",
    "svr_x1 = SVR(C = 100.0, \n",
    "             gamma = 0.11288378916846889)"
   ]
  },
  {
   "cell_type": "code",
   "execution_count": null,
   "metadata": {
    "scrolled": true
   },
   "outputs": [],
   "source": [
    "# PAKAI CROSS VAL\n",
    "from sklearn.model_selection import cross_val_score\n",
    "from numpy import mean\n",
    "from numpy import absolute\n",
    "\n",
    "r2_svr_x1 = cross_val_score(estimator = svr_x1, X = X, y = y, cv = 5, scoring  ='r2')\n",
    "nrmse_svr_x1 = cross_val_score(estimator = svr_x1, X = X, y = y, cv = 5, scoring  ='neg_root_mean_squared_error')\n",
    "nmape_svr_x1 = cross_val_score(estimator = svr_x1, X = X, y = y, cv = 5, scoring  ='neg_mean_absolute_percentage_error')\n",
    "\n",
    "r2_svr_x1 = mean(r2_svr_x1)\n",
    "rmse_svr_x1 = mean(absolute(nrmse_svr_x1))\n",
    "mape_svr_x1 = mean(absolute(nmape_svr_x1))"
   ]
  },
  {
   "cell_type": "code",
   "execution_count": null,
   "metadata": {
    "scrolled": true
   },
   "outputs": [],
   "source": [
    "print(\"R2 SVR:\", r2_svr_x1)\n",
    "print(\"RMSE SVR:\", rmse_svr_x1)\n",
    "print(\"MAPE SVR:\", mape_svr_x1)"
   ]
  },
  {
   "cell_type": "markdown",
   "metadata": {},
   "source": [
    "### B. Random Oversampling (Learning Curve) -> Bandingkannya dengan Model Random Forest Hasil Tuning"
   ]
  },
  {
   "cell_type": "code",
   "execution_count": null,
   "metadata": {},
   "outputs": [],
   "source": [
    "# Coba liHat dengan berbagai jumlah sampel pada oversampling\n",
    "\n",
    "def learning_curve(data, observations = range(37, 101)):\n",
    "    r2_rf = []\n",
    "    rmse_rf = []\n",
    "    mape_rf = []\n",
    "    \n",
    "    for n in observations:\n",
    "        if n == 37:\n",
    "            s1 = data[data[\"job_name\"] == \"data analyst\"]\n",
    "            s2 = data[data[\"job_name\"] == \"data engineer\"].sample(n, replace = True, random_state = 0)\n",
    "            s3 = data[data[\"job_name\"] == \"data scientist\"].sample(n, replace = True, random_state = 0)\n",
    "        else:\n",
    "            s1 = data[data[\"job_name\"] == \"data analyst\"].sample(n, replace = True, random_state = 0)\n",
    "            s2 = data[data[\"job_name\"] == \"data engineer\"].sample(n, replace = True, random_state = 0)\n",
    "            s3 = data[data[\"job_name\"] == \"data scientist\"].sample(n, replace = True, random_state = 0)\n",
    "\n",
    "        data_resampling = pd.concat([s1, s2, s3])\n",
    "        data_oke = data_resampling.copy()\n",
    "        \n",
    "        #--------------- Handling Categorical Data\n",
    "        \n",
    "        # NOMINAL\n",
    "        # \"job_name\", \"lokasi\", \"industri\"\n",
    "        nominal_cols = data_oke[[\"job_name\", \"lokasi\", \"industri\"]]\n",
    "        encoded_nominal = pd.get_dummies(data = nominal_cols)\n",
    "        # Gabungkan ke data asli\n",
    "        data_oke = pd.concat(objs = [encoded_nominal, data_oke], axis = 1)\n",
    "        data_oke.drop(nominal_cols, axis = 1, inplace = True)\n",
    "        \n",
    "        # ORDINAL\n",
    "        #import category_encoders as ce\n",
    "        # 1. \"tingkat_job\"\n",
    "        encoder_tingkat_job = ce.OrdinalEncoder(cols = [\"tingkat_job\"], return_df = True, \n",
    "                                                mapping = [{\"col\": \"tingkat_job\", \n",
    "                                                            \"mapping\": {\"magang\": 0, \"tingkat pemula\": 1, \"asosiasi\": 2, \n",
    "                                                                        \"senior tingkat menengah\": 3, \"direktur\": 4, \"eksekutif\": 5}}])\n",
    "        data_oke[\"tingkat_job\"] = encoder_tingkat_job.fit_transform(data_oke[\"tingkat_job\"])\n",
    "        # 2. \"ukuran_company\"\n",
    "        encoder_ukuran_company = ce.OrdinalEncoder(cols = [\"ukuran_company\"], return_df = True, \n",
    "                                                   mapping = [{\"col\": \"ukuran_company\", \n",
    "                                                               \"mapping\": {\"1-50 pekerja\": 0, \"51-200 pekerja\": 1, \"201-500 pekerja\": 2,\n",
    "                                                                           \"501-1.000 pekerja\": 3, \"1.001-5.000 pekerja\": 4, \">5.000 pekerja\": 5}}])\n",
    "        data_oke[\"ukuran_company\"] = encoder_ukuran_company.fit_transform(data_oke[\"ukuran_company\"])\n",
    "\n",
    "        #--------------- Target Engineering\n",
    "        \n",
    "        #from scipy import stats\n",
    "        #import matplotlib.pyplot as plt\n",
    "        #import seaborn as sns\n",
    "        \n",
    "        #perform Box-Cox transformation on original data\n",
    "        transformed_data, best_lambda = stats.boxcox(data_oke[\"median_gaji\"]) \n",
    "        # Transformasikan\n",
    "        data_oke[\"median_gaji\"] = transformed_data\n",
    "        \n",
    "        #--------------- K-Fold Cross Validation\n",
    "        \n",
    "        # Kalau pakai k-fold cross validation berarti langsung pakai semua data\n",
    "        X = data_oke.drop(\"median_gaji\", axis = 1)\n",
    "        y = data_oke[\"median_gaji\"]\n",
    "    \n",
    "        #--------------- Modelling Random Forest\n",
    "        #from sklearn.model_selection import GridSearchCV, RandomizedSearchCV\n",
    "        \n",
    "        random_forest_x1 = RandomForestRegressor(random_state = 0, \n",
    "                                         n_estimators = 127,\n",
    "                                         min_samples_split = 11,\n",
    "                                         max_features = 'auto',\n",
    "                                         max_depth = 3,\n",
    "                                         criterion = 'absolute_error')\n",
    "        \n",
    "        r2_rf_x1 = cross_val_score(estimator = random_forest_x1, X = X, y = y, cv = 5, scoring  ='r2')\n",
    "        nrmse_rf_x1 = cross_val_score(estimator = random_forest_x1, X = X, y = y, cv = 5, scoring  ='neg_root_mean_squared_error')\n",
    "        nmape_rf_x1 = cross_val_score(estimator = random_forest_x1, X = X, y = y, cv = 5, scoring  ='neg_mean_absolute_percentage_error')\n",
    "\n",
    "        r2_rf_x1 = mean(r2_rf_x1)\n",
    "        rmse_rf_x1 = mean(absolute(nrmse_rf_x1))\n",
    "        mape_rf_x1 = mean(absolute(nmape_rf_x1))\n",
    "        \n",
    "        r2_rf.append(r2_rf_x1)\n",
    "        rmse_rf.append(rmse_rf_x1)\n",
    "        mape_rf.append(mape_rf_x1)\n",
    "        \n",
    "        df = pd.DataFrame(list(zip(r2_rf, rmse_rf,  mape_rf)), columns = [\"r2_rf\", \"rmse_rf\", \"mape_rf\"])\n",
    "        \n",
    "    return df"
   ]
  },
  {
   "cell_type": "code",
   "execution_count": null,
   "metadata": {},
   "outputs": [],
   "source": [
    "len(data)"
   ]
  },
  {
   "cell_type": "code",
   "execution_count": null,
   "metadata": {},
   "outputs": [],
   "source": [
    "from datetime import datetime\n",
    "start_time = datetime.now()\n",
    "\n",
    "score_lc = learning_curve(data, observations = range(37, 201))\n",
    "\n",
    "end_time = datetime.now()\n",
    "print(\"Durasi Learning Curve: {}\".format(end_time - start_time))"
   ]
  },
  {
   "cell_type": "code",
   "execution_count": null,
   "metadata": {
    "scrolled": true
   },
   "outputs": [],
   "source": [
    "score_lc"
   ]
  },
  {
   "cell_type": "code",
   "execution_count": null,
   "metadata": {
    "scrolled": true
   },
   "outputs": [],
   "source": [
    "# Grafik R2\n",
    "plt.plot(range(37, 201), score_lc[\"r2_rf\"], linewidth = 4)\n",
    "plt.title(\"Over Sampling Learning Curve (R2)\", fontsize = 16)\n",
    "plt.gca().set_xlabel(\"# of Points per Class\", fontsize = 14)\n",
    "plt.gca().set_ylabel(\"Cross Val R2\", fontsize = 14)\n",
    "sns.despine()\n",
    "pass"
   ]
  },
  {
   "cell_type": "code",
   "execution_count": null,
   "metadata": {
    "scrolled": true
   },
   "outputs": [],
   "source": [
    "# Grafik RMSE\n",
    "plt.plot(range(37, 201), score_lc[\"rmse_rf\"], linewidth = 4)\n",
    "plt.title(\"Over Sampling Learning Curve (RMSE)\", fontsize = 16)\n",
    "plt.gca().set_xlabel(\"# of Points per Class\", fontsize = 14)\n",
    "plt.gca().set_ylabel(\"Cross Val RMSE\", fontsize = 14)\n",
    "sns.despine()\n",
    "pass"
   ]
  },
  {
   "cell_type": "code",
   "execution_count": null,
   "metadata": {
    "scrolled": true
   },
   "outputs": [],
   "source": [
    "# Grafik MAPE\n",
    "plt.plot(range(37, 201), score_lc[\"mape_rf\"], linewidth = 4)\n",
    "plt.title(\"Over Sampling Learning Curve (MAPE)\", fontsize = 16)\n",
    "plt.gca().set_xlabel(\"# of Points per Class\", fontsize = 14)\n",
    "plt.gca().set_ylabel(\"Cross Val MAPE\", fontsize = 14)\n",
    "sns.despine()\n",
    "pass"
   ]
  },
  {
   "cell_type": "code",
   "execution_count": null,
   "metadata": {},
   "outputs": [],
   "source": [
    "# Dari grafik R2, RMSE, MAPE, mugkin bisa diambil resampling antara 37 s.d. 105 saja"
   ]
  },
  {
   "cell_type": "code",
   "execution_count": null,
   "metadata": {
    "scrolled": true
   },
   "outputs": [],
   "source": [
    "plt.plot(range(37, 106), score_lc[0:69][\"r2_rf\"], linewidth = 4)\n",
    "plt.title(\"Over Sampling Learning Curve (R2)\", fontsize = 16)\n",
    "plt.gca().set_xlabel(\"# of Points per Class\", fontsize = 14)\n",
    "plt.gca().set_ylabel(\"Cross Val R2\", fontsize = 14)\n",
    "sns.despine()\n",
    "pass\n",
    "\n",
    "# Coba pakai 100 saja"
   ]
  },
  {
   "cell_type": "code",
   "execution_count": null,
   "metadata": {
    "scrolled": true
   },
   "outputs": [],
   "source": [
    "plt.plot(range(37, 106), score_lc[0:69][\"rmse_rf\"], linewidth = 4)\n",
    "plt.title(\"Over Sampling Learning Curve (RMSE)\", fontsize = 16)\n",
    "plt.gca().set_xlabel(\"# of Points per Class\", fontsize = 14)\n",
    "plt.gca().set_ylabel(\"Cross Val RMSE\", fontsize = 14)\n",
    "sns.despine()\n",
    "pass\n",
    "\n",
    "# Coba pakai 100 saja"
   ]
  },
  {
   "cell_type": "code",
   "execution_count": null,
   "metadata": {
    "scrolled": true
   },
   "outputs": [],
   "source": [
    "plt.plot(range(37, 106), score_lc[0:69][\"mape_rf\"], linewidth = 4)\n",
    "plt.title(\"Over Sampling Learning Curve (MAPE)\", fontsize = 16)\n",
    "plt.gca().set_xlabel(\"# of Points per Class\", fontsize = 14)\n",
    "plt.gca().set_ylabel(\"Cross Val MAPE\", fontsize = 14)\n",
    "sns.despine()\n",
    "pass\n",
    "\n",
    "# Coba pakai 100 saja"
   ]
  },
  {
   "cell_type": "code",
   "execution_count": null,
   "metadata": {},
   "outputs": [],
   "source": [
    "# InsyaAlloh oversampling-nya pakai n = 100"
   ]
  }
 ],
 "metadata": {
  "kernelspec": {
   "display_name": "Python 3",
   "language": "python",
   "name": "python3"
  },
  "language_info": {
   "codemirror_mode": {
    "name": "ipython",
    "version": 3
   },
   "file_extension": ".py",
   "mimetype": "text/x-python",
   "name": "python",
   "nbconvert_exporter": "python",
   "pygments_lexer": "ipython3",
   "version": "3.8.3"
  }
 },
 "nbformat": 4,
 "nbformat_minor": 4
}
