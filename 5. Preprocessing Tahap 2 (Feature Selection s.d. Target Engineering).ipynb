{
 "cells": [
  {
   "cell_type": "markdown",
   "metadata": {},
   "source": [
    "# Preprocessing Tahap 2 (Feature Selection s.d. Target Engineering)"
   ]
  },
  {
   "cell_type": "code",
   "execution_count": null,
   "metadata": {},
   "outputs": [],
   "source": [
    "import pandas as pd\n",
    "import numpy as np\n",
    "import json\n",
    "import matplotlib.pyplot as plt"
   ]
  },
  {
   "cell_type": "code",
   "execution_count": null,
   "metadata": {
    "scrolled": true
   },
   "outputs": [],
   "source": [
    "data = pd.read_csv(\"Data Gabungan dari Linkedin dan Jobstreet (3 Profesi).csv\")\n",
    "data.tail()"
   ]
  },
  {
   "cell_type": "code",
   "execution_count": null,
   "metadata": {},
   "outputs": [],
   "source": [
    "data.info()"
   ]
  },
  {
   "cell_type": "code",
   "execution_count": null,
   "metadata": {
    "scrolled": true
   },
   "outputs": [],
   "source": [
    "def summarize_features(df):\n",
    "    # first column will be data types of each feature\n",
    "    summary = pd.DataFrame(df.dtypes, columns = ['dtypes'])\n",
    "    summary = summary.reset_index()\n",
    "    # how many missing values in each feature\n",
    "    summary['Missing'] = df.isnull().sum().values\n",
    "    # how many unique values in each feature (cardinality indicator)\n",
    "    summary['Uniques'] = df.nunique().values\n",
    "\n",
    "    return summary\n",
    "\n",
    "summarize_features(data)"
   ]
  },
  {
   "cell_type": "code",
   "execution_count": null,
   "metadata": {},
   "outputs": [],
   "source": [
    "len(data)"
   ]
  },
  {
   "cell_type": "code",
   "execution_count": null,
   "metadata": {},
   "outputs": [],
   "source": [
    "data.drop([\"company\", \"gaji\", \"sumber\"], axis = 1, inplace = True)"
   ]
  },
  {
   "cell_type": "code",
   "execution_count": null,
   "metadata": {},
   "outputs": [],
   "source": [
    "data.columns"
   ]
  },
  {
   "cell_type": "code",
   "execution_count": null,
   "metadata": {},
   "outputs": [],
   "source": [
    "# subset -> Define in which columns to look for missing values\n",
    "\n",
    "data.dropna(subset = [\"median_gaji\"], inplace = True)"
   ]
  },
  {
   "cell_type": "code",
   "execution_count": null,
   "metadata": {},
   "outputs": [],
   "source": [
    "len(data)"
   ]
  },
  {
   "cell_type": "code",
   "execution_count": null,
   "metadata": {},
   "outputs": [],
   "source": [
    "data.groupby([\"job_name\"]).size()"
   ]
  },
  {
   "cell_type": "code",
   "execution_count": null,
   "metadata": {},
   "outputs": [],
   "source": [
    "data_awal = data.copy()"
   ]
  },
  {
   "cell_type": "code",
   "execution_count": null,
   "metadata": {
    "scrolled": true
   },
   "outputs": [],
   "source": [
    "len(data_awal) # \"data_awal\" yang disimpan aja, \"data\" dipakai di bawah2nya"
   ]
  },
  {
   "cell_type": "code",
   "execution_count": null,
   "metadata": {},
   "outputs": [],
   "source": [
    "data_awal.rename(columns = {\"job_name\": \"Nama Profesi Data\",\n",
    "                       \"lokasi\": \"Lokasi Perusahaan\", \n",
    "                       \"tingkat_job\": \"Tingkat Pekerjaan\", \n",
    "                       \"lama_pengalaman\": \"Lama Pengalaman\",\n",
    "                       \"jenis_job\": \"Jenis Pekerjaan\", \n",
    "                       \"ukuran_company\": \"Ukuran Perusahaan\", \n",
    "                       \"industri\": \"Industri\", \n",
    "                       \"median_gaji\": \"Gaji\"}, inplace=True)"
   ]
  },
  {
   "cell_type": "code",
   "execution_count": null,
   "metadata": {
    "scrolled": true
   },
   "outputs": [],
   "source": [
    "#!pip install dython"
   ]
  },
  {
   "cell_type": "code",
   "execution_count": null,
   "metadata": {
    "scrolled": true
   },
   "outputs": [],
   "source": [
    "# KORELASI\n",
    "from dython import nominal\n",
    "nominal.associations(data_awal, \n",
    "                     nominal_columns = [\"Nama Profesi Data\", \"Lokasi Perusahaan\", \"Tingkat Pekerjaan\", \"Jenis Pekerjaan\", \"Ukuran Perusahaan\", \"Industri\"], \n",
    "                     numerical_columns = [\"Lama Pengalaman\", \"Gaji\"],\n",
    "                     figsize = (13, 12), \n",
    "                     title = \"Korelasi Antar Variabel\",\n",
    "                     filename = \"Hasil Korelasi Dython\")\n",
    "\n",
    "# Coba ambil yang korelasinya >25% dan yang masuk akal\n",
    "# Coba variabel \"jenis_job\" dihapus saja"
   ]
  },
  {
   "cell_type": "code",
   "execution_count": null,
   "metadata": {},
   "outputs": [],
   "source": [
    "data.drop([\"jenis_job\"], axis = 1, inplace = True)"
   ]
  },
  {
   "cell_type": "code",
   "execution_count": null,
   "metadata": {},
   "outputs": [],
   "source": [
    "summarize_features(data)"
   ]
  },
  {
   "cell_type": "markdown",
   "metadata": {},
   "source": [
    "# Handling Missing Value"
   ]
  },
  {
   "cell_type": "markdown",
   "metadata": {},
   "source": [
    "### 1. Menangani Missing Value di \"ukuran_company\""
   ]
  },
  {
   "cell_type": "code",
   "execution_count": null,
   "metadata": {},
   "outputs": [],
   "source": [
    "# Coba berdasarkan variabel -> \"job_name\"\n",
    "\n",
    "import statistics\n",
    "\n",
    "count_ukuran_company1 = data.groupby([\"job_name\"])[\"ukuran_company\"].count()\n",
    "mode_ukuran_company1 = data[data[\"ukuran_company\"].notna()].groupby([\"job_name\"])[\"ukuran_company\"].apply(statistics.mode)\n",
    "len(mode_ukuran_company1)"
   ]
  },
  {
   "cell_type": "code",
   "execution_count": null,
   "metadata": {},
   "outputs": [],
   "source": [
    "mode_ukuran_company1"
   ]
  },
  {
   "cell_type": "code",
   "execution_count": null,
   "metadata": {},
   "outputs": [],
   "source": [
    "mode_ukuran_company1.values"
   ]
  },
  {
   "cell_type": "code",
   "execution_count": null,
   "metadata": {},
   "outputs": [],
   "source": [
    "dict_group1a = {}\n",
    "\n",
    "for indeks in mode_ukuran_company1.index:    \n",
    "    group1a = {indeks: mode_ukuran_company1[indeks]}\n",
    "    \n",
    "    dict_group1a.update(group1a)"
   ]
  },
  {
   "cell_type": "code",
   "execution_count": null,
   "metadata": {},
   "outputs": [],
   "source": [
    "missing_ukuran_company1 = data[pd.isna(data[\"ukuran_company\"])]\n",
    "\n",
    "for i in missing_ukuran_company1.index:\n",
    "    for j in dict_group1a.keys():\n",
    "        data_asli = (data[\"job_name\"][i])\n",
    "        \n",
    "        if data_asli == j:\n",
    "            data[\"ukuran_company\"][i] = dict_group1a[j]"
   ]
  },
  {
   "cell_type": "code",
   "execution_count": null,
   "metadata": {},
   "outputs": [],
   "source": [
    "pd.isna(data).sum()"
   ]
  },
  {
   "cell_type": "markdown",
   "metadata": {},
   "source": [
    "### 2. Menangani Missing Value di \"industri\""
   ]
  },
  {
   "cell_type": "code",
   "execution_count": null,
   "metadata": {},
   "outputs": [],
   "source": [
    "# Coba berdasarkan variabel -> \"job_name\"\n",
    "\n",
    "count_industri1 = data.groupby([\"job_name\"])[\"industri\"].count() # Hasilnya adalah banyaknya data yang tidak missing\n",
    "mode_industri1 = data[data[\"industri\"].notna()].groupby([\"job_name\"])[\"industri\"].apply(statistics.mode) # Pakainya modus karena data kategorik\n",
    "len(mode_industri1)"
   ]
  },
  {
   "cell_type": "code",
   "execution_count": null,
   "metadata": {},
   "outputs": [],
   "source": [
    "mode_industri1"
   ]
  },
  {
   "cell_type": "code",
   "execution_count": null,
   "metadata": {},
   "outputs": [],
   "source": [
    "mode_industri1.values"
   ]
  },
  {
   "cell_type": "code",
   "execution_count": null,
   "metadata": {},
   "outputs": [],
   "source": [
    "dict_group2a = {}\n",
    "\n",
    "for indeks in mode_industri1.index:\n",
    "    group2a = {indeks: mode_industri1[indeks]}\n",
    "\n",
    "    dict_group2a.update(group2a)"
   ]
  },
  {
   "cell_type": "code",
   "execution_count": null,
   "metadata": {
    "scrolled": true
   },
   "outputs": [],
   "source": [
    "dict_group2a.values() # Sudah tidak ada yang nan"
   ]
  },
  {
   "cell_type": "code",
   "execution_count": null,
   "metadata": {},
   "outputs": [],
   "source": [
    "missing_industri1 = data[pd.isna(data[\"industri\"])]\n",
    "\n",
    "for i in missing_industri1.index:\n",
    "    for j in dict_group2a.keys():\n",
    "        data_asli = (data[\"job_name\"][i])\n",
    "        \n",
    "        if data_asli == j:\n",
    "            data[\"industri\"][i] = dict_group2a[j]"
   ]
  },
  {
   "cell_type": "code",
   "execution_count": null,
   "metadata": {
    "scrolled": false
   },
   "outputs": [],
   "source": [
    "pd.isna(data).sum()"
   ]
  },
  {
   "cell_type": "markdown",
   "metadata": {},
   "source": [
    "### 3. Menangani Missing Value di \"lama_pengalaman\""
   ]
  },
  {
   "cell_type": "code",
   "execution_count": null,
   "metadata": {},
   "outputs": [],
   "source": [
    "# Coba berdasarkan variabel -> \"job_name\"\n",
    "\n",
    "count_lama_pengalaman1 = data.groupby([\"job_name\"])[\"lama_pengalaman\"].count() # Hasilnya adalah banyaknya data yang tidak missing\n",
    "median_lama_pengalaman1 = data[data[\"lama_pengalaman\"].notna()].groupby([\"job_name\"])[\"lama_pengalaman\"].median() # Pakainya median karena data numerik\n",
    "\n",
    "len(median_lama_pengalaman1)"
   ]
  },
  {
   "cell_type": "code",
   "execution_count": null,
   "metadata": {},
   "outputs": [],
   "source": [
    "median_lama_pengalaman1"
   ]
  },
  {
   "cell_type": "code",
   "execution_count": null,
   "metadata": {},
   "outputs": [],
   "source": [
    "median_lama_pengalaman1.values"
   ]
  },
  {
   "cell_type": "code",
   "execution_count": null,
   "metadata": {},
   "outputs": [],
   "source": [
    "dict_group4a = {}\n",
    "\n",
    "for indeks in median_lama_pengalaman1.index:      \n",
    "    group4a = {indeks: median_lama_pengalaman1[indeks]}\n",
    "\n",
    "    dict_group4a.update(group4a)"
   ]
  },
  {
   "cell_type": "code",
   "execution_count": null,
   "metadata": {},
   "outputs": [],
   "source": [
    "missing_lama_pengalaman1 = data[pd.isna(data[\"lama_pengalaman\"])]\n",
    "\n",
    "for i in missing_lama_pengalaman1.index:\n",
    "    for j in dict_group4a.keys():\n",
    "        data_asli = (data[\"job_name\"][i])\n",
    "        \n",
    "        if data_asli == j:\n",
    "            data[\"lama_pengalaman\"][i] = dict_group4a[j]"
   ]
  },
  {
   "cell_type": "code",
   "execution_count": null,
   "metadata": {
    "scrolled": true
   },
   "outputs": [],
   "source": [
    "pd.isna(data).sum() "
   ]
  },
  {
   "cell_type": "code",
   "execution_count": null,
   "metadata": {
    "scrolled": true
   },
   "outputs": [],
   "source": [
    "data.groupby([\"job_name\"]).size()"
   ]
  },
  {
   "cell_type": "markdown",
   "metadata": {},
   "source": [
    "# Handling Categorical Data"
   ]
  },
  {
   "cell_type": "code",
   "execution_count": null,
   "metadata": {},
   "outputs": [],
   "source": [
    "data_oke = data.copy()\n",
    "data_oke[\"job_name\"].value_counts()"
   ]
  },
  {
   "cell_type": "code",
   "execution_count": null,
   "metadata": {},
   "outputs": [],
   "source": [
    "summarize_features(data_oke)"
   ]
  },
  {
   "cell_type": "code",
   "execution_count": null,
   "metadata": {},
   "outputs": [],
   "source": [
    "data_oke.info()"
   ]
  },
  {
   "cell_type": "code",
   "execution_count": null,
   "metadata": {},
   "outputs": [],
   "source": [
    "# NOMINAL -> \"job_name\", \"lokasi\", \"industri\" (nanti pakai get_dummies)\n",
    "# ORDINAL -> \"tingkat_job\", \"ukuran_company\" (nanti pakai OrdinalEncoder)"
   ]
  },
  {
   "cell_type": "code",
   "execution_count": null,
   "metadata": {
    "scrolled": true
   },
   "outputs": [],
   "source": [
    "# NOMINAL\n",
    "\n",
    "# \"job_name\", \"lokasi\", \"industri\"\n",
    "nominal_cols = data_oke[[\"job_name\", \"lokasi\", \"industri\"]]\n",
    "encoded_nominal = pd.get_dummies(data = nominal_cols)\n",
    "\n",
    "# Gabungkan ke data asli\n",
    "data_oke = pd.concat(objs = [encoded_nominal, data_oke], axis = 1)\n",
    "data_oke.drop(nominal_cols, axis = 1, inplace = True)\n",
    "data_oke.head(2)"
   ]
  },
  {
   "cell_type": "code",
   "execution_count": null,
   "metadata": {},
   "outputs": [],
   "source": [
    "#!pip install category_encoders"
   ]
  },
  {
   "cell_type": "code",
   "execution_count": null,
   "metadata": {},
   "outputs": [],
   "source": [
    "# ORDINAL\n",
    "import category_encoders as ce\n",
    "\n",
    "# 1. \"tingkat_job\"\n",
    "encoder_tingkat_job = ce.OrdinalEncoder(cols = [\"tingkat_job\"], return_df = True, \n",
    "                                        mapping = [{\"col\": \"tingkat_job\", \n",
    "                                                    \"mapping\": {\"magang\": 0, \"tingkat pemula\": 1, \"asosiasi\": 2, \n",
    "                                                                \"senior tingkat menengah\": 3, \"direktur\": 4, \"eksekutif\": 5}}])\n",
    "\n",
    "data_oke[\"tingkat_job\"] = encoder_tingkat_job.fit_transform(data_oke[\"tingkat_job\"])\n",
    "\n",
    "# 2. \"ukuran_company\"\n",
    "encoder_ukuran_company = ce.OrdinalEncoder(cols = [\"ukuran_company\"], return_df = True, \n",
    "                                           mapping = [{\"col\": \"ukuran_company\", \n",
    "                                                       \"mapping\": {\"1-50 pekerja\": 0, \"51-200 pekerja\": 1, \"201-500 pekerja\": 2,\n",
    "                                                                   \"501-1.000 pekerja\": 3, \"1.001-5.000 pekerja\": 4, \">5.000 pekerja\": 5}}])\n",
    "\n",
    "data_oke[\"ukuran_company\"] = encoder_ukuran_company.fit_transform(data_oke[\"ukuran_company\"])"
   ]
  },
  {
   "cell_type": "code",
   "execution_count": null,
   "metadata": {},
   "outputs": [],
   "source": [
    "data_oke.head(2)"
   ]
  },
  {
   "cell_type": "markdown",
   "metadata": {},
   "source": [
    "# Target Engineering"
   ]
  },
  {
   "cell_type": "code",
   "execution_count": null,
   "metadata": {},
   "outputs": [],
   "source": [
    "from scipy import stats\n",
    "import matplotlib.pyplot as plt\n",
    "import seaborn as sns"
   ]
  },
  {
   "cell_type": "code",
   "execution_count": null,
   "metadata": {},
   "outputs": [],
   "source": [
    "len(data_awal)"
   ]
  },
  {
   "cell_type": "code",
   "execution_count": null,
   "metadata": {},
   "outputs": [],
   "source": [
    "# Data Asli\n",
    "sns.distplot(data_oke[\"median_gaji\"], hist = False, kde = True, axlabel = \"Gaji\")\n",
    "\n",
    "plt.savefig(\"gambar/9. Distplot Gaji (78 Data).png\")\n",
    "\n",
    "plt.show()"
   ]
  },
  {
   "cell_type": "code",
   "execution_count": null,
   "metadata": {
    "scrolled": true
   },
   "outputs": [],
   "source": [
    "# Data Hasil Transformasi\n",
    "\n",
    "#perform Box-Cox transformation on original data\n",
    "transformed_data, best_lambda = stats.boxcox(data_oke[\"median_gaji\"]) \n",
    "\n",
    "#plot the distribution of the transformed data values\n",
    "sns.distplot(transformed_data, hist = False, kde = True, axlabel = \"Gaji Hasil Transformasi\")\n",
    "\n",
    "plt.savefig(\"gambar/10. Distplot Gaji Setelah Transformasi (78 Data).png\")\n",
    "\n",
    "plt.show()"
   ]
  },
  {
   "cell_type": "code",
   "execution_count": null,
   "metadata": {},
   "outputs": [],
   "source": [
    "nilai_lambda = best_lambda\n",
    "nilai_lambda"
   ]
  },
  {
   "cell_type": "code",
   "execution_count": null,
   "metadata": {},
   "outputs": [],
   "source": [
    "print(\"Data Asli:\", list(data_oke[\"median_gaji\"][0:5]))\n",
    "print(\"Data Hasil Transformasi:\", transformed_data[0:5])"
   ]
  },
  {
   "cell_type": "code",
   "execution_count": null,
   "metadata": {
    "scrolled": true
   },
   "outputs": [],
   "source": [
    "(20000000.0**nilai_lambda - 1) / nilai_lambda"
   ]
  },
  {
   "cell_type": "code",
   "execution_count": null,
   "metadata": {},
   "outputs": [],
   "source": [
    "# Transformasikan\n",
    "data_oke[\"median_gaji\"] = transformed_data"
   ]
  },
  {
   "cell_type": "code",
   "execution_count": null,
   "metadata": {
    "scrolled": true
   },
   "outputs": [],
   "source": [
    "data_oke[\"median_gaji\"][0:5]"
   ]
  },
  {
   "cell_type": "code",
   "execution_count": null,
   "metadata": {
    "scrolled": true
   },
   "outputs": [],
   "source": [
    "data_oke.head()"
   ]
  },
  {
   "cell_type": "code",
   "execution_count": null,
   "metadata": {},
   "outputs": [],
   "source": [
    "#data_oke.to_csv(\"Data Gabungan Hasil Preprocessing Tahap 2 (3 Profesi).csv\", index = False)"
   ]
  }
 ],
 "metadata": {
  "kernelspec": {
   "display_name": "Python 3",
   "language": "python",
   "name": "python3"
  },
  "language_info": {
   "codemirror_mode": {
    "name": "ipython",
    "version": 3
   },
   "file_extension": ".py",
   "mimetype": "text/x-python",
   "name": "python",
   "nbconvert_exporter": "python",
   "pygments_lexer": "ipython3",
   "version": "3.8.3"
  }
 },
 "nbformat": 4,
 "nbformat_minor": 4
}
