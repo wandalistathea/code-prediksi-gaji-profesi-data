{
 "cells": [
  {
   "cell_type": "code",
   "execution_count": null,
   "metadata": {},
   "outputs": [],
   "source": [
    "import pandas as pd\n",
    "import numpy as np\n",
    "import json"
   ]
  },
  {
   "cell_type": "code",
   "execution_count": null,
   "metadata": {},
   "outputs": [],
   "source": [
    "df = pd.read_csv(\"Scraping Profesi Data (Jobstreet).csv\")"
   ]
  },
  {
   "cell_type": "code",
   "execution_count": null,
   "metadata": {},
   "outputs": [],
   "source": [
    "df.head()"
   ]
  },
  {
   "cell_type": "code",
   "execution_count": null,
   "metadata": {},
   "outputs": [],
   "source": [
    "len(df)"
   ]
  },
  {
   "cell_type": "code",
   "execution_count": null,
   "metadata": {},
   "outputs": [],
   "source": [
    "df.columns"
   ]
  },
  {
   "cell_type": "code",
   "execution_count": null,
   "metadata": {},
   "outputs": [],
   "source": [
    "df.drop([\"Kualifikasi\", \"Spesialisasi Pekerjaan\", \"No. Registrasi\", \"Waktu Proses Lamaran\", \"Tunjangan dan Lain-lain\", \"Lokasi\", \"No. EA\"], axis = 1, inplace = True)"
   ]
  },
  {
   "cell_type": "code",
   "execution_count": null,
   "metadata": {},
   "outputs": [],
   "source": [
    "df.rename(columns = {\"Tingkat Pekerjaan\": \"tingkat_job\", \n",
    "                     \"Pengalaman Kerja\": \"lama_pengalaman\", \"Jenis Pekerjaan\": \"jenis_job\", \n",
    "                     \"Ukuran Perusahaan\": \"ukuran_company\", \"Industri\": \"industri\"}, inplace=True)"
   ]
  },
  {
   "cell_type": "code",
   "execution_count": null,
   "metadata": {
    "scrolled": true
   },
   "outputs": [],
   "source": [
    "df.head(3)"
   ]
  },
  {
   "cell_type": "markdown",
   "metadata": {},
   "source": [
    "# Preprocessing 1"
   ]
  },
  {
   "cell_type": "markdown",
   "metadata": {},
   "source": [
    "### Ganti Job Name dan Lokasi"
   ]
  },
  {
   "cell_type": "code",
   "execution_count": null,
   "metadata": {},
   "outputs": [],
   "source": [
    "data = df.copy()\n",
    "data.head(3)"
   ]
  },
  {
   "cell_type": "code",
   "execution_count": null,
   "metadata": {},
   "outputs": [],
   "source": [
    "data.info()"
   ]
  },
  {
   "cell_type": "code",
   "execution_count": null,
   "metadata": {},
   "outputs": [],
   "source": [
    "# Cek data yang duplikat\n",
    "data[data.duplicated(keep = False)] \n",
    "\n",
    "# Data Analyst/ Data Scientist -> Ini dihapus saja agar tidak bingung mau dimasukkan ke \"data analyst\" atau \"data scientist\""
   ]
  },
  {
   "cell_type": "code",
   "execution_count": null,
   "metadata": {},
   "outputs": [],
   "source": [
    "data.drop(data.index[data[\"job_name\"] == \"DATA ANALYST / DATA SCIENTIST\"], inplace = True)\n",
    "data.drop_duplicates(keep = \"first\", inplace = True, ignore_index = True)\n",
    "data.info() # Ada 4 yang terhapus"
   ]
  },
  {
   "cell_type": "code",
   "execution_count": null,
   "metadata": {},
   "outputs": [],
   "source": [
    "data[data.duplicated(keep = False)] # Sudah tidak ada yang duplikat"
   ]
  },
  {
   "cell_type": "code",
   "execution_count": null,
   "metadata": {},
   "outputs": [],
   "source": [
    "data.index # Index-nya sudah urut"
   ]
  },
  {
   "cell_type": "code",
   "execution_count": null,
   "metadata": {},
   "outputs": [],
   "source": [
    "data[\"lokasi\"].unique()"
   ]
  },
  {
   "cell_type": "code",
   "execution_count": null,
   "metadata": {},
   "outputs": [],
   "source": [
    "# PROSESNYA DIGABUNG JADI SATU\n",
    "\n",
    "def ganti_nama_dan_lokasi(data, list_kolom):\n",
    "    data2 = data.copy()\n",
    "    \n",
    "    # Looping untuk lower case isi dari masing-masing kolom\n",
    "    for kolom in list_kolom:\n",
    "        data2[kolom] = data2[kolom].str.lower()\n",
    "\n",
    "    # Looping untuk ganti isi di kolom \"job_name\" dan \"lokasi\"\n",
    "    for i in range(0, len(data2)):\n",
    "        # Untuk kolom \"job_name\"\n",
    "        # [\"data scientist\", \"data analyst\", \"data engineer\", \"database manager\", \"data architect\", \"database administrator\"]\n",
    "        if \"data scientist\" in data2[\"job_name\"][i]:\n",
    "            data2[\"job_name\"][i] = \"data scientist\"\n",
    "        elif \"data analyst\" in data2[\"job_name\"][i]:\n",
    "            data2[\"job_name\"][i] = \"data analyst\"\n",
    "        elif \"data engineer\" in data2[\"job_name\"][i]:\n",
    "            data2[\"job_name\"][i] = \"data engineer\"\n",
    "        elif \"database manager\" in data2[\"job_name\"][i]:\n",
    "            data2[\"job_name\"][i] = \"database manager\"\n",
    "        elif \"data architect\" in data2[\"job_name\"][i]:\n",
    "            data2[\"job_name\"][i] = \"data architect\"\n",
    "        elif \"database administrator\" in data2[\"job_name\"][i]:\n",
    "            data2[\"job_name\"][i] = \"database administrator\"\n",
    "\n",
    "        # Untuk kolom \"lokasi\"        \n",
    "        data2[\"lokasi\"].replace([\"jakarta raya\", \"jakarta selatan\", \"jakarta barat\", \"jakarta pusat\", \n",
    "                                 \"jakarta timur\", \"jakarta utara\"], \"dki jakarta\", inplace = True)\n",
    "        data2[\"lokasi\"].replace([\"tangerang\", \"serang\"], \"banten\", inplace = True)\n",
    "        data2[\"lokasi\"].replace(\"yogyakarta\", \"diy\", inplace = True)\n",
    "        data2[\"lokasi\"].replace(\"badung\", \"bali\", inplace = True)\n",
    "        data2[\"lokasi\"].replace(\"paser\", \"kalimantan timur\", inplace = True)\n",
    "        data2[\"lokasi\"].replace([\"bandung\", \"bekasi\", \"cikarang\"], \"jawa barat\", inplace = True)\n",
    "        data2[\"lokasi\"].replace([\"surabaya\", \"sidoarjo\"], \"jawa timur\", inplace = True)\n",
    "        data2[\"lokasi\"].replace(\"medan\", \"sumatera utara\", inplace = True)\n",
    "    \n",
    "    return data2"
   ]
  },
  {
   "cell_type": "code",
   "execution_count": null,
   "metadata": {},
   "outputs": [],
   "source": [
    "list_kolom = list(data.columns)\n",
    "\n",
    "data_oke = ganti_nama_dan_lokasi(data, list_kolom)\n",
    "data_oke.head()"
   ]
  },
  {
   "cell_type": "code",
   "execution_count": null,
   "metadata": {
    "scrolled": true
   },
   "outputs": [],
   "source": [
    "data_oke[data_oke[\"lokasi\"] == \"indonesia\"]"
   ]
  },
  {
   "cell_type": "code",
   "execution_count": null,
   "metadata": {},
   "outputs": [],
   "source": [
    "data_oke[data_oke[\"lokasi\"] == \"beberapa lokasi kerja\"]"
   ]
  },
  {
   "cell_type": "code",
   "execution_count": null,
   "metadata": {},
   "outputs": [],
   "source": [
    "# Yang lokasinya di \"indonesia\" akan diganti\n",
    "data_oke.iloc[115].replace(\"indonesia\", \"jawa barat\", inplace = True)\n",
    "data_oke.iloc[164].replace(\"indonesia\", \"jawa barat\", inplace = True)\n",
    "data_oke.iloc[167].replace(\"indonesia\", \"dki jakarta\", inplace = True)\n",
    "\n",
    "# Yang lokasinya di \"beberapa lokasi kerja\" akan diganti\n",
    "data_oke.iloc[132].replace(\"beberapa lokasi kerja\", \"dki jakarta\", inplace = True)\n",
    "data_oke.iloc[159].replace(\"beberapa lokasi kerja\", \"dki jakarta\", inplace = True)\n",
    "data_oke.iloc[183].replace(\"beberapa lokasi kerja\", \"jawa barat\", inplace = True)"
   ]
  },
  {
   "cell_type": "code",
   "execution_count": null,
   "metadata": {},
   "outputs": [],
   "source": [
    "data_oke[\"lokasi\"].unique()"
   ]
  },
  {
   "cell_type": "code",
   "execution_count": null,
   "metadata": {},
   "outputs": [],
   "source": [
    "#data_oke.to_csv(\"Hasil Preprocessing 1 (Ganti Job Name dan Lokasi) Data Jobstreet.csv\", index = False)"
   ]
  },
  {
   "cell_type": "markdown",
   "metadata": {},
   "source": [
    "# Preprocessing 2"
   ]
  },
  {
   "cell_type": "markdown",
   "metadata": {},
   "source": [
    "### Penyamaan/Standarisasi Kolom \"jenis_job\""
   ]
  },
  {
   "cell_type": "code",
   "execution_count": null,
   "metadata": {
    "scrolled": true
   },
   "outputs": [],
   "source": [
    "data_oke = pd.read_csv(\"Hasil Preprocessing 1 (Ganti Job Name dan Lokasi) Data Jobstreet.csv\")\n",
    "data_oke.tail()"
   ]
  },
  {
   "cell_type": "code",
   "execution_count": null,
   "metadata": {
    "scrolled": true
   },
   "outputs": [],
   "source": [
    "data_oke[\"jenis_job\"].unique()"
   ]
  },
  {
   "cell_type": "code",
   "execution_count": null,
   "metadata": {},
   "outputs": [],
   "source": [
    "data_oke[data_oke[\"jenis_job\"] == \"penuh waktu, kontrak\"]"
   ]
  },
  {
   "cell_type": "code",
   "execution_count": null,
   "metadata": {},
   "outputs": [],
   "source": [
    "data_oke[data_oke[\"tingkat_job\"] == \"lulusan baru/pengalaman kerja kurang dari 1 tahun\"][\"jenis_job\"]\n",
    "\n",
    "# Dengan tingkat_job yang sama, kebanyakan adalah \"penuh waktu\" \n",
    "# sehingga yang isinya \"penuh waktu, kontrak\" akan diganti menjadi \"penuh waktu\" saja"
   ]
  },
  {
   "cell_type": "code",
   "execution_count": null,
   "metadata": {},
   "outputs": [],
   "source": [
    "data_oke.iloc[85].replace(\"penuh waktu, kontrak\", \"penuh waktu\", inplace = True)"
   ]
  },
  {
   "cell_type": "code",
   "execution_count": null,
   "metadata": {},
   "outputs": [],
   "source": [
    "data_oke[\"jenis_job\"].unique()"
   ]
  },
  {
   "cell_type": "markdown",
   "metadata": {},
   "source": [
    "# Preprocessing 3"
   ]
  },
  {
   "cell_type": "markdown",
   "metadata": {},
   "source": [
    "### Penyamaan/Standarisasi Kolom \"tingkat_job\""
   ]
  },
  {
   "cell_type": "code",
   "execution_count": null,
   "metadata": {},
   "outputs": [],
   "source": [
    "data_oke[\"tingkat_job\"].unique()"
   ]
  },
  {
   "cell_type": "code",
   "execution_count": null,
   "metadata": {},
   "outputs": [],
   "source": [
    "# 1. \"lulusan baru/pengalaman kerja kurang dari 1 tahun\"\n",
    "data_oke[data_oke[\"tingkat_job\"] == \"lulusan baru/pengalaman kerja kurang dari 1 tahun\"]"
   ]
  },
  {
   "cell_type": "code",
   "execution_count": null,
   "metadata": {},
   "outputs": [],
   "source": [
    "for i in range(0, len(data_oke)):\n",
    "    if data_oke[\"tingkat_job\"][i] == \"lulusan baru/pengalaman kerja kurang dari 1 tahun\":\n",
    "        if data_oke[\"jenis_job\"][i] == \"paruh waktu\":\n",
    "            data_oke.iloc[i].replace(\"lulusan baru/pengalaman kerja kurang dari 1 tahun\", \"magang\", inplace = True)\n",
    "        elif data_oke[\"jenis_job\"][i] == \"magang\":\n",
    "            data_oke.iloc[i].replace(\"lulusan baru/pengalaman kerja kurang dari 1 tahun\", \"magang\", inplace = True)\n",
    "        elif data_oke[\"jenis_job\"][i] == \"penuh waktu\": # Diganti antara jadi \"tingkat pemula\" atau \"asosiasi\"\n",
    "            data_oke.iloc[i].replace(\"lulusan baru/pengalaman kerja kurang dari 1 tahun\", \"tingkat pemula\", inplace = True)\n",
    "        elif data_oke[\"jenis_job\"][i] == \"kontrak\": # Diganti antara jadi \"tingkat pemula\" atau \"asosiasi\"\n",
    "            data_oke.iloc[i].replace(\"lulusan baru/pengalaman kerja kurang dari 1 tahun\", \"tingkat pemula\", inplace = True)"
   ]
  },
  {
   "cell_type": "code",
   "execution_count": null,
   "metadata": {
    "scrolled": true
   },
   "outputs": [],
   "source": [
    "# 2. \"pegawai (non-manajemen & non-supervisor)\" -> mungkin masuk ke \"asosiasi\"\n",
    "data_oke[data_oke[\"tingkat_job\"] == \"pegawai (non-manajemen & non-supervisor)\"]"
   ]
  },
  {
   "cell_type": "code",
   "execution_count": null,
   "metadata": {},
   "outputs": [],
   "source": [
    "for i in range(0, len(data_oke)):\n",
    "    if data_oke[\"tingkat_job\"][i] == \"pegawai (non-manajemen & non-supervisor)\":\n",
    "        data_oke.iloc[i].replace(\"pegawai (non-manajemen & non-supervisor)\", \"asosiasi\", inplace = True)       "
   ]
  },
  {
   "cell_type": "code",
   "execution_count": null,
   "metadata": {
    "scrolled": true
   },
   "outputs": [],
   "source": [
    "# 3. \"supervisor/koordinator\" & \"manajer/asisten manajer\"\n",
    "# Supervisor di bawahnya manajer -> Tapi dia sama2 di posisi mid-level\n",
    "data_oke[data_oke[\"tingkat_job\"] == \"supervisor/koordinator\"]"
   ]
  },
  {
   "cell_type": "code",
   "execution_count": null,
   "metadata": {
    "scrolled": true
   },
   "outputs": [],
   "source": [
    "data_oke[data_oke[\"tingkat_job\"] == \"manajer/asisten manajer\"]"
   ]
  },
  {
   "cell_type": "code",
   "execution_count": null,
   "metadata": {},
   "outputs": [],
   "source": [
    "for i in range(0, len(data_oke)):\n",
    "    if data_oke[\"tingkat_job\"][i] == \"supervisor/koordinator\":\n",
    "        data_oke.iloc[i].replace(\"supervisor/koordinator\", \"senior tingkat menengah\", inplace = True)\n",
    "    elif data_oke[\"tingkat_job\"][i] == \"manajer/asisten manajer\":\n",
    "        data_oke.iloc[i].replace(\"manajer/asisten manajer\", \"senior tingkat menengah\", inplace = True)"
   ]
  },
  {
   "cell_type": "code",
   "execution_count": null,
   "metadata": {
    "scrolled": true
   },
   "outputs": [],
   "source": [
    "# 4. \"tidak terspesifikasi\" \n",
    "# - > Ini dianggap nan saja karena tingkat_job itu kemungkinan menentukan gaji yang berbeda \n",
    "data_oke[data_oke[\"tingkat_job\"] == \"tidak terspesifikasi\"]"
   ]
  },
  {
   "cell_type": "code",
   "execution_count": null,
   "metadata": {},
   "outputs": [],
   "source": [
    "for i in range(0, len(data_oke)):\n",
    "    if data_oke[\"tingkat_job\"][i] == \"tidak terspesifikasi\":\n",
    "        data_oke.iloc[i].replace(\"tidak terspesifikasi\", np.nan, inplace = True)"
   ]
  },
  {
   "cell_type": "code",
   "execution_count": null,
   "metadata": {
    "scrolled": true
   },
   "outputs": [],
   "source": [
    "data_oke[\"tingkat_job\"].unique()"
   ]
  },
  {
   "cell_type": "code",
   "execution_count": null,
   "metadata": {},
   "outputs": [],
   "source": [
    "#data_oke.to_csv(\"Hasil Preprocessing 2 & 3 (Penyamaan Jenis Job & Tingkat Job) Data Jobstreet.csv\", index = False)"
   ]
  },
  {
   "cell_type": "markdown",
   "metadata": {},
   "source": [
    "# Preprocessing 4"
   ]
  },
  {
   "cell_type": "markdown",
   "metadata": {},
   "source": [
    "### Penyamaan/Standarisasi Kolom \"ukuran_company\""
   ]
  },
  {
   "cell_type": "code",
   "execution_count": null,
   "metadata": {},
   "outputs": [],
   "source": [
    "data4 = pd.read_csv(\"Hasil Preprocessing 2 & 3 (Penyamaan Jenis Job & Tingkat Job) Data Jobstreet.csv\")\n",
    "data4.head()"
   ]
  },
  {
   "cell_type": "code",
   "execution_count": null,
   "metadata": {},
   "outputs": [],
   "source": [
    "data4[\"ukuran_company\"].unique()"
   ]
  },
  {
   "cell_type": "code",
   "execution_count": null,
   "metadata": {},
   "outputs": [],
   "source": [
    "# \" - \" dan \"- \" diubah menjadi \"-\"\n",
    "data4[\"ukuran_company\"] = data4[\"ukuran_company\"].str.replace(\" - \", \"-\")\n",
    "data4[\"ukuran_company\"] = data4[\"ukuran_company\"].str.replace(\"- \", \"-\")"
   ]
  },
  {
   "cell_type": "code",
   "execution_count": null,
   "metadata": {},
   "outputs": [],
   "source": [
    "# Disesuaikan dengan data dari Linkedin juga, sehingga ada yang diubah\n",
    "\n",
    "for i in range(0, len(data4)):\n",
    "    if data4[\"ukuran_company\"][i] == \"1001-2000 pekerja\":\n",
    "        data4.iloc[i] = data4.iloc[i].replace(\"1001-2000 pekerja\", \"1.001-5.000 pekerja\")\n",
    "    elif data4[\"ukuran_company\"][i] == \"2001-5000 pekerja\":\n",
    "        data4.iloc[i] = data4.iloc[i].replace(\"2001-5000 pekerja\", \"1.001-5.000 pekerja\")\n",
    "    \n",
    "    elif data4[\"ukuran_company\"][i] == \"lebih dari 5000 pekerja\":\n",
    "        data4.iloc[i] = data4.iloc[i].replace(\"lebih dari 5000 pekerja\", \">5.000 pekerja\")\n",
    "        \n",
    "    elif data4[\"ukuran_company\"][i] == \"501-1000 pekerja\":\n",
    "        data4.iloc[i] = data4.iloc[i].replace(\"501-1000 pekerja\", \"501-1.000 pekerja\")"
   ]
  },
  {
   "cell_type": "code",
   "execution_count": null,
   "metadata": {},
   "outputs": [],
   "source": [
    "data4[\"ukuran_company\"].unique()"
   ]
  },
  {
   "cell_type": "code",
   "execution_count": null,
   "metadata": {},
   "outputs": [],
   "source": [
    "#data4.to_csv(\"Hasil Preprocessing 4 (Penyamaan Ukuran Company) Data Jobstreet.csv\", index = False)"
   ]
  },
  {
   "cell_type": "markdown",
   "metadata": {},
   "source": [
    "# Preprocessing 5"
   ]
  },
  {
   "cell_type": "markdown",
   "metadata": {},
   "source": [
    "### Memperbaiki Kolom Gaji & Membuat Kolom Median Gaji"
   ]
  },
  {
   "cell_type": "code",
   "execution_count": null,
   "metadata": {},
   "outputs": [],
   "source": [
    "data5 = pd.read_csv(\"Hasil Preprocessing 4 (Penyamaan Ukuran Company) Data Jobstreet.csv\")\n",
    "data5.head()"
   ]
  },
  {
   "cell_type": "code",
   "execution_count": null,
   "metadata": {},
   "outputs": [],
   "source": [
    "data_oke5 = data5.copy()\n",
    "\n",
    "# GAJI PER BULAN -> Datanya sudah gaji per bulan\n",
    "for i in range(0, len(data_oke5)):\n",
    "    if pd.isna(data_oke5[\"gaji\"][i]) == True:\n",
    "        pass\n",
    "    else:\n",
    "        data_oke5[\"gaji\"][i] = data_oke5[\"gaji\"][i].replace(\"idr \", \"\").replace(\".\", \"\")\n",
    "        data_oke5[\"gaji\"][i] = data_oke5[\"gaji\"][i].split(\" - \")\n",
    "\n",
    "        if type(pd.isna(data_oke5[\"gaji\"][i])) == type(True):\n",
    "            pass\n",
    "        if \"sgd\" in str(data_oke5[\"gaji\"][i]):\n",
    "            pass\n",
    "        elif len(data_oke5[\"gaji\"][i]) == 2: # Jika list-nya berisi 2 nilai\n",
    "            list_angka = [int(angka) for angka in data_oke5[\"gaji\"][i]]\n",
    "            data_oke5[\"gaji\"][i] = list_angka\n",
    "        else:\n",
    "            pass"
   ]
  },
  {
   "cell_type": "code",
   "execution_count": null,
   "metadata": {
    "scrolled": true
   },
   "outputs": [],
   "source": [
    "for i in range(0, len(data_oke5)):\n",
    "    if type(data_oke5[\"gaji\"][i]) == list:\n",
    "        print(i)\n",
    "        print(data_oke5[\"gaji\"][i])\n",
    "    \n",
    "# Yang belum beres -> index 6"
   ]
  },
  {
   "cell_type": "code",
   "execution_count": null,
   "metadata": {},
   "outputs": [],
   "source": [
    "data_oke5.iloc[6]\n",
    "\n",
    "# Basisnya di Singapura -> Akan dihapus saja datanya"
   ]
  },
  {
   "cell_type": "code",
   "execution_count": null,
   "metadata": {},
   "outputs": [],
   "source": [
    "data_oke5.drop(6, axis = 0, inplace = True)\n",
    "data_oke5 = data_oke5.reset_index(drop = True)\n",
    "len(data_oke5)"
   ]
  },
  {
   "cell_type": "code",
   "execution_count": null,
   "metadata": {},
   "outputs": [],
   "source": [
    "# Menambah kolom baru untuk median dari gaji\n",
    "import statistics\n",
    "\n",
    "median_gaji = []\n",
    "for i in range(0, len(data_oke5)):\n",
    "    if type(data_oke5[\"gaji\"][i]) != list:\n",
    "        median_gaji.append(np.nan)\n",
    "    else:\n",
    "        median_gaji.append(round(statistics.median(data_oke5[\"gaji\"][i])))\n",
    "        \n",
    "data_oke5[\"median_gaji\"] = median_gaji"
   ]
  },
  {
   "cell_type": "code",
   "execution_count": null,
   "metadata": {},
   "outputs": [],
   "source": [
    "data_oke5.head()"
   ]
  },
  {
   "cell_type": "code",
   "execution_count": null,
   "metadata": {},
   "outputs": [],
   "source": [
    "#data_oke5.to_csv(\"Hasil Preprocessing 5 (Benerin Kolom Gaji & Bikin Kolom Median Gaji) Data Jobstreet.csv\", index = False)"
   ]
  },
  {
   "cell_type": "markdown",
   "metadata": {},
   "source": [
    "# Preprocessing 6"
   ]
  },
  {
   "cell_type": "markdown",
   "metadata": {},
   "source": [
    "### Menyederhanakan Kolom Industri"
   ]
  },
  {
   "cell_type": "code",
   "execution_count": null,
   "metadata": {},
   "outputs": [],
   "source": [
    "data_oke6 = pd.read_csv(\"Hasil Preprocessing 5 (Benerin Kolom Gaji & Bikin Kolom Median Gaji) Data Jobstreet.csv\")\n",
    "data_oke6.tail()"
   ]
  },
  {
   "cell_type": "code",
   "execution_count": null,
   "metadata": {},
   "outputs": [],
   "source": [
    "data_oke6[data_oke6[\"industri\"] == \"lainnya\"]"
   ]
  },
  {
   "cell_type": "code",
   "execution_count": null,
   "metadata": {},
   "outputs": [],
   "source": [
    "data_oke6[\"industri\"].unique()\n",
    "\n",
    "# Misal:\n",
    "# 2. Keuangan -> \"perbankan/pelayanan keuangan\", \"asuransi\"\n",
    "# 10. Pendidikan -> \"pendidikan\"\n",
    "\n",
    "# 1. Teknologi Informasi dan Komunikasi -> \"komputer/teknik informatika (perangkat lunak)\", \"komputer/teknik informatika (perangkat keras)\",\n",
    "# -> \"telekomunikasi\"\n",
    "\n",
    "# 9. Pariwisata -> \"hotel/pariwisata\"\n",
    "# 8. Kesehatan -> \"kesehatan/medis\", \"bioteknologi/farmasi/riset klinik\"\n",
    "\n",
    "# 7. Makanan & Minuman -> \"makanan & minuman/katering/restoran\"\n",
    "# 4. Ekonomi -> \"retail/merchandise\", \"umum & grosir\", \"produk konsumen/barang konsumen yang bergerak cepat\", \"manufaktur/produksi\",\n",
    "# 3. Konsultasi -> \"konsultasi (it, ilmu pengetahuan, teknis & teknikal)\", \"konsultasi (bisnis & manajemen)\", \"manajemen/konsulting hr\"\n",
    "# 5. Pemasaran dan Periklanan -> \"periklanan/marketing/promosi/hubungan masyarakat\"\n",
    "# 6. Pakaian & Mode -> \"tekstil/garment\"\n",
    "\n",
    "# Ini yang udah sendiri saja: -> Punya Jobstreet\n",
    "# 11. Properti -> \"properti/real estate\"\n",
    "# 12. Pertambangan -> \"pertambangan\"\n",
    "# 13. Elektronik -> \"elektrikal & elektronik\"\n",
    "# 14. Agrikultur -> \"agrikultural/perkebunan/peternakan unggas/perikanan\"\n",
    "# Sumber: https://accurate.id/bisnis-ukm/pengertian-agrikultur/\n",
    "# 15. Konstruksi -> \"konstruksi/bangunan/teknik\"\n",
    "# 16. Transportasi -> \"transportasi/logistik\"\n",
    "# 17. Saham -> \"jual beli saham/sekuritas\"\n",
    "# 18. Permesinan -> \"industri berat/mesin/peralatan\"\n",
    "# Sumber: https://kemenperin.go.id/artikel/21183/Industri-Permesinan-Berperan-Kerek-Daya-Saing-Sektor-Otomotif-dan-Elektronik\n",
    "# Sumber: https://www.kompasiana.com/dewayuniardi/54f33e65745513a32b6c6d07/industri-otomotif-nasional\n",
    "# 19. Acara -> \"pameran/manajemen acara/pikp\"\n",
    "# 20. BPO (Business Process Outsourcing) -> \"call center/it-enabled services/bpo\"\n",
    "# 21. Media -> \"jurnalisme\", \"hiburan/media\" (\"Media Online\" punya Linkedin pindah ke \"Media\" aja -> Awalnya di TIK)\n",
    "\n",
    "# Yang belum (punya Jobstreet):\n",
    "# \"lainnya\" \n",
    "# -> Diganti jadi \"Keuangan\" (pt pepper services indonesia, pt cyberquote indonesia)\n",
    "# Sumber: https://id.joblum.com/job/data-analytics/393544, https://jobindo.com/lowongan-kerja-perusahaan-pt-cyberquote-indonesia-9505.html"
   ]
  },
  {
   "cell_type": "code",
   "execution_count": null,
   "metadata": {},
   "outputs": [],
   "source": [
    "industri_dict = {\"perbankan/pelayanan keuangan\": \"keuangan\", \"asuransi\": \"keuangan\", \n",
    "                 \"komputer/teknik informatika (perangkat lunak)\": \"teknologi informasi dan komunikasi\", \"komputer/teknik informatika (perangkat keras)\": \"teknologi informasi dan komunikasi\", \n",
    "                 \"telekomunikasi\": \"teknologi informasi dan komunikasi\", \"hotel/pariwisata\": \"pariwisata\", \"properti/real estate\": \"properti\",\n",
    "                 \"kesehatan/medis\": \"kesehatan\", \"bioteknologi/farmasi/riset klinik\": \"kesehatan\", \"tekstil/garment\": \"pakaian & mode\",\n",
    "                 \"makanan & minuman/katering/restoran\": \"makanan & minuman\", \"elektrikal & elektronik\": \"elektronik\",\n",
    "                 \"retail/merchandise\": \"ekonomi\", \"umum & grosir\": \"ekonomi\", \"produk konsumen/barang konsumen yang bergerak cepat\": \"ekonomi\", \"manufaktur/produksi\": \"ekonomi\",\n",
    "                 \"konsultasi (it, ilmu pengetahuan, teknis & teknikal)\": \"konsultasi\", \"konsultasi (bisnis & manajemen)\": \"konsultasi\", \"manajemen/konsulting hr\": \"konsultasi\",\n",
    "                 \"periklanan/marketing/promosi/hubungan masyarakat\": \"pemasaran & periklanan\", \"agrikultural/perkebunan/peternakan unggas/perikanan\": \"agrikultur\", \n",
    "                 \"konstruksi/bangunan/teknik\": \"konstruksi\", \"transportasi/logistik\": \"transportasi\", \"jual beli saham/sekuritas\": \"saham\", \n",
    "                 \"industri berat/mesin/peralatan\": \"permesinan\", \"pameran/manajemen acara/pikp\": \"acara\", \"call center/it-enabled services/bpo\": \"bpo\", \n",
    "                 \"jurnalisme\": \"media\", \"hiburan/media\": \"media\", \"lainnya\": \"keuangan\"}"
   ]
  },
  {
   "cell_type": "code",
   "execution_count": null,
   "metadata": {},
   "outputs": [],
   "source": [
    "data_oke6a = data_oke6.copy()\n",
    "data_oke6a.head()"
   ]
  },
  {
   "cell_type": "code",
   "execution_count": null,
   "metadata": {},
   "outputs": [],
   "source": [
    "for i in range(0, len(data_oke6a)):\n",
    "    if pd.isna(data_oke6a[\"industri\"][i]) == True:\n",
    "        pass\n",
    "    else:\n",
    "        for awal, pengganti in industri_dict.items():\n",
    "            if awal in data_oke6a[\"industri\"][i]:\n",
    "                data_oke6a[\"industri\"][i] = data_oke6a[\"industri\"][i].replace(awal, pengganti)"
   ]
  },
  {
   "cell_type": "code",
   "execution_count": null,
   "metadata": {},
   "outputs": [],
   "source": [
    "data_oke6a.head()"
   ]
  },
  {
   "cell_type": "code",
   "execution_count": null,
   "metadata": {},
   "outputs": [],
   "source": [
    "data_oke6a[\"industri\"].nunique()"
   ]
  },
  {
   "cell_type": "code",
   "execution_count": null,
   "metadata": {},
   "outputs": [],
   "source": [
    "#data_oke6a.to_csv(\"Hasil Preprocessing 6 (Menyederhanakan Kolom Industri) Data Jobstreet.csv\", index = False)"
   ]
  },
  {
   "cell_type": "markdown",
   "metadata": {},
   "source": [
    "# Preprocessing 7"
   ]
  },
  {
   "cell_type": "markdown",
   "metadata": {},
   "source": [
    "### Memperbaiki Kolom Lama Pengalaman"
   ]
  },
  {
   "cell_type": "code",
   "execution_count": null,
   "metadata": {
    "scrolled": true
   },
   "outputs": [],
   "source": [
    "data_oke7 = pd.read_csv(\"Hasil Preprocessing 6 (Menyederhanakan Kolom Industri) Data Jobstreet.csv\")\n",
    "data_oke7.tail()"
   ]
  },
  {
   "cell_type": "code",
   "execution_count": null,
   "metadata": {},
   "outputs": [],
   "source": [
    "data_oke7[\"lama_pengalaman\"][0]"
   ]
  },
  {
   "cell_type": "code",
   "execution_count": null,
   "metadata": {},
   "outputs": [],
   "source": [
    "data_oke7[\"lama_pengalaman\"] = data_oke7[\"lama_pengalaman\"].str.replace(\" tahun\", \"\")"
   ]
  },
  {
   "cell_type": "code",
   "execution_count": null,
   "metadata": {},
   "outputs": [],
   "source": [
    "for i in range(0, len(data_oke7)):\n",
    "    if pd.isna(data_oke7[\"lama_pengalaman\"][i]) == True:\n",
    "        pass\n",
    "    else:\n",
    "        data_oke7[\"lama_pengalaman\"][i] = int(data_oke7[\"lama_pengalaman\"][i])"
   ]
  },
  {
   "cell_type": "code",
   "execution_count": null,
   "metadata": {},
   "outputs": [],
   "source": [
    "type(data_oke7[\"lama_pengalaman\"][0])"
   ]
  },
  {
   "cell_type": "code",
   "execution_count": null,
   "metadata": {},
   "outputs": [],
   "source": [
    "#data_oke7.to_csv(\"Hasil Preprocessing 7 (Memperbaiki Kolom Lama Pengalaman) Data Jobstreet.csv\", index = False)"
   ]
  },
  {
   "cell_type": "code",
   "execution_count": null,
   "metadata": {},
   "outputs": [],
   "source": [
    "##### INSYAALLOH FIX PAKAI INI (Hasil Preprocessing 7)"
   ]
  },
  {
   "cell_type": "code",
   "execution_count": null,
   "metadata": {},
   "outputs": [],
   "source": [
    "len(data_oke7)"
   ]
  }
 ],
 "metadata": {
  "kernelspec": {
   "display_name": "Python 3",
   "language": "python",
   "name": "python3"
  },
  "language_info": {
   "codemirror_mode": {
    "name": "ipython",
    "version": 3
   },
   "file_extension": ".py",
   "mimetype": "text/x-python",
   "name": "python",
   "nbconvert_exporter": "python",
   "pygments_lexer": "ipython3",
   "version": "3.8.3"
  }
 },
 "nbformat": 4,
 "nbformat_minor": 4
}
