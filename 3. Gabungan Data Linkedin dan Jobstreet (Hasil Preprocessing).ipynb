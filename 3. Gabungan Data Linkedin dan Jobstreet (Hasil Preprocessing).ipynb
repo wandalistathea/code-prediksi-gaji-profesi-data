{
 "cells": [
  {
   "cell_type": "markdown",
   "metadata": {},
   "source": [
    "# Menggabungkan Data Linkedin dan Jobstreet (Hasil Preprocessing)"
   ]
  },
  {
   "cell_type": "code",
   "execution_count": null,
   "metadata": {},
   "outputs": [],
   "source": [
    "import pandas as pd\n",
    "import numpy as np\n",
    "import matplotlib.pyplot as plt"
   ]
  },
  {
   "cell_type": "code",
   "execution_count": null,
   "metadata": {},
   "outputs": [],
   "source": [
    "data_linkedin = pd.read_csv(\"Hasil Preprocessing 5 (Menyederhanakan Kolom Ukuran Company).csv\")\n",
    "data_jobstreet = pd.read_csv(\"Hasil Preprocessing 7 (Memperbaiki Kolom Lama Pengalaman) Data Jobstreet.csv\")"
   ]
  },
  {
   "cell_type": "code",
   "execution_count": null,
   "metadata": {},
   "outputs": [],
   "source": [
    "data_linkedin[\"sumber\"] = \"linkedin\"\n",
    "data_jobstreet[\"sumber\"] = \"jobstreet\""
   ]
  },
  {
   "cell_type": "code",
   "execution_count": null,
   "metadata": {},
   "outputs": [],
   "source": [
    "data_linkedin.head(2)"
   ]
  },
  {
   "cell_type": "code",
   "execution_count": null,
   "metadata": {},
   "outputs": [],
   "source": [
    "len(data_linkedin)"
   ]
  },
  {
   "cell_type": "code",
   "execution_count": null,
   "metadata": {},
   "outputs": [],
   "source": [
    "data_jobstreet.head(2)"
   ]
  },
  {
   "cell_type": "code",
   "execution_count": null,
   "metadata": {},
   "outputs": [],
   "source": [
    "len(data_jobstreet)"
   ]
  },
  {
   "cell_type": "code",
   "execution_count": null,
   "metadata": {},
   "outputs": [],
   "source": [
    "df_gabung = data_jobstreet.append(data_linkedin)\n",
    "df_gabung = df_gabung.reset_index(drop = True)\n",
    "df_gabung.tail()"
   ]
  },
  {
   "cell_type": "code",
   "execution_count": null,
   "metadata": {},
   "outputs": [],
   "source": [
    "len(df_gabung)"
   ]
  },
  {
   "cell_type": "code",
   "execution_count": null,
   "metadata": {},
   "outputs": [],
   "source": [
    "df_gabung[\"job_name\"].value_counts()"
   ]
  },
  {
   "cell_type": "code",
   "execution_count": null,
   "metadata": {},
   "outputs": [],
   "source": [
    "# Jadikan lower case untuk kolom \"company\"\n",
    "df_gabung[\"company\"] = df_gabung[\"company\"].str.lower()"
   ]
  },
  {
   "cell_type": "code",
   "execution_count": null,
   "metadata": {
    "scrolled": true
   },
   "outputs": [],
   "source": [
    "df_gabung.tail()"
   ]
  },
  {
   "cell_type": "code",
   "execution_count": null,
   "metadata": {},
   "outputs": [],
   "source": [
    "# Disamakan perusahaannya (ada yang penulisannya beda) \n",
    "# -> Nanti akan berguna untuk mengisi missing value di kolom \"ukuran_company\" dan untuk mengecek duplikat\n",
    "\n",
    "dict_company = {\"pt kamoro maxima integra\": \"pt kamoro maxima integra\", \n",
    "                \"impact credit solutions\": \"impact credit solutions\", \n",
    "                \"pt. sharing vision indonesia\": \"pt sharing vision indonesia\", \n",
    "                \"pt agriaku digital indonesia\": \"agriaku\", \n",
    "                \"pt takjub teknologi indonesia (ajaib)\": \"ajaib\", \n",
    "                \"kompas gramedia\": \"kompas gramedia - kg media\", \n",
    "                \"detik.com\": \"detikcom\", \n",
    "                \"j-express\": \"j-express (pt jaya ekspress transindo)\", \n",
    "                \"pt lawencon\": \"pt lawencon internasional\", \n",
    "                \"pt. moladin digital indonesia\": \"moladin\", \n",
    "                \"pt tani hub indonesia (tanihub, tanifund)\": \"pt tani hub indonesia\", \n",
    "                \"boga group\": \"boga group\", \n",
    "                \"warung pintar group\": \"warung pintar\", \n",
    "                \"gramedia e-perpust\": \"kompas gramedia - kg media\", \n",
    "                \"gramedia writing project\": \"kompas gramedia - kg media\", \n",
    "                \"liv.it\": \"livit international\", \n",
    "                \"cicil\": \"pt cicil solusi mitra teknologi\", \n",
    "                \"pt. metrodata electronics, tbk\": \"pt metrodata electronics tbk\",\n",
    "                \"pt. metrodata electronics tbk.\": \"pt metrodata electronics tbk\",\n",
    "                \"pt metrodata electronics tbk\": \"pt metrodata electronics tbk\", \n",
    "                \"ritase\": \"ritase.com\", \n",
    "                \"zalora south east asia pte ltd\": \"zalora group\", \n",
    "                \"99.co indonesia\": \"99.co\", \n",
    "                \"amartha\": \"pt. amartha mikro fintek\", \n",
    "                \"ntt indonesia digital business solutions\": \"ntt ltd.\", \n",
    "                \"higo\": \"pt higo fitur indonesia\", \n",
    "                \"bobobox indonesia\": \"pt bobobox mitra indonesia\", \n",
    "                \"jobs mnc\": \"mnc group\",\n",
    "                \"mnc portal indonesia\": \"mnc group\", \n",
    "                \"bitlabs\": \"bitlabs academy\",\n",
    "                \"mitramas infosys global\": \"pt mitramas infosys global\", \n",
    "                \"dhana jasa konsultan\": \"pt. dhana jasa konsultan\", \n",
    "                \"modal rakyat\": \"modal rakyat indonesia\", \n",
    "                \"generasi teknologi buana\": \"pt generasi teknologi buana\"} "
   ]
  },
  {
   "cell_type": "code",
   "execution_count": null,
   "metadata": {},
   "outputs": [],
   "source": [
    "for i in range(0, len(df_gabung)):\n",
    "    if pd.isna(df_gabung[\"company\"][i]) == True:\n",
    "        pass\n",
    "    else:\n",
    "        for awal, pengganti in dict_company.items():\n",
    "            if awal in df_gabung[\"company\"][i]:\n",
    "                df_gabung[\"company\"][i] = df_gabung[\"company\"][i].replace(awal, pengganti)"
   ]
  },
  {
   "cell_type": "markdown",
   "metadata": {},
   "source": [
    "### Baca Data Gabungan"
   ]
  },
  {
   "cell_type": "code",
   "execution_count": null,
   "metadata": {},
   "outputs": [],
   "source": [
    "df = df_gabung.copy()\n",
    "df.head(3)"
   ]
  },
  {
   "cell_type": "code",
   "execution_count": null,
   "metadata": {},
   "outputs": [],
   "source": [
    "# Cek data yang duplikat\n",
    "duplikat = df[df[[\"job_name\", \"company\", \"lokasi\", \"tingkat_job\", \"lama_pengalaman\", \"jenis_job\", \"ukuran_company\", \"industri\", \"gaji\"]].duplicated(keep = False)] \n",
    "# keep = False -> agar bisa kelihatan semua datanya (termasuk data asli dan duplikatnya)\n",
    "\n",
    "#duplikat.to_csv(\"Duplikat dari Data Gabungan.csv\", index = False)"
   ]
  },
  {
   "cell_type": "code",
   "execution_count": null,
   "metadata": {},
   "outputs": [],
   "source": [
    "df.info()"
   ]
  },
  {
   "cell_type": "code",
   "execution_count": null,
   "metadata": {},
   "outputs": [],
   "source": [
    "df.drop_duplicates(keep = \"first\", inplace = True, ignore_index = True) \n",
    "# keep = \"first\" -> Pertahankan data yang pertama saja, sisanya dianggap duplikat dan dihapus \n",
    "\n",
    "df.info()"
   ]
  },
  {
   "cell_type": "code",
   "execution_count": null,
   "metadata": {},
   "outputs": [],
   "source": [
    "# Save to csv\n",
    "df.to_csv(\"Data Gabungan dari Linkedin dan Jobstreet (3 Profesi).csv\", index = False)"
   ]
  }
 ],
 "metadata": {
  "kernelspec": {
   "display_name": "Python 3",
   "language": "python",
   "name": "python3"
  },
  "language_info": {
   "codemirror_mode": {
    "name": "ipython",
    "version": 3
   },
   "file_extension": ".py",
   "mimetype": "text/x-python",
   "name": "python",
   "nbconvert_exporter": "python",
   "pygments_lexer": "ipython3",
   "version": "3.8.3"
  }
 },
 "nbformat": 4,
 "nbformat_minor": 4
}
