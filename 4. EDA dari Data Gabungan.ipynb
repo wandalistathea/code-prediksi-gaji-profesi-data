{
 "cells": [
  {
   "cell_type": "markdown",
   "metadata": {},
   "source": [
    "# EDA Data Gabungan"
   ]
  },
  {
   "cell_type": "code",
   "execution_count": null,
   "metadata": {},
   "outputs": [],
   "source": [
    "import pandas as pd\n",
    "import numpy as np\n",
    "import matplotlib.pyplot as plt"
   ]
  },
  {
   "cell_type": "code",
   "execution_count": null,
   "metadata": {},
   "outputs": [],
   "source": [
    "data = pd.read_csv(\"Data Gabungan dari Linkedin dan Jobstreet (3 Profesi).csv\")"
   ]
  },
  {
   "cell_type": "code",
   "execution_count": null,
   "metadata": {},
   "outputs": [],
   "source": [
    "data.head(2)"
   ]
  },
  {
   "cell_type": "code",
   "execution_count": null,
   "metadata": {
    "scrolled": true
   },
   "outputs": [],
   "source": [
    "data.info()"
   ]
  },
  {
   "cell_type": "code",
   "execution_count": null,
   "metadata": {},
   "outputs": [],
   "source": [
    "len(data)"
   ]
  },
  {
   "cell_type": "code",
   "execution_count": null,
   "metadata": {},
   "outputs": [],
   "source": [
    "data.describe()"
   ]
  },
  {
   "cell_type": "code",
   "execution_count": null,
   "metadata": {},
   "outputs": [],
   "source": [
    "def summarize_features(df):\n",
    "    # first column will be data types of each feature\n",
    "    summary = pd.DataFrame(df.dtypes, columns = ['dtypes'])\n",
    "    summary = summary.reset_index()\n",
    "    # how many missing values in each feature\n",
    "    summary['Missing'] = df.isnull().sum().values\n",
    "    # how many unique values in each feature (cardinality indicator)\n",
    "    summary['Uniques'] = df.nunique().values\n",
    "\n",
    "    return summary\n",
    "\n",
    "summarize_features(data)"
   ]
  },
  {
   "cell_type": "markdown",
   "metadata": {},
   "source": [
    "### 1. Frekuensi Nama Profesi Data"
   ]
  },
  {
   "cell_type": "code",
   "execution_count": null,
   "metadata": {},
   "outputs": [],
   "source": [
    "data[\"job_name\"].unique()"
   ]
  },
  {
   "cell_type": "code",
   "execution_count": null,
   "metadata": {},
   "outputs": [],
   "source": [
    "size_job_name = data.groupby([\"job_name\"]).size().sort_values(ascending = False)\n",
    "size_job_name"
   ]
  },
  {
   "cell_type": "code",
   "execution_count": null,
   "metadata": {
    "scrolled": true
   },
   "outputs": [],
   "source": [
    "x = size_job_name.index\n",
    "y = size_job_name.values\n",
    "\n",
    "plt.bar(x, y)\n",
    "plt.title(\"Frekuensi Nama Profesi Data\")\n",
    "plt.xlabel(\"Nama Profesi Data\")\n",
    "plt.ylabel(\"Frekuensi\")\n",
    "plt.xticks(x)\n",
    "\n",
    "plt.savefig(\"gambar/1. Frekuensi Nama Profesi Data.png\")\n",
    "\n",
    "plt.show()"
   ]
  },
  {
   "cell_type": "markdown",
   "metadata": {},
   "source": [
    "### 2. Frekuensi Lokasi Perusahaan"
   ]
  },
  {
   "cell_type": "code",
   "execution_count": null,
   "metadata": {},
   "outputs": [],
   "source": [
    "data[\"lokasi\"].unique()"
   ]
  },
  {
   "cell_type": "code",
   "execution_count": null,
   "metadata": {
    "scrolled": false
   },
   "outputs": [],
   "source": [
    "size_lokasi = data.groupby([\"lokasi\"]).size().sort_values(ascending = False)\n",
    "size_lokasi"
   ]
  },
  {
   "cell_type": "code",
   "execution_count": null,
   "metadata": {},
   "outputs": [],
   "source": [
    "size_lokasi.head(7).index"
   ]
  },
  {
   "cell_type": "code",
   "execution_count": null,
   "metadata": {
    "scrolled": false
   },
   "outputs": [],
   "source": [
    "plt.figure(figsize = (9, 5))\n",
    "\n",
    "x = size_lokasi.head(7).index\n",
    "y = size_lokasi.head(7).values\n",
    "\n",
    "plt.bar(x, y)\n",
    "plt.title(\"Frekuensi Lokasi Perusahaan\")\n",
    "plt.xlabel(\"Lokasi\")\n",
    "plt.ylabel(\"Frekuensi\")\n",
    "plt.xticks(x)\n",
    "\n",
    "plt.savefig(\"gambar/2. Frekuensi Lokasi Perusahaan.png\")\n",
    "\n",
    "plt.show()"
   ]
  },
  {
   "cell_type": "markdown",
   "metadata": {},
   "source": [
    "### 3. Frekuensi Tingkat Pekerjaan"
   ]
  },
  {
   "cell_type": "code",
   "execution_count": null,
   "metadata": {},
   "outputs": [],
   "source": [
    "data[\"tingkat_job\"].unique()"
   ]
  },
  {
   "cell_type": "code",
   "execution_count": null,
   "metadata": {
    "scrolled": false
   },
   "outputs": [],
   "source": [
    "size_tingkat_job = data.groupby([\"tingkat_job\"]).size().sort_values(ascending = False)\n",
    "size_tingkat_job"
   ]
  },
  {
   "cell_type": "code",
   "execution_count": null,
   "metadata": {
    "scrolled": true
   },
   "outputs": [],
   "source": [
    "plt.figure(figsize = (8, 9))\n",
    "\n",
    "x = size_tingkat_job.index\n",
    "y = size_tingkat_job.values\n",
    "\n",
    "plt.bar(x, y)\n",
    "plt.title(\"Frekuensi Tingkat Pekerjaan\")\n",
    "plt.xlabel(\"Tingkat Pekerjaan\")\n",
    "plt.ylabel(\"Frekuensi\")\n",
    "plt.xticks(x, rotation = 20)\n",
    "\n",
    "plt.savefig(\"gambar/3. Frekuensi Tingkat Pekerjaan.png\")\n",
    "\n",
    "plt.show()"
   ]
  },
  {
   "cell_type": "markdown",
   "metadata": {},
   "source": [
    "### 4. Rata-Rata Lama Pengalaman"
   ]
  },
  {
   "cell_type": "code",
   "execution_count": null,
   "metadata": {},
   "outputs": [],
   "source": [
    "data[\"lama_pengalaman\"][~np.isnan(data[\"lama_pengalaman\"])]"
   ]
  },
  {
   "cell_type": "code",
   "execution_count": null,
   "metadata": {},
   "outputs": [],
   "source": [
    "filtered_lama_pengalaman = data[\"lama_pengalaman\"][~np.isnan(data[\"lama_pengalaman\"])]"
   ]
  },
  {
   "cell_type": "code",
   "execution_count": null,
   "metadata": {},
   "outputs": [],
   "source": [
    "plt.boxplot(filtered_lama_pengalaman, meanline = True, showmeans = True)\n",
    "plt.title(\"Boxplot Lama Pengalaman\")\n",
    "plt.ylabel(\"Lama Pengalaman (Tahun)\")\n",
    "\n",
    "plt.savefig(\"gambar/4. Boxplot Lama Pengalaman.png\")\n",
    "\n",
    "plt.show()"
   ]
  },
  {
   "cell_type": "markdown",
   "metadata": {},
   "source": [
    "### 5. Frekuensi Jenis Pekerjaan"
   ]
  },
  {
   "cell_type": "code",
   "execution_count": null,
   "metadata": {},
   "outputs": [],
   "source": [
    "data[\"jenis_job\"].unique()"
   ]
  },
  {
   "cell_type": "code",
   "execution_count": null,
   "metadata": {
    "scrolled": false
   },
   "outputs": [],
   "source": [
    "size_jenis_job = data.groupby([\"jenis_job\"]).size().sort_values(ascending = False)\n",
    "size_jenis_job"
   ]
  },
  {
   "cell_type": "code",
   "execution_count": null,
   "metadata": {
    "scrolled": false
   },
   "outputs": [],
   "source": [
    "x = size_jenis_job.index\n",
    "y = size_jenis_job.values\n",
    "\n",
    "plt.bar(x, y)\n",
    "plt.title(\"Frekuensi Jenis Pekerjaan\")\n",
    "plt.xlabel(\"Jenis Pekerjaan\")\n",
    "plt.ylabel(\"Frekuensi\")\n",
    "plt.xticks(x)\n",
    "\n",
    "plt.savefig(\"gambar/5. Frekuensi Jenis Pekerjaan.png\")\n",
    "\n",
    "plt.show()"
   ]
  },
  {
   "cell_type": "markdown",
   "metadata": {},
   "source": [
    "### 6. Frekuensi Ukuran Perusahaan"
   ]
  },
  {
   "cell_type": "code",
   "execution_count": null,
   "metadata": {},
   "outputs": [],
   "source": [
    "data[\"ukuran_company\"].unique()"
   ]
  },
  {
   "cell_type": "code",
   "execution_count": null,
   "metadata": {
    "scrolled": false
   },
   "outputs": [],
   "source": [
    "size_ukuran_company = data.groupby([\"ukuran_company\"]).size().sort_values(ascending = False)\n",
    "size_ukuran_company"
   ]
  },
  {
   "cell_type": "code",
   "execution_count": null,
   "metadata": {
    "scrolled": true
   },
   "outputs": [],
   "source": [
    "plt.figure(figsize = (8, 9))\n",
    "\n",
    "x = size_ukuran_company.index\n",
    "y = size_ukuran_company.values\n",
    "\n",
    "plt.bar(x, y)\n",
    "plt.title(\"Frekuensi Ukuran Perusahaan\")\n",
    "plt.xlabel(\"Ukuran Perusahaan\")\n",
    "plt.ylabel(\"Frekuensi\")\n",
    "plt.xticks(x, rotation = 20)\n",
    "\n",
    "plt.savefig(\"gambar/6. Frekuensi Ukuran Perusahaan.png\")\n",
    "\n",
    "plt.show()"
   ]
  },
  {
   "cell_type": "markdown",
   "metadata": {},
   "source": [
    "### 7. Frekuensi Industri"
   ]
  },
  {
   "cell_type": "code",
   "execution_count": null,
   "metadata": {},
   "outputs": [],
   "source": [
    "data[\"industri\"].unique()"
   ]
  },
  {
   "cell_type": "code",
   "execution_count": null,
   "metadata": {
    "scrolled": false
   },
   "outputs": [],
   "source": [
    "size_industri = data.groupby([\"industri\"]).size().sort_values(ascending = False)\n",
    "size_industri"
   ]
  },
  {
   "cell_type": "code",
   "execution_count": null,
   "metadata": {
    "scrolled": true
   },
   "outputs": [],
   "source": [
    "plt.figure(figsize = (12, 15))\n",
    "\n",
    "x = size_industri.head(6).index\n",
    "y = size_industri.head(6).values\n",
    "\n",
    "plt.bar(x, y)\n",
    "plt.title(\"Frekuensi Industri\")\n",
    "plt.xlabel(\"Industri\")\n",
    "plt.ylabel(\"Frekuensi\")\n",
    "plt.xticks(x, rotation = 20)\n",
    "\n",
    "plt.savefig(\"gambar/7. Frekuensi Industri.png\")\n",
    "\n",
    "plt.show()"
   ]
  },
  {
   "cell_type": "markdown",
   "metadata": {},
   "source": [
    "### 8. Rata-Rata Gaji"
   ]
  },
  {
   "cell_type": "code",
   "execution_count": null,
   "metadata": {},
   "outputs": [],
   "source": [
    "data[\"median_gaji\"][~np.isnan(data[\"median_gaji\"])]"
   ]
  },
  {
   "cell_type": "code",
   "execution_count": null,
   "metadata": {},
   "outputs": [],
   "source": [
    "filtered_median_gaji = data[\"median_gaji\"][~np.isnan(data[\"median_gaji\"])]"
   ]
  },
  {
   "cell_type": "code",
   "execution_count": null,
   "metadata": {
    "scrolled": true
   },
   "outputs": [],
   "source": [
    "plt.boxplot(filtered_median_gaji, meanline = True, showmeans = True)\n",
    "plt.title(\"Boxplot Gaji\")\n",
    "plt.ylabel(\"Gaji (Rp per Bulan)\")\n",
    "\n",
    "plt.savefig(\"gambar/8. Boxplot Gaji.png\")\n",
    "\n",
    "plt.show()"
   ]
  }
 ],
 "metadata": {
  "kernelspec": {
   "display_name": "Python 3",
   "language": "python",
   "name": "python3"
  },
  "language_info": {
   "codemirror_mode": {
    "name": "ipython",
    "version": 3
   },
   "file_extension": ".py",
   "mimetype": "text/x-python",
   "name": "python",
   "nbconvert_exporter": "python",
   "pygments_lexer": "ipython3",
   "version": "3.8.3"
  }
 },
 "nbformat": 4,
 "nbformat_minor": 4
}
