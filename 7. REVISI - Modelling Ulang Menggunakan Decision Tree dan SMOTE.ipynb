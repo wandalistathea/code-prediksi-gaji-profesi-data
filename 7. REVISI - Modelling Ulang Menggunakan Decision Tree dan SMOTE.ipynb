{
 "cells": [
  {
   "cell_type": "markdown",
   "metadata": {},
   "source": [
    "# Modelling Ulang Menggunakan Decision Tree dan SMOTE"
   ]
  },
  {
   "cell_type": "code",
   "execution_count": 1,
   "metadata": {},
   "outputs": [],
   "source": [
    "import pandas as pd\n",
    "import numpy as np\n",
    "import json\n",
    "import matplotlib.pyplot as plt"
   ]
  },
  {
   "cell_type": "code",
   "execution_count": 2,
   "metadata": {
    "scrolled": true
   },
   "outputs": [
    {
     "data": {
      "text/html": [
       "<div>\n",
       "<style scoped>\n",
       "    .dataframe tbody tr th:only-of-type {\n",
       "        vertical-align: middle;\n",
       "    }\n",
       "\n",
       "    .dataframe tbody tr th {\n",
       "        vertical-align: top;\n",
       "    }\n",
       "\n",
       "    .dataframe thead th {\n",
       "        text-align: right;\n",
       "    }\n",
       "</style>\n",
       "<table border=\"1\" class=\"dataframe\">\n",
       "  <thead>\n",
       "    <tr style=\"text-align: right;\">\n",
       "      <th></th>\n",
       "      <th>job_name</th>\n",
       "      <th>company</th>\n",
       "      <th>lokasi</th>\n",
       "      <th>tingkat_job</th>\n",
       "      <th>lama_pengalaman</th>\n",
       "      <th>jenis_job</th>\n",
       "      <th>ukuran_company</th>\n",
       "      <th>industri</th>\n",
       "      <th>gaji</th>\n",
       "      <th>median_gaji</th>\n",
       "      <th>sumber</th>\n",
       "    </tr>\n",
       "  </thead>\n",
       "  <tbody>\n",
       "    <tr>\n",
       "      <th>485</th>\n",
       "      <td>data engineer</td>\n",
       "      <td>michael page</td>\n",
       "      <td>dki jakarta</td>\n",
       "      <td>asosiasi</td>\n",
       "      <td>NaN</td>\n",
       "      <td>penuh waktu</td>\n",
       "      <td>&gt;5.000 pekerja</td>\n",
       "      <td>human resources</td>\n",
       "      <td>NaN</td>\n",
       "      <td>NaN</td>\n",
       "      <td>linkedin</td>\n",
       "    </tr>\n",
       "    <tr>\n",
       "      <th>486</th>\n",
       "      <td>data engineer</td>\n",
       "      <td>niometrics</td>\n",
       "      <td>dki jakarta</td>\n",
       "      <td>tingkat pemula</td>\n",
       "      <td>NaN</td>\n",
       "      <td>penuh waktu</td>\n",
       "      <td>51-200 pekerja</td>\n",
       "      <td>teknologi informasi dan komunikasi</td>\n",
       "      <td>NaN</td>\n",
       "      <td>NaN</td>\n",
       "      <td>linkedin</td>\n",
       "    </tr>\n",
       "    <tr>\n",
       "      <th>487</th>\n",
       "      <td>data engineer</td>\n",
       "      <td>ruangguru.com</td>\n",
       "      <td>dki jakarta</td>\n",
       "      <td>asosiasi</td>\n",
       "      <td>NaN</td>\n",
       "      <td>penuh waktu</td>\n",
       "      <td>1.001-5.000 pekerja</td>\n",
       "      <td>pendidikan</td>\n",
       "      <td>NaN</td>\n",
       "      <td>NaN</td>\n",
       "      <td>linkedin</td>\n",
       "    </tr>\n",
       "    <tr>\n",
       "      <th>488</th>\n",
       "      <td>data engineer</td>\n",
       "      <td>matchatalent</td>\n",
       "      <td>dki jakarta</td>\n",
       "      <td>asosiasi</td>\n",
       "      <td>NaN</td>\n",
       "      <td>penuh waktu</td>\n",
       "      <td>1-50 pekerja</td>\n",
       "      <td>human resources</td>\n",
       "      <td>NaN</td>\n",
       "      <td>NaN</td>\n",
       "      <td>linkedin</td>\n",
       "    </tr>\n",
       "    <tr>\n",
       "      <th>489</th>\n",
       "      <td>data engineer</td>\n",
       "      <td>pt tani hub indonesia</td>\n",
       "      <td>dki jakarta</td>\n",
       "      <td>asosiasi</td>\n",
       "      <td>NaN</td>\n",
       "      <td>penuh waktu</td>\n",
       "      <td>NaN</td>\n",
       "      <td>NaN</td>\n",
       "      <td>NaN</td>\n",
       "      <td>NaN</td>\n",
       "      <td>linkedin</td>\n",
       "    </tr>\n",
       "  </tbody>\n",
       "</table>\n",
       "</div>"
      ],
      "text/plain": [
       "          job_name                company       lokasi     tingkat_job  \\\n",
       "485  data engineer           michael page  dki jakarta        asosiasi   \n",
       "486  data engineer             niometrics  dki jakarta  tingkat pemula   \n",
       "487  data engineer          ruangguru.com  dki jakarta        asosiasi   \n",
       "488  data engineer           matchatalent  dki jakarta        asosiasi   \n",
       "489  data engineer  pt tani hub indonesia  dki jakarta        asosiasi   \n",
       "\n",
       "     lama_pengalaman    jenis_job       ukuran_company  \\\n",
       "485              NaN  penuh waktu       >5.000 pekerja   \n",
       "486              NaN  penuh waktu       51-200 pekerja   \n",
       "487              NaN  penuh waktu  1.001-5.000 pekerja   \n",
       "488              NaN  penuh waktu         1-50 pekerja   \n",
       "489              NaN  penuh waktu                  NaN   \n",
       "\n",
       "                               industri gaji  median_gaji    sumber  \n",
       "485                     human resources  NaN          NaN  linkedin  \n",
       "486  teknologi informasi dan komunikasi  NaN          NaN  linkedin  \n",
       "487                          pendidikan  NaN          NaN  linkedin  \n",
       "488                     human resources  NaN          NaN  linkedin  \n",
       "489                                 NaN  NaN          NaN  linkedin  "
      ]
     },
     "execution_count": 2,
     "metadata": {},
     "output_type": "execute_result"
    }
   ],
   "source": [
    "data = pd.read_csv(\"Data Gabungan dari Linkedin dan Jobstreet (3 Profesi).csv\")\n",
    "data.tail()"
   ]
  },
  {
   "cell_type": "code",
   "execution_count": 3,
   "metadata": {
    "scrolled": true
   },
   "outputs": [
    {
     "name": "stdout",
     "output_type": "stream",
     "text": [
      "<class 'pandas.core.frame.DataFrame'>\n",
      "RangeIndex: 490 entries, 0 to 489\n",
      "Data columns (total 11 columns):\n",
      " #   Column           Non-Null Count  Dtype  \n",
      "---  ------           --------------  -----  \n",
      " 0   job_name         490 non-null    object \n",
      " 1   company          488 non-null    object \n",
      " 2   lokasi           489 non-null    object \n",
      " 3   tingkat_job      440 non-null    object \n",
      " 4   lama_pengalaman  128 non-null    float64\n",
      " 5   jenis_job        472 non-null    object \n",
      " 6   ukuran_company   298 non-null    object \n",
      " 7   industri         274 non-null    object \n",
      " 8   gaji             78 non-null     object \n",
      " 9   median_gaji      78 non-null     float64\n",
      " 10  sumber           490 non-null    object \n",
      "dtypes: float64(2), object(9)\n",
      "memory usage: 42.2+ KB\n"
     ]
    }
   ],
   "source": [
    "data.info()"
   ]
  },
  {
   "cell_type": "code",
   "execution_count": 4,
   "metadata": {
    "scrolled": true
   },
   "outputs": [
    {
     "data": {
      "text/html": [
       "<div>\n",
       "<style scoped>\n",
       "    .dataframe tbody tr th:only-of-type {\n",
       "        vertical-align: middle;\n",
       "    }\n",
       "\n",
       "    .dataframe tbody tr th {\n",
       "        vertical-align: top;\n",
       "    }\n",
       "\n",
       "    .dataframe thead th {\n",
       "        text-align: right;\n",
       "    }\n",
       "</style>\n",
       "<table border=\"1\" class=\"dataframe\">\n",
       "  <thead>\n",
       "    <tr style=\"text-align: right;\">\n",
       "      <th></th>\n",
       "      <th>index</th>\n",
       "      <th>dtypes</th>\n",
       "      <th>Missing</th>\n",
       "      <th>Uniques</th>\n",
       "    </tr>\n",
       "  </thead>\n",
       "  <tbody>\n",
       "    <tr>\n",
       "      <th>0</th>\n",
       "      <td>job_name</td>\n",
       "      <td>object</td>\n",
       "      <td>0</td>\n",
       "      <td>3</td>\n",
       "    </tr>\n",
       "    <tr>\n",
       "      <th>1</th>\n",
       "      <td>company</td>\n",
       "      <td>object</td>\n",
       "      <td>2</td>\n",
       "      <td>342</td>\n",
       "    </tr>\n",
       "    <tr>\n",
       "      <th>2</th>\n",
       "      <td>lokasi</td>\n",
       "      <td>object</td>\n",
       "      <td>1</td>\n",
       "      <td>13</td>\n",
       "    </tr>\n",
       "    <tr>\n",
       "      <th>3</th>\n",
       "      <td>tingkat_job</td>\n",
       "      <td>object</td>\n",
       "      <td>50</td>\n",
       "      <td>6</td>\n",
       "    </tr>\n",
       "    <tr>\n",
       "      <th>4</th>\n",
       "      <td>lama_pengalaman</td>\n",
       "      <td>float64</td>\n",
       "      <td>362</td>\n",
       "      <td>6</td>\n",
       "    </tr>\n",
       "    <tr>\n",
       "      <th>5</th>\n",
       "      <td>jenis_job</td>\n",
       "      <td>object</td>\n",
       "      <td>18</td>\n",
       "      <td>4</td>\n",
       "    </tr>\n",
       "    <tr>\n",
       "      <th>6</th>\n",
       "      <td>ukuran_company</td>\n",
       "      <td>object</td>\n",
       "      <td>192</td>\n",
       "      <td>6</td>\n",
       "    </tr>\n",
       "    <tr>\n",
       "      <th>7</th>\n",
       "      <td>industri</td>\n",
       "      <td>object</td>\n",
       "      <td>216</td>\n",
       "      <td>24</td>\n",
       "    </tr>\n",
       "    <tr>\n",
       "      <th>8</th>\n",
       "      <td>gaji</td>\n",
       "      <td>object</td>\n",
       "      <td>412</td>\n",
       "      <td>66</td>\n",
       "    </tr>\n",
       "    <tr>\n",
       "      <th>9</th>\n",
       "      <td>median_gaji</td>\n",
       "      <td>float64</td>\n",
       "      <td>412</td>\n",
       "      <td>52</td>\n",
       "    </tr>\n",
       "    <tr>\n",
       "      <th>10</th>\n",
       "      <td>sumber</td>\n",
       "      <td>object</td>\n",
       "      <td>0</td>\n",
       "      <td>2</td>\n",
       "    </tr>\n",
       "  </tbody>\n",
       "</table>\n",
       "</div>"
      ],
      "text/plain": [
       "              index   dtypes  Missing  Uniques\n",
       "0          job_name   object        0        3\n",
       "1           company   object        2      342\n",
       "2            lokasi   object        1       13\n",
       "3       tingkat_job   object       50        6\n",
       "4   lama_pengalaman  float64      362        6\n",
       "5         jenis_job   object       18        4\n",
       "6    ukuran_company   object      192        6\n",
       "7          industri   object      216       24\n",
       "8              gaji   object      412       66\n",
       "9       median_gaji  float64      412       52\n",
       "10           sumber   object        0        2"
      ]
     },
     "execution_count": 4,
     "metadata": {},
     "output_type": "execute_result"
    }
   ],
   "source": [
    "def summarize_features(df):\n",
    "    # first column will be data types of each feature\n",
    "    summary = pd.DataFrame(df.dtypes, columns = ['dtypes'])\n",
    "    summary = summary.reset_index()\n",
    "    # how many missing values in each feature\n",
    "    summary['Missing'] = df.isnull().sum().values\n",
    "    # how many unique values in each feature (cardinality indicator)\n",
    "    summary['Uniques'] = df.nunique().values\n",
    "\n",
    "    return summary\n",
    "\n",
    "summarize_features(data)"
   ]
  },
  {
   "cell_type": "code",
   "execution_count": 5,
   "metadata": {},
   "outputs": [
    {
     "data": {
      "text/plain": [
       "490"
      ]
     },
     "execution_count": 5,
     "metadata": {},
     "output_type": "execute_result"
    }
   ],
   "source": [
    "len(data)"
   ]
  },
  {
   "cell_type": "code",
   "execution_count": 6,
   "metadata": {},
   "outputs": [],
   "source": [
    "data.drop([\"company\", \"gaji\", \"sumber\"], axis = 1, inplace = True)"
   ]
  },
  {
   "cell_type": "code",
   "execution_count": 7,
   "metadata": {},
   "outputs": [
    {
     "data": {
      "text/plain": [
       "Index(['job_name', 'lokasi', 'tingkat_job', 'lama_pengalaman', 'jenis_job',\n",
       "       'ukuran_company', 'industri', 'median_gaji'],\n",
       "      dtype='object')"
      ]
     },
     "execution_count": 7,
     "metadata": {},
     "output_type": "execute_result"
    }
   ],
   "source": [
    "data.columns"
   ]
  },
  {
   "cell_type": "code",
   "execution_count": 8,
   "metadata": {},
   "outputs": [],
   "source": [
    "# subset -> Define in which columns to look for missing values\n",
    "\n",
    "data.dropna(subset = [\"median_gaji\"], inplace = True)"
   ]
  },
  {
   "cell_type": "code",
   "execution_count": 9,
   "metadata": {},
   "outputs": [
    {
     "data": {
      "text/html": [
       "<div>\n",
       "<style scoped>\n",
       "    .dataframe tbody tr th:only-of-type {\n",
       "        vertical-align: middle;\n",
       "    }\n",
       "\n",
       "    .dataframe tbody tr th {\n",
       "        vertical-align: top;\n",
       "    }\n",
       "\n",
       "    .dataframe thead th {\n",
       "        text-align: right;\n",
       "    }\n",
       "</style>\n",
       "<table border=\"1\" class=\"dataframe\">\n",
       "  <thead>\n",
       "    <tr style=\"text-align: right;\">\n",
       "      <th></th>\n",
       "      <th>job_name</th>\n",
       "      <th>lokasi</th>\n",
       "      <th>tingkat_job</th>\n",
       "      <th>lama_pengalaman</th>\n",
       "      <th>jenis_job</th>\n",
       "      <th>ukuran_company</th>\n",
       "      <th>industri</th>\n",
       "      <th>median_gaji</th>\n",
       "    </tr>\n",
       "  </thead>\n",
       "  <tbody>\n",
       "    <tr>\n",
       "      <th>0</th>\n",
       "      <td>data scientist</td>\n",
       "      <td>dki jakarta</td>\n",
       "      <td>senior tingkat menengah</td>\n",
       "      <td>5.0</td>\n",
       "      <td>penuh waktu</td>\n",
       "      <td>NaN</td>\n",
       "      <td>NaN</td>\n",
       "      <td>22500000.0</td>\n",
       "    </tr>\n",
       "    <tr>\n",
       "      <th>6</th>\n",
       "      <td>data scientist</td>\n",
       "      <td>dki jakarta</td>\n",
       "      <td>asosiasi</td>\n",
       "      <td>2.0</td>\n",
       "      <td>penuh waktu</td>\n",
       "      <td>51-200 pekerja</td>\n",
       "      <td>konsultasi</td>\n",
       "      <td>16000000.0</td>\n",
       "    </tr>\n",
       "  </tbody>\n",
       "</table>\n",
       "</div>"
      ],
      "text/plain": [
       "         job_name       lokasi              tingkat_job  lama_pengalaman  \\\n",
       "0  data scientist  dki jakarta  senior tingkat menengah              5.0   \n",
       "6  data scientist  dki jakarta                 asosiasi              2.0   \n",
       "\n",
       "     jenis_job  ukuran_company    industri  median_gaji  \n",
       "0  penuh waktu             NaN         NaN   22500000.0  \n",
       "6  penuh waktu  51-200 pekerja  konsultasi   16000000.0  "
      ]
     },
     "execution_count": 9,
     "metadata": {},
     "output_type": "execute_result"
    }
   ],
   "source": [
    "data.head(2)"
   ]
  },
  {
   "cell_type": "code",
   "execution_count": 10,
   "metadata": {},
   "outputs": [],
   "source": [
    "data.reset_index(drop = True, inplace = True)"
   ]
  },
  {
   "cell_type": "code",
   "execution_count": 11,
   "metadata": {},
   "outputs": [
    {
     "data": {
      "text/html": [
       "<div>\n",
       "<style scoped>\n",
       "    .dataframe tbody tr th:only-of-type {\n",
       "        vertical-align: middle;\n",
       "    }\n",
       "\n",
       "    .dataframe tbody tr th {\n",
       "        vertical-align: top;\n",
       "    }\n",
       "\n",
       "    .dataframe thead th {\n",
       "        text-align: right;\n",
       "    }\n",
       "</style>\n",
       "<table border=\"1\" class=\"dataframe\">\n",
       "  <thead>\n",
       "    <tr style=\"text-align: right;\">\n",
       "      <th></th>\n",
       "      <th>job_name</th>\n",
       "      <th>lokasi</th>\n",
       "      <th>tingkat_job</th>\n",
       "      <th>lama_pengalaman</th>\n",
       "      <th>jenis_job</th>\n",
       "      <th>ukuran_company</th>\n",
       "      <th>industri</th>\n",
       "      <th>median_gaji</th>\n",
       "    </tr>\n",
       "  </thead>\n",
       "  <tbody>\n",
       "    <tr>\n",
       "      <th>0</th>\n",
       "      <td>data scientist</td>\n",
       "      <td>dki jakarta</td>\n",
       "      <td>senior tingkat menengah</td>\n",
       "      <td>5.0</td>\n",
       "      <td>penuh waktu</td>\n",
       "      <td>NaN</td>\n",
       "      <td>NaN</td>\n",
       "      <td>22500000.0</td>\n",
       "    </tr>\n",
       "    <tr>\n",
       "      <th>1</th>\n",
       "      <td>data scientist</td>\n",
       "      <td>dki jakarta</td>\n",
       "      <td>asosiasi</td>\n",
       "      <td>2.0</td>\n",
       "      <td>penuh waktu</td>\n",
       "      <td>51-200 pekerja</td>\n",
       "      <td>konsultasi</td>\n",
       "      <td>16000000.0</td>\n",
       "    </tr>\n",
       "  </tbody>\n",
       "</table>\n",
       "</div>"
      ],
      "text/plain": [
       "         job_name       lokasi              tingkat_job  lama_pengalaman  \\\n",
       "0  data scientist  dki jakarta  senior tingkat menengah              5.0   \n",
       "1  data scientist  dki jakarta                 asosiasi              2.0   \n",
       "\n",
       "     jenis_job  ukuran_company    industri  median_gaji  \n",
       "0  penuh waktu             NaN         NaN   22500000.0  \n",
       "1  penuh waktu  51-200 pekerja  konsultasi   16000000.0  "
      ]
     },
     "execution_count": 11,
     "metadata": {},
     "output_type": "execute_result"
    }
   ],
   "source": [
    "data.head(2)"
   ]
  },
  {
   "cell_type": "code",
   "execution_count": 12,
   "metadata": {},
   "outputs": [
    {
     "data": {
      "text/plain": [
       "78"
      ]
     },
     "execution_count": 12,
     "metadata": {},
     "output_type": "execute_result"
    }
   ],
   "source": [
    "len(data)"
   ]
  },
  {
   "cell_type": "code",
   "execution_count": 13,
   "metadata": {},
   "outputs": [
    {
     "data": {
      "text/plain": [
       "job_name\n",
       "data analyst      37\n",
       "data engineer     25\n",
       "data scientist    16\n",
       "dtype: int64"
      ]
     },
     "execution_count": 13,
     "metadata": {},
     "output_type": "execute_result"
    }
   ],
   "source": [
    "data.groupby([\"job_name\"]).size()"
   ]
  },
  {
   "cell_type": "code",
   "execution_count": 14,
   "metadata": {},
   "outputs": [
    {
     "data": {
      "text/html": [
       "<div>\n",
       "<style scoped>\n",
       "    .dataframe tbody tr th:only-of-type {\n",
       "        vertical-align: middle;\n",
       "    }\n",
       "\n",
       "    .dataframe tbody tr th {\n",
       "        vertical-align: top;\n",
       "    }\n",
       "\n",
       "    .dataframe thead th {\n",
       "        text-align: right;\n",
       "    }\n",
       "</style>\n",
       "<table border=\"1\" class=\"dataframe\">\n",
       "  <thead>\n",
       "    <tr style=\"text-align: right;\">\n",
       "      <th></th>\n",
       "      <th>index</th>\n",
       "      <th>dtypes</th>\n",
       "      <th>Missing</th>\n",
       "      <th>Uniques</th>\n",
       "    </tr>\n",
       "  </thead>\n",
       "  <tbody>\n",
       "    <tr>\n",
       "      <th>0</th>\n",
       "      <td>job_name</td>\n",
       "      <td>object</td>\n",
       "      <td>0</td>\n",
       "      <td>3</td>\n",
       "    </tr>\n",
       "    <tr>\n",
       "      <th>1</th>\n",
       "      <td>lokasi</td>\n",
       "      <td>object</td>\n",
       "      <td>0</td>\n",
       "      <td>7</td>\n",
       "    </tr>\n",
       "    <tr>\n",
       "      <th>2</th>\n",
       "      <td>tingkat_job</td>\n",
       "      <td>object</td>\n",
       "      <td>0</td>\n",
       "      <td>4</td>\n",
       "    </tr>\n",
       "    <tr>\n",
       "      <th>3</th>\n",
       "      <td>lama_pengalaman</td>\n",
       "      <td>float64</td>\n",
       "      <td>47</td>\n",
       "      <td>4</td>\n",
       "    </tr>\n",
       "    <tr>\n",
       "      <th>4</th>\n",
       "      <td>jenis_job</td>\n",
       "      <td>object</td>\n",
       "      <td>0</td>\n",
       "      <td>3</td>\n",
       "    </tr>\n",
       "    <tr>\n",
       "      <th>5</th>\n",
       "      <td>ukuran_company</td>\n",
       "      <td>object</td>\n",
       "      <td>39</td>\n",
       "      <td>6</td>\n",
       "    </tr>\n",
       "    <tr>\n",
       "      <th>6</th>\n",
       "      <td>industri</td>\n",
       "      <td>object</td>\n",
       "      <td>45</td>\n",
       "      <td>10</td>\n",
       "    </tr>\n",
       "    <tr>\n",
       "      <th>7</th>\n",
       "      <td>median_gaji</td>\n",
       "      <td>float64</td>\n",
       "      <td>0</td>\n",
       "      <td>52</td>\n",
       "    </tr>\n",
       "  </tbody>\n",
       "</table>\n",
       "</div>"
      ],
      "text/plain": [
       "             index   dtypes  Missing  Uniques\n",
       "0         job_name   object        0        3\n",
       "1           lokasi   object        0        7\n",
       "2      tingkat_job   object        0        4\n",
       "3  lama_pengalaman  float64       47        4\n",
       "4        jenis_job   object        0        3\n",
       "5   ukuran_company   object       39        6\n",
       "6         industri   object       45       10\n",
       "7      median_gaji  float64        0       52"
      ]
     },
     "execution_count": 14,
     "metadata": {},
     "output_type": "execute_result"
    }
   ],
   "source": [
    "summarize_features(data)"
   ]
  },
  {
   "cell_type": "code",
   "execution_count": 15,
   "metadata": {},
   "outputs": [],
   "source": [
    "data_awal = data.copy()"
   ]
  },
  {
   "cell_type": "code",
   "execution_count": 16,
   "metadata": {
    "scrolled": true
   },
   "outputs": [
    {
     "data": {
      "text/plain": [
       "78"
      ]
     },
     "execution_count": 16,
     "metadata": {},
     "output_type": "execute_result"
    }
   ],
   "source": [
    "len(data_awal) # \"data_awal\" yang disimpan aja, \"data\" dipakai di bawah2nya"
   ]
  },
  {
   "cell_type": "code",
   "execution_count": 17,
   "metadata": {},
   "outputs": [],
   "source": [
    "data_awal.rename(columns = {\"job_name\": \"Nama Profesi Data\",\n",
    "                       \"lokasi\": \"Lokasi Perusahaan\", \n",
    "                       \"tingkat_job\": \"Tingkat Pekerjaan\", \n",
    "                       \"lama_pengalaman\": \"Lama Pengalaman\",\n",
    "                       \"jenis_job\": \"Jenis Pekerjaan\", \n",
    "                       \"ukuran_company\": \"Ukuran Perusahaan\", \n",
    "                       \"industri\": \"Industri\", \n",
    "                       \"median_gaji\": \"Gaji\"}, inplace=True)"
   ]
  },
  {
   "cell_type": "code",
   "execution_count": null,
   "metadata": {
    "scrolled": true
   },
   "outputs": [],
   "source": [
    "#!pip install dython"
   ]
  },
  {
   "cell_type": "code",
   "execution_count": null,
   "metadata": {
    "scrolled": true
   },
   "outputs": [],
   "source": [
    "# KORELASI\n",
    "from dython import nominal\n",
    "nominal.associations(data_awal, \n",
    "                     nominal_columns = [\"Nama Profesi Data\", \"Lokasi Perusahaan\", \"Tingkat Pekerjaan\", \"Jenis Pekerjaan\", \"Ukuran Perusahaan\", \"Industri\"], \n",
    "                     numerical_columns = [\"Lama Pengalaman\", \"Gaji\"],\n",
    "                     figsize = (13, 12), \n",
    "                     title = \"Korelasi Antar Variabel\",\n",
    "                     filename = \"Hasil Korelasi Dython\")\n",
    "\n",
    "# Coba ambil yang korelasinya >0,25 dan yang masuk akal\n",
    "# Coba variabel \"jenis_job\" dihapus saja"
   ]
  },
  {
   "cell_type": "code",
   "execution_count": 18,
   "metadata": {},
   "outputs": [],
   "source": [
    "data.drop([\"jenis_job\"], axis = 1, inplace = True)"
   ]
  },
  {
   "cell_type": "code",
   "execution_count": 19,
   "metadata": {},
   "outputs": [
    {
     "data": {
      "text/html": [
       "<div>\n",
       "<style scoped>\n",
       "    .dataframe tbody tr th:only-of-type {\n",
       "        vertical-align: middle;\n",
       "    }\n",
       "\n",
       "    .dataframe tbody tr th {\n",
       "        vertical-align: top;\n",
       "    }\n",
       "\n",
       "    .dataframe thead th {\n",
       "        text-align: right;\n",
       "    }\n",
       "</style>\n",
       "<table border=\"1\" class=\"dataframe\">\n",
       "  <thead>\n",
       "    <tr style=\"text-align: right;\">\n",
       "      <th></th>\n",
       "      <th>index</th>\n",
       "      <th>dtypes</th>\n",
       "      <th>Missing</th>\n",
       "      <th>Uniques</th>\n",
       "    </tr>\n",
       "  </thead>\n",
       "  <tbody>\n",
       "    <tr>\n",
       "      <th>0</th>\n",
       "      <td>job_name</td>\n",
       "      <td>object</td>\n",
       "      <td>0</td>\n",
       "      <td>3</td>\n",
       "    </tr>\n",
       "    <tr>\n",
       "      <th>1</th>\n",
       "      <td>lokasi</td>\n",
       "      <td>object</td>\n",
       "      <td>0</td>\n",
       "      <td>7</td>\n",
       "    </tr>\n",
       "    <tr>\n",
       "      <th>2</th>\n",
       "      <td>tingkat_job</td>\n",
       "      <td>object</td>\n",
       "      <td>0</td>\n",
       "      <td>4</td>\n",
       "    </tr>\n",
       "    <tr>\n",
       "      <th>3</th>\n",
       "      <td>lama_pengalaman</td>\n",
       "      <td>float64</td>\n",
       "      <td>47</td>\n",
       "      <td>4</td>\n",
       "    </tr>\n",
       "    <tr>\n",
       "      <th>4</th>\n",
       "      <td>ukuran_company</td>\n",
       "      <td>object</td>\n",
       "      <td>39</td>\n",
       "      <td>6</td>\n",
       "    </tr>\n",
       "    <tr>\n",
       "      <th>5</th>\n",
       "      <td>industri</td>\n",
       "      <td>object</td>\n",
       "      <td>45</td>\n",
       "      <td>10</td>\n",
       "    </tr>\n",
       "    <tr>\n",
       "      <th>6</th>\n",
       "      <td>median_gaji</td>\n",
       "      <td>float64</td>\n",
       "      <td>0</td>\n",
       "      <td>52</td>\n",
       "    </tr>\n",
       "  </tbody>\n",
       "</table>\n",
       "</div>"
      ],
      "text/plain": [
       "             index   dtypes  Missing  Uniques\n",
       "0         job_name   object        0        3\n",
       "1           lokasi   object        0        7\n",
       "2      tingkat_job   object        0        4\n",
       "3  lama_pengalaman  float64       47        4\n",
       "4   ukuran_company   object       39        6\n",
       "5         industri   object       45       10\n",
       "6      median_gaji  float64        0       52"
      ]
     },
     "execution_count": 19,
     "metadata": {},
     "output_type": "execute_result"
    }
   ],
   "source": [
    "summarize_features(data)"
   ]
  },
  {
   "cell_type": "markdown",
   "metadata": {},
   "source": [
    "# Handling Missing Value"
   ]
  },
  {
   "cell_type": "markdown",
   "metadata": {},
   "source": [
    "### 1. Menangani Missing Value di \"ukuran_company\""
   ]
  },
  {
   "cell_type": "code",
   "execution_count": 20,
   "metadata": {},
   "outputs": [
    {
     "data": {
      "text/plain": [
       "3"
      ]
     },
     "execution_count": 20,
     "metadata": {},
     "output_type": "execute_result"
    }
   ],
   "source": [
    "# Coba berdasarkan variabel -> \"job_name\"\n",
    "\n",
    "import statistics\n",
    "\n",
    "count_ukuran_company1 = data.groupby([\"job_name\", \"ukuran_company\"])[\"ukuran_company\"].count()\n",
    "mode_ukuran_company1 = data[data[\"ukuran_company\"].notna()].groupby([\"job_name\"])[\"ukuran_company\"].apply(statistics.mode)\n",
    "len(mode_ukuran_company1)"
   ]
  },
  {
   "cell_type": "code",
   "execution_count": 21,
   "metadata": {},
   "outputs": [
    {
     "data": {
      "text/plain": [
       "job_name        ukuran_company     \n",
       "data analyst    1-50 pekerja           6\n",
       "                1.001-5.000 pekerja    3\n",
       "                201-500 pekerja        5\n",
       "                501-1.000 pekerja      2\n",
       "                51-200 pekerja         8\n",
       "                >5.000 pekerja         1\n",
       "data engineer   1-50 pekerja           4\n",
       "                201-500 pekerja        2\n",
       "                51-200 pekerja         3\n",
       "data scientist  1-50 pekerja           1\n",
       "                201-500 pekerja        1\n",
       "                51-200 pekerja         3\n",
       "Name: ukuran_company, dtype: int64"
      ]
     },
     "execution_count": 21,
     "metadata": {},
     "output_type": "execute_result"
    }
   ],
   "source": [
    "count_ukuran_company1"
   ]
  },
  {
   "cell_type": "code",
   "execution_count": 22,
   "metadata": {},
   "outputs": [
    {
     "data": {
      "text/plain": [
       "job_name\n",
       "data analyst      51-200 pekerja\n",
       "data engineer       1-50 pekerja\n",
       "data scientist    51-200 pekerja\n",
       "Name: ukuran_company, dtype: object"
      ]
     },
     "execution_count": 22,
     "metadata": {},
     "output_type": "execute_result"
    }
   ],
   "source": [
    "mode_ukuran_company1"
   ]
  },
  {
   "cell_type": "code",
   "execution_count": 23,
   "metadata": {},
   "outputs": [
    {
     "data": {
      "text/plain": [
       "array(['51-200 pekerja', '1-50 pekerja', '51-200 pekerja'], dtype=object)"
      ]
     },
     "execution_count": 23,
     "metadata": {},
     "output_type": "execute_result"
    }
   ],
   "source": [
    "mode_ukuran_company1.values"
   ]
  },
  {
   "cell_type": "code",
   "execution_count": 24,
   "metadata": {},
   "outputs": [],
   "source": [
    "dict_group1a = {}\n",
    "\n",
    "for indeks in mode_ukuran_company1.index:    \n",
    "    group1a = {indeks: mode_ukuran_company1[indeks]}\n",
    "    \n",
    "    dict_group1a.update(group1a)"
   ]
  },
  {
   "cell_type": "code",
   "execution_count": 25,
   "metadata": {},
   "outputs": [
    {
     "name": "stderr",
     "output_type": "stream",
     "text": [
      "/var/folders/v5/qz8b1b916txcqz__966vn8dr0000gn/T/ipykernel_21609/576378443.py:8: SettingWithCopyWarning: \n",
      "A value is trying to be set on a copy of a slice from a DataFrame\n",
      "\n",
      "See the caveats in the documentation: https://pandas.pydata.org/pandas-docs/stable/user_guide/indexing.html#returning-a-view-versus-a-copy\n",
      "  data[\"ukuran_company\"][i] = dict_group1a[j]\n",
      "/var/folders/v5/qz8b1b916txcqz__966vn8dr0000gn/T/ipykernel_21609/576378443.py:8: SettingWithCopyWarning: \n",
      "A value is trying to be set on a copy of a slice from a DataFrame\n",
      "\n",
      "See the caveats in the documentation: https://pandas.pydata.org/pandas-docs/stable/user_guide/indexing.html#returning-a-view-versus-a-copy\n",
      "  data[\"ukuran_company\"][i] = dict_group1a[j]\n",
      "/var/folders/v5/qz8b1b916txcqz__966vn8dr0000gn/T/ipykernel_21609/576378443.py:8: SettingWithCopyWarning: \n",
      "A value is trying to be set on a copy of a slice from a DataFrame\n",
      "\n",
      "See the caveats in the documentation: https://pandas.pydata.org/pandas-docs/stable/user_guide/indexing.html#returning-a-view-versus-a-copy\n",
      "  data[\"ukuran_company\"][i] = dict_group1a[j]\n",
      "/var/folders/v5/qz8b1b916txcqz__966vn8dr0000gn/T/ipykernel_21609/576378443.py:8: SettingWithCopyWarning: \n",
      "A value is trying to be set on a copy of a slice from a DataFrame\n",
      "\n",
      "See the caveats in the documentation: https://pandas.pydata.org/pandas-docs/stable/user_guide/indexing.html#returning-a-view-versus-a-copy\n",
      "  data[\"ukuran_company\"][i] = dict_group1a[j]\n",
      "/var/folders/v5/qz8b1b916txcqz__966vn8dr0000gn/T/ipykernel_21609/576378443.py:8: SettingWithCopyWarning: \n",
      "A value is trying to be set on a copy of a slice from a DataFrame\n",
      "\n",
      "See the caveats in the documentation: https://pandas.pydata.org/pandas-docs/stable/user_guide/indexing.html#returning-a-view-versus-a-copy\n",
      "  data[\"ukuran_company\"][i] = dict_group1a[j]\n",
      "/var/folders/v5/qz8b1b916txcqz__966vn8dr0000gn/T/ipykernel_21609/576378443.py:8: SettingWithCopyWarning: \n",
      "A value is trying to be set on a copy of a slice from a DataFrame\n",
      "\n",
      "See the caveats in the documentation: https://pandas.pydata.org/pandas-docs/stable/user_guide/indexing.html#returning-a-view-versus-a-copy\n",
      "  data[\"ukuran_company\"][i] = dict_group1a[j]\n",
      "/var/folders/v5/qz8b1b916txcqz__966vn8dr0000gn/T/ipykernel_21609/576378443.py:8: SettingWithCopyWarning: \n",
      "A value is trying to be set on a copy of a slice from a DataFrame\n",
      "\n",
      "See the caveats in the documentation: https://pandas.pydata.org/pandas-docs/stable/user_guide/indexing.html#returning-a-view-versus-a-copy\n",
      "  data[\"ukuran_company\"][i] = dict_group1a[j]\n",
      "/var/folders/v5/qz8b1b916txcqz__966vn8dr0000gn/T/ipykernel_21609/576378443.py:8: SettingWithCopyWarning: \n",
      "A value is trying to be set on a copy of a slice from a DataFrame\n",
      "\n",
      "See the caveats in the documentation: https://pandas.pydata.org/pandas-docs/stable/user_guide/indexing.html#returning-a-view-versus-a-copy\n",
      "  data[\"ukuran_company\"][i] = dict_group1a[j]\n",
      "/var/folders/v5/qz8b1b916txcqz__966vn8dr0000gn/T/ipykernel_21609/576378443.py:8: SettingWithCopyWarning: \n",
      "A value is trying to be set on a copy of a slice from a DataFrame\n",
      "\n",
      "See the caveats in the documentation: https://pandas.pydata.org/pandas-docs/stable/user_guide/indexing.html#returning-a-view-versus-a-copy\n",
      "  data[\"ukuran_company\"][i] = dict_group1a[j]\n",
      "/var/folders/v5/qz8b1b916txcqz__966vn8dr0000gn/T/ipykernel_21609/576378443.py:8: SettingWithCopyWarning: \n",
      "A value is trying to be set on a copy of a slice from a DataFrame\n",
      "\n",
      "See the caveats in the documentation: https://pandas.pydata.org/pandas-docs/stable/user_guide/indexing.html#returning-a-view-versus-a-copy\n",
      "  data[\"ukuran_company\"][i] = dict_group1a[j]\n",
      "/var/folders/v5/qz8b1b916txcqz__966vn8dr0000gn/T/ipykernel_21609/576378443.py:8: SettingWithCopyWarning: \n",
      "A value is trying to be set on a copy of a slice from a DataFrame\n",
      "\n",
      "See the caveats in the documentation: https://pandas.pydata.org/pandas-docs/stable/user_guide/indexing.html#returning-a-view-versus-a-copy\n",
      "  data[\"ukuran_company\"][i] = dict_group1a[j]\n",
      "/var/folders/v5/qz8b1b916txcqz__966vn8dr0000gn/T/ipykernel_21609/576378443.py:8: SettingWithCopyWarning: \n",
      "A value is trying to be set on a copy of a slice from a DataFrame\n",
      "\n",
      "See the caveats in the documentation: https://pandas.pydata.org/pandas-docs/stable/user_guide/indexing.html#returning-a-view-versus-a-copy\n",
      "  data[\"ukuran_company\"][i] = dict_group1a[j]\n",
      "/var/folders/v5/qz8b1b916txcqz__966vn8dr0000gn/T/ipykernel_21609/576378443.py:8: SettingWithCopyWarning: \n",
      "A value is trying to be set on a copy of a slice from a DataFrame\n",
      "\n",
      "See the caveats in the documentation: https://pandas.pydata.org/pandas-docs/stable/user_guide/indexing.html#returning-a-view-versus-a-copy\n",
      "  data[\"ukuran_company\"][i] = dict_group1a[j]\n",
      "/var/folders/v5/qz8b1b916txcqz__966vn8dr0000gn/T/ipykernel_21609/576378443.py:8: SettingWithCopyWarning: \n",
      "A value is trying to be set on a copy of a slice from a DataFrame\n",
      "\n",
      "See the caveats in the documentation: https://pandas.pydata.org/pandas-docs/stable/user_guide/indexing.html#returning-a-view-versus-a-copy\n",
      "  data[\"ukuran_company\"][i] = dict_group1a[j]\n",
      "/var/folders/v5/qz8b1b916txcqz__966vn8dr0000gn/T/ipykernel_21609/576378443.py:8: SettingWithCopyWarning: \n",
      "A value is trying to be set on a copy of a slice from a DataFrame\n",
      "\n",
      "See the caveats in the documentation: https://pandas.pydata.org/pandas-docs/stable/user_guide/indexing.html#returning-a-view-versus-a-copy\n",
      "  data[\"ukuran_company\"][i] = dict_group1a[j]\n",
      "/var/folders/v5/qz8b1b916txcqz__966vn8dr0000gn/T/ipykernel_21609/576378443.py:8: SettingWithCopyWarning: \n",
      "A value is trying to be set on a copy of a slice from a DataFrame\n",
      "\n",
      "See the caveats in the documentation: https://pandas.pydata.org/pandas-docs/stable/user_guide/indexing.html#returning-a-view-versus-a-copy\n",
      "  data[\"ukuran_company\"][i] = dict_group1a[j]\n",
      "/var/folders/v5/qz8b1b916txcqz__966vn8dr0000gn/T/ipykernel_21609/576378443.py:8: SettingWithCopyWarning: \n",
      "A value is trying to be set on a copy of a slice from a DataFrame\n",
      "\n",
      "See the caveats in the documentation: https://pandas.pydata.org/pandas-docs/stable/user_guide/indexing.html#returning-a-view-versus-a-copy\n",
      "  data[\"ukuran_company\"][i] = dict_group1a[j]\n",
      "/var/folders/v5/qz8b1b916txcqz__966vn8dr0000gn/T/ipykernel_21609/576378443.py:8: SettingWithCopyWarning: \n",
      "A value is trying to be set on a copy of a slice from a DataFrame\n",
      "\n",
      "See the caveats in the documentation: https://pandas.pydata.org/pandas-docs/stable/user_guide/indexing.html#returning-a-view-versus-a-copy\n",
      "  data[\"ukuran_company\"][i] = dict_group1a[j]\n",
      "/var/folders/v5/qz8b1b916txcqz__966vn8dr0000gn/T/ipykernel_21609/576378443.py:8: SettingWithCopyWarning: \n",
      "A value is trying to be set on a copy of a slice from a DataFrame\n",
      "\n",
      "See the caveats in the documentation: https://pandas.pydata.org/pandas-docs/stable/user_guide/indexing.html#returning-a-view-versus-a-copy\n",
      "  data[\"ukuran_company\"][i] = dict_group1a[j]\n",
      "/var/folders/v5/qz8b1b916txcqz__966vn8dr0000gn/T/ipykernel_21609/576378443.py:8: SettingWithCopyWarning: \n",
      "A value is trying to be set on a copy of a slice from a DataFrame\n",
      "\n",
      "See the caveats in the documentation: https://pandas.pydata.org/pandas-docs/stable/user_guide/indexing.html#returning-a-view-versus-a-copy\n",
      "  data[\"ukuran_company\"][i] = dict_group1a[j]\n",
      "/var/folders/v5/qz8b1b916txcqz__966vn8dr0000gn/T/ipykernel_21609/576378443.py:8: SettingWithCopyWarning: \n",
      "A value is trying to be set on a copy of a slice from a DataFrame\n",
      "\n",
      "See the caveats in the documentation: https://pandas.pydata.org/pandas-docs/stable/user_guide/indexing.html#returning-a-view-versus-a-copy\n",
      "  data[\"ukuran_company\"][i] = dict_group1a[j]\n",
      "/var/folders/v5/qz8b1b916txcqz__966vn8dr0000gn/T/ipykernel_21609/576378443.py:8: SettingWithCopyWarning: \n",
      "A value is trying to be set on a copy of a slice from a DataFrame\n",
      "\n",
      "See the caveats in the documentation: https://pandas.pydata.org/pandas-docs/stable/user_guide/indexing.html#returning-a-view-versus-a-copy\n",
      "  data[\"ukuran_company\"][i] = dict_group1a[j]\n",
      "/var/folders/v5/qz8b1b916txcqz__966vn8dr0000gn/T/ipykernel_21609/576378443.py:8: SettingWithCopyWarning: \n",
      "A value is trying to be set on a copy of a slice from a DataFrame\n",
      "\n",
      "See the caveats in the documentation: https://pandas.pydata.org/pandas-docs/stable/user_guide/indexing.html#returning-a-view-versus-a-copy\n",
      "  data[\"ukuran_company\"][i] = dict_group1a[j]\n",
      "/var/folders/v5/qz8b1b916txcqz__966vn8dr0000gn/T/ipykernel_21609/576378443.py:8: SettingWithCopyWarning: \n",
      "A value is trying to be set on a copy of a slice from a DataFrame\n",
      "\n",
      "See the caveats in the documentation: https://pandas.pydata.org/pandas-docs/stable/user_guide/indexing.html#returning-a-view-versus-a-copy\n",
      "  data[\"ukuran_company\"][i] = dict_group1a[j]\n",
      "/var/folders/v5/qz8b1b916txcqz__966vn8dr0000gn/T/ipykernel_21609/576378443.py:8: SettingWithCopyWarning: \n",
      "A value is trying to be set on a copy of a slice from a DataFrame\n",
      "\n",
      "See the caveats in the documentation: https://pandas.pydata.org/pandas-docs/stable/user_guide/indexing.html#returning-a-view-versus-a-copy\n",
      "  data[\"ukuran_company\"][i] = dict_group1a[j]\n",
      "/var/folders/v5/qz8b1b916txcqz__966vn8dr0000gn/T/ipykernel_21609/576378443.py:8: SettingWithCopyWarning: \n",
      "A value is trying to be set on a copy of a slice from a DataFrame\n",
      "\n",
      "See the caveats in the documentation: https://pandas.pydata.org/pandas-docs/stable/user_guide/indexing.html#returning-a-view-versus-a-copy\n",
      "  data[\"ukuran_company\"][i] = dict_group1a[j]\n",
      "/var/folders/v5/qz8b1b916txcqz__966vn8dr0000gn/T/ipykernel_21609/576378443.py:8: SettingWithCopyWarning: \n",
      "A value is trying to be set on a copy of a slice from a DataFrame\n",
      "\n",
      "See the caveats in the documentation: https://pandas.pydata.org/pandas-docs/stable/user_guide/indexing.html#returning-a-view-versus-a-copy\n",
      "  data[\"ukuran_company\"][i] = dict_group1a[j]\n",
      "/var/folders/v5/qz8b1b916txcqz__966vn8dr0000gn/T/ipykernel_21609/576378443.py:8: SettingWithCopyWarning: \n",
      "A value is trying to be set on a copy of a slice from a DataFrame\n",
      "\n",
      "See the caveats in the documentation: https://pandas.pydata.org/pandas-docs/stable/user_guide/indexing.html#returning-a-view-versus-a-copy\n",
      "  data[\"ukuran_company\"][i] = dict_group1a[j]\n",
      "/var/folders/v5/qz8b1b916txcqz__966vn8dr0000gn/T/ipykernel_21609/576378443.py:8: SettingWithCopyWarning: \n",
      "A value is trying to be set on a copy of a slice from a DataFrame\n",
      "\n",
      "See the caveats in the documentation: https://pandas.pydata.org/pandas-docs/stable/user_guide/indexing.html#returning-a-view-versus-a-copy\n",
      "  data[\"ukuran_company\"][i] = dict_group1a[j]\n",
      "/var/folders/v5/qz8b1b916txcqz__966vn8dr0000gn/T/ipykernel_21609/576378443.py:8: SettingWithCopyWarning: \n",
      "A value is trying to be set on a copy of a slice from a DataFrame\n",
      "\n",
      "See the caveats in the documentation: https://pandas.pydata.org/pandas-docs/stable/user_guide/indexing.html#returning-a-view-versus-a-copy\n",
      "  data[\"ukuran_company\"][i] = dict_group1a[j]\n",
      "/var/folders/v5/qz8b1b916txcqz__966vn8dr0000gn/T/ipykernel_21609/576378443.py:8: SettingWithCopyWarning: \n",
      "A value is trying to be set on a copy of a slice from a DataFrame\n",
      "\n",
      "See the caveats in the documentation: https://pandas.pydata.org/pandas-docs/stable/user_guide/indexing.html#returning-a-view-versus-a-copy\n",
      "  data[\"ukuran_company\"][i] = dict_group1a[j]\n",
      "/var/folders/v5/qz8b1b916txcqz__966vn8dr0000gn/T/ipykernel_21609/576378443.py:8: SettingWithCopyWarning: \n",
      "A value is trying to be set on a copy of a slice from a DataFrame\n",
      "\n",
      "See the caveats in the documentation: https://pandas.pydata.org/pandas-docs/stable/user_guide/indexing.html#returning-a-view-versus-a-copy\n",
      "  data[\"ukuran_company\"][i] = dict_group1a[j]\n",
      "/var/folders/v5/qz8b1b916txcqz__966vn8dr0000gn/T/ipykernel_21609/576378443.py:8: SettingWithCopyWarning: \n",
      "A value is trying to be set on a copy of a slice from a DataFrame\n",
      "\n",
      "See the caveats in the documentation: https://pandas.pydata.org/pandas-docs/stable/user_guide/indexing.html#returning-a-view-versus-a-copy\n",
      "  data[\"ukuran_company\"][i] = dict_group1a[j]\n",
      "/var/folders/v5/qz8b1b916txcqz__966vn8dr0000gn/T/ipykernel_21609/576378443.py:8: SettingWithCopyWarning: \n",
      "A value is trying to be set on a copy of a slice from a DataFrame\n",
      "\n",
      "See the caveats in the documentation: https://pandas.pydata.org/pandas-docs/stable/user_guide/indexing.html#returning-a-view-versus-a-copy\n",
      "  data[\"ukuran_company\"][i] = dict_group1a[j]\n",
      "/var/folders/v5/qz8b1b916txcqz__966vn8dr0000gn/T/ipykernel_21609/576378443.py:8: SettingWithCopyWarning: \n",
      "A value is trying to be set on a copy of a slice from a DataFrame\n",
      "\n",
      "See the caveats in the documentation: https://pandas.pydata.org/pandas-docs/stable/user_guide/indexing.html#returning-a-view-versus-a-copy\n",
      "  data[\"ukuran_company\"][i] = dict_group1a[j]\n",
      "/var/folders/v5/qz8b1b916txcqz__966vn8dr0000gn/T/ipykernel_21609/576378443.py:8: SettingWithCopyWarning: \n",
      "A value is trying to be set on a copy of a slice from a DataFrame\n",
      "\n",
      "See the caveats in the documentation: https://pandas.pydata.org/pandas-docs/stable/user_guide/indexing.html#returning-a-view-versus-a-copy\n",
      "  data[\"ukuran_company\"][i] = dict_group1a[j]\n",
      "/var/folders/v5/qz8b1b916txcqz__966vn8dr0000gn/T/ipykernel_21609/576378443.py:8: SettingWithCopyWarning: \n",
      "A value is trying to be set on a copy of a slice from a DataFrame\n",
      "\n",
      "See the caveats in the documentation: https://pandas.pydata.org/pandas-docs/stable/user_guide/indexing.html#returning-a-view-versus-a-copy\n",
      "  data[\"ukuran_company\"][i] = dict_group1a[j]\n",
      "/var/folders/v5/qz8b1b916txcqz__966vn8dr0000gn/T/ipykernel_21609/576378443.py:8: SettingWithCopyWarning: \n",
      "A value is trying to be set on a copy of a slice from a DataFrame\n",
      "\n",
      "See the caveats in the documentation: https://pandas.pydata.org/pandas-docs/stable/user_guide/indexing.html#returning-a-view-versus-a-copy\n",
      "  data[\"ukuran_company\"][i] = dict_group1a[j]\n",
      "/var/folders/v5/qz8b1b916txcqz__966vn8dr0000gn/T/ipykernel_21609/576378443.py:8: SettingWithCopyWarning: \n",
      "A value is trying to be set on a copy of a slice from a DataFrame\n",
      "\n",
      "See the caveats in the documentation: https://pandas.pydata.org/pandas-docs/stable/user_guide/indexing.html#returning-a-view-versus-a-copy\n",
      "  data[\"ukuran_company\"][i] = dict_group1a[j]\n"
     ]
    }
   ],
   "source": [
    "missing_ukuran_company1 = data[pd.isna(data[\"ukuran_company\"])]\n",
    "\n",
    "for i in missing_ukuran_company1.index:\n",
    "    for j in dict_group1a.keys():\n",
    "        data_asli = (data[\"job_name\"][i])\n",
    "        \n",
    "        if data_asli == j:\n",
    "            data[\"ukuran_company\"][i] = dict_group1a[j]"
   ]
  },
  {
   "cell_type": "code",
   "execution_count": 26,
   "metadata": {},
   "outputs": [
    {
     "data": {
      "text/plain": [
       "job_name            0\n",
       "lokasi              0\n",
       "tingkat_job         0\n",
       "lama_pengalaman    47\n",
       "ukuran_company      0\n",
       "industri           45\n",
       "median_gaji         0\n",
       "dtype: int64"
      ]
     },
     "execution_count": 26,
     "metadata": {},
     "output_type": "execute_result"
    }
   ],
   "source": [
    "pd.isna(data).sum()"
   ]
  },
  {
   "cell_type": "markdown",
   "metadata": {},
   "source": [
    "### 2. Menangani Missing Value di \"industri\""
   ]
  },
  {
   "cell_type": "code",
   "execution_count": 27,
   "metadata": {},
   "outputs": [
    {
     "data": {
      "text/plain": [
       "3"
      ]
     },
     "execution_count": 27,
     "metadata": {},
     "output_type": "execute_result"
    }
   ],
   "source": [
    "# Coba berdasarkan variabel -> \"job_name\"\n",
    "\n",
    "count_industri1 = data.groupby([\"job_name\", \"industri\"])[\"industri\"].count() # Hasilnya adalah banyaknya data yang tidak missing\n",
    "mode_industri1 = data[data[\"industri\"].notna()].groupby([\"job_name\"])[\"industri\"].apply(statistics.mode) # Pakainya modus karena data kategorik\n",
    "len(mode_industri1)"
   ]
  },
  {
   "cell_type": "code",
   "execution_count": 28,
   "metadata": {},
   "outputs": [
    {
     "data": {
      "text/plain": [
       "job_name        industri                          \n",
       "data analyst    acara                                 1\n",
       "                ekonomi                               3\n",
       "                human resources                       1\n",
       "                keuangan                              1\n",
       "                konstruksi                            1\n",
       "                konsultasi                            4\n",
       "                media                                 1\n",
       "                pemasaran & periklanan                2\n",
       "                teknologi informasi dan komunikasi    6\n",
       "                transportasi                          1\n",
       "data engineer   konsultasi                            1\n",
       "                teknologi informasi dan komunikasi    6\n",
       "data scientist  konsultasi                            1\n",
       "                teknologi informasi dan komunikasi    4\n",
       "Name: industri, dtype: int64"
      ]
     },
     "execution_count": 28,
     "metadata": {},
     "output_type": "execute_result"
    }
   ],
   "source": [
    "count_industri1"
   ]
  },
  {
   "cell_type": "code",
   "execution_count": 29,
   "metadata": {},
   "outputs": [
    {
     "data": {
      "text/plain": [
       "job_name\n",
       "data analyst      teknologi informasi dan komunikasi\n",
       "data engineer     teknologi informasi dan komunikasi\n",
       "data scientist    teknologi informasi dan komunikasi\n",
       "Name: industri, dtype: object"
      ]
     },
     "execution_count": 29,
     "metadata": {},
     "output_type": "execute_result"
    }
   ],
   "source": [
    "mode_industri1 \n",
    "\n",
    "# Sama semua sehingga ada yang akan diambil nilai modus kedua\n",
    "# \"data analyst\" pakai yang industri \"konsultasi\""
   ]
  },
  {
   "cell_type": "code",
   "execution_count": 30,
   "metadata": {},
   "outputs": [
    {
     "name": "stderr",
     "output_type": "stream",
     "text": [
      "/var/folders/v5/qz8b1b916txcqz__966vn8dr0000gn/T/ipykernel_21609/3995431535.py:13: SettingWithCopyWarning: \n",
      "A value is trying to be set on a copy of a slice from a DataFrame\n",
      "\n",
      "See the caveats in the documentation: https://pandas.pydata.org/pandas-docs/stable/user_guide/indexing.html#returning-a-view-versus-a-copy\n",
      "  data[\"industri\"][i] = impute_industri[j]\n",
      "/var/folders/v5/qz8b1b916txcqz__966vn8dr0000gn/T/ipykernel_21609/3995431535.py:13: SettingWithCopyWarning: \n",
      "A value is trying to be set on a copy of a slice from a DataFrame\n",
      "\n",
      "See the caveats in the documentation: https://pandas.pydata.org/pandas-docs/stable/user_guide/indexing.html#returning-a-view-versus-a-copy\n",
      "  data[\"industri\"][i] = impute_industri[j]\n",
      "/var/folders/v5/qz8b1b916txcqz__966vn8dr0000gn/T/ipykernel_21609/3995431535.py:13: SettingWithCopyWarning: \n",
      "A value is trying to be set on a copy of a slice from a DataFrame\n",
      "\n",
      "See the caveats in the documentation: https://pandas.pydata.org/pandas-docs/stable/user_guide/indexing.html#returning-a-view-versus-a-copy\n",
      "  data[\"industri\"][i] = impute_industri[j]\n",
      "/var/folders/v5/qz8b1b916txcqz__966vn8dr0000gn/T/ipykernel_21609/3995431535.py:13: SettingWithCopyWarning: \n",
      "A value is trying to be set on a copy of a slice from a DataFrame\n",
      "\n",
      "See the caveats in the documentation: https://pandas.pydata.org/pandas-docs/stable/user_guide/indexing.html#returning-a-view-versus-a-copy\n",
      "  data[\"industri\"][i] = impute_industri[j]\n",
      "/var/folders/v5/qz8b1b916txcqz__966vn8dr0000gn/T/ipykernel_21609/3995431535.py:13: SettingWithCopyWarning: \n",
      "A value is trying to be set on a copy of a slice from a DataFrame\n",
      "\n",
      "See the caveats in the documentation: https://pandas.pydata.org/pandas-docs/stable/user_guide/indexing.html#returning-a-view-versus-a-copy\n",
      "  data[\"industri\"][i] = impute_industri[j]\n",
      "/var/folders/v5/qz8b1b916txcqz__966vn8dr0000gn/T/ipykernel_21609/3995431535.py:13: SettingWithCopyWarning: \n",
      "A value is trying to be set on a copy of a slice from a DataFrame\n",
      "\n",
      "See the caveats in the documentation: https://pandas.pydata.org/pandas-docs/stable/user_guide/indexing.html#returning-a-view-versus-a-copy\n",
      "  data[\"industri\"][i] = impute_industri[j]\n",
      "/var/folders/v5/qz8b1b916txcqz__966vn8dr0000gn/T/ipykernel_21609/3995431535.py:13: SettingWithCopyWarning: \n",
      "A value is trying to be set on a copy of a slice from a DataFrame\n",
      "\n",
      "See the caveats in the documentation: https://pandas.pydata.org/pandas-docs/stable/user_guide/indexing.html#returning-a-view-versus-a-copy\n",
      "  data[\"industri\"][i] = impute_industri[j]\n",
      "/var/folders/v5/qz8b1b916txcqz__966vn8dr0000gn/T/ipykernel_21609/3995431535.py:13: SettingWithCopyWarning: \n",
      "A value is trying to be set on a copy of a slice from a DataFrame\n",
      "\n",
      "See the caveats in the documentation: https://pandas.pydata.org/pandas-docs/stable/user_guide/indexing.html#returning-a-view-versus-a-copy\n",
      "  data[\"industri\"][i] = impute_industri[j]\n",
      "/var/folders/v5/qz8b1b916txcqz__966vn8dr0000gn/T/ipykernel_21609/3995431535.py:13: SettingWithCopyWarning: \n",
      "A value is trying to be set on a copy of a slice from a DataFrame\n",
      "\n",
      "See the caveats in the documentation: https://pandas.pydata.org/pandas-docs/stable/user_guide/indexing.html#returning-a-view-versus-a-copy\n",
      "  data[\"industri\"][i] = impute_industri[j]\n",
      "/var/folders/v5/qz8b1b916txcqz__966vn8dr0000gn/T/ipykernel_21609/3995431535.py:13: SettingWithCopyWarning: \n",
      "A value is trying to be set on a copy of a slice from a DataFrame\n",
      "\n",
      "See the caveats in the documentation: https://pandas.pydata.org/pandas-docs/stable/user_guide/indexing.html#returning-a-view-versus-a-copy\n",
      "  data[\"industri\"][i] = impute_industri[j]\n",
      "/var/folders/v5/qz8b1b916txcqz__966vn8dr0000gn/T/ipykernel_21609/3995431535.py:13: SettingWithCopyWarning: \n",
      "A value is trying to be set on a copy of a slice from a DataFrame\n",
      "\n",
      "See the caveats in the documentation: https://pandas.pydata.org/pandas-docs/stable/user_guide/indexing.html#returning-a-view-versus-a-copy\n",
      "  data[\"industri\"][i] = impute_industri[j]\n",
      "/var/folders/v5/qz8b1b916txcqz__966vn8dr0000gn/T/ipykernel_21609/3995431535.py:13: SettingWithCopyWarning: \n",
      "A value is trying to be set on a copy of a slice from a DataFrame\n",
      "\n",
      "See the caveats in the documentation: https://pandas.pydata.org/pandas-docs/stable/user_guide/indexing.html#returning-a-view-versus-a-copy\n",
      "  data[\"industri\"][i] = impute_industri[j]\n",
      "/var/folders/v5/qz8b1b916txcqz__966vn8dr0000gn/T/ipykernel_21609/3995431535.py:13: SettingWithCopyWarning: \n",
      "A value is trying to be set on a copy of a slice from a DataFrame\n",
      "\n",
      "See the caveats in the documentation: https://pandas.pydata.org/pandas-docs/stable/user_guide/indexing.html#returning-a-view-versus-a-copy\n",
      "  data[\"industri\"][i] = impute_industri[j]\n",
      "/var/folders/v5/qz8b1b916txcqz__966vn8dr0000gn/T/ipykernel_21609/3995431535.py:13: SettingWithCopyWarning: \n",
      "A value is trying to be set on a copy of a slice from a DataFrame\n",
      "\n",
      "See the caveats in the documentation: https://pandas.pydata.org/pandas-docs/stable/user_guide/indexing.html#returning-a-view-versus-a-copy\n",
      "  data[\"industri\"][i] = impute_industri[j]\n",
      "/var/folders/v5/qz8b1b916txcqz__966vn8dr0000gn/T/ipykernel_21609/3995431535.py:13: SettingWithCopyWarning: \n",
      "A value is trying to be set on a copy of a slice from a DataFrame\n",
      "\n",
      "See the caveats in the documentation: https://pandas.pydata.org/pandas-docs/stable/user_guide/indexing.html#returning-a-view-versus-a-copy\n",
      "  data[\"industri\"][i] = impute_industri[j]\n",
      "/var/folders/v5/qz8b1b916txcqz__966vn8dr0000gn/T/ipykernel_21609/3995431535.py:13: SettingWithCopyWarning: \n",
      "A value is trying to be set on a copy of a slice from a DataFrame\n",
      "\n",
      "See the caveats in the documentation: https://pandas.pydata.org/pandas-docs/stable/user_guide/indexing.html#returning-a-view-versus-a-copy\n",
      "  data[\"industri\"][i] = impute_industri[j]\n",
      "/var/folders/v5/qz8b1b916txcqz__966vn8dr0000gn/T/ipykernel_21609/3995431535.py:13: SettingWithCopyWarning: \n",
      "A value is trying to be set on a copy of a slice from a DataFrame\n",
      "\n",
      "See the caveats in the documentation: https://pandas.pydata.org/pandas-docs/stable/user_guide/indexing.html#returning-a-view-versus-a-copy\n",
      "  data[\"industri\"][i] = impute_industri[j]\n",
      "/var/folders/v5/qz8b1b916txcqz__966vn8dr0000gn/T/ipykernel_21609/3995431535.py:13: SettingWithCopyWarning: \n",
      "A value is trying to be set on a copy of a slice from a DataFrame\n",
      "\n",
      "See the caveats in the documentation: https://pandas.pydata.org/pandas-docs/stable/user_guide/indexing.html#returning-a-view-versus-a-copy\n",
      "  data[\"industri\"][i] = impute_industri[j]\n",
      "/var/folders/v5/qz8b1b916txcqz__966vn8dr0000gn/T/ipykernel_21609/3995431535.py:13: SettingWithCopyWarning: \n",
      "A value is trying to be set on a copy of a slice from a DataFrame\n",
      "\n",
      "See the caveats in the documentation: https://pandas.pydata.org/pandas-docs/stable/user_guide/indexing.html#returning-a-view-versus-a-copy\n",
      "  data[\"industri\"][i] = impute_industri[j]\n",
      "/var/folders/v5/qz8b1b916txcqz__966vn8dr0000gn/T/ipykernel_21609/3995431535.py:13: SettingWithCopyWarning: \n",
      "A value is trying to be set on a copy of a slice from a DataFrame\n",
      "\n",
      "See the caveats in the documentation: https://pandas.pydata.org/pandas-docs/stable/user_guide/indexing.html#returning-a-view-versus-a-copy\n",
      "  data[\"industri\"][i] = impute_industri[j]\n",
      "/var/folders/v5/qz8b1b916txcqz__966vn8dr0000gn/T/ipykernel_21609/3995431535.py:13: SettingWithCopyWarning: \n",
      "A value is trying to be set on a copy of a slice from a DataFrame\n",
      "\n",
      "See the caveats in the documentation: https://pandas.pydata.org/pandas-docs/stable/user_guide/indexing.html#returning-a-view-versus-a-copy\n",
      "  data[\"industri\"][i] = impute_industri[j]\n",
      "/var/folders/v5/qz8b1b916txcqz__966vn8dr0000gn/T/ipykernel_21609/3995431535.py:13: SettingWithCopyWarning: \n",
      "A value is trying to be set on a copy of a slice from a DataFrame\n",
      "\n",
      "See the caveats in the documentation: https://pandas.pydata.org/pandas-docs/stable/user_guide/indexing.html#returning-a-view-versus-a-copy\n",
      "  data[\"industri\"][i] = impute_industri[j]\n",
      "/var/folders/v5/qz8b1b916txcqz__966vn8dr0000gn/T/ipykernel_21609/3995431535.py:13: SettingWithCopyWarning: \n",
      "A value is trying to be set on a copy of a slice from a DataFrame\n",
      "\n",
      "See the caveats in the documentation: https://pandas.pydata.org/pandas-docs/stable/user_guide/indexing.html#returning-a-view-versus-a-copy\n",
      "  data[\"industri\"][i] = impute_industri[j]\n",
      "/var/folders/v5/qz8b1b916txcqz__966vn8dr0000gn/T/ipykernel_21609/3995431535.py:13: SettingWithCopyWarning: \n",
      "A value is trying to be set on a copy of a slice from a DataFrame\n",
      "\n",
      "See the caveats in the documentation: https://pandas.pydata.org/pandas-docs/stable/user_guide/indexing.html#returning-a-view-versus-a-copy\n",
      "  data[\"industri\"][i] = impute_industri[j]\n",
      "/var/folders/v5/qz8b1b916txcqz__966vn8dr0000gn/T/ipykernel_21609/3995431535.py:13: SettingWithCopyWarning: \n",
      "A value is trying to be set on a copy of a slice from a DataFrame\n",
      "\n",
      "See the caveats in the documentation: https://pandas.pydata.org/pandas-docs/stable/user_guide/indexing.html#returning-a-view-versus-a-copy\n",
      "  data[\"industri\"][i] = impute_industri[j]\n",
      "/var/folders/v5/qz8b1b916txcqz__966vn8dr0000gn/T/ipykernel_21609/3995431535.py:13: SettingWithCopyWarning: \n",
      "A value is trying to be set on a copy of a slice from a DataFrame\n",
      "\n",
      "See the caveats in the documentation: https://pandas.pydata.org/pandas-docs/stable/user_guide/indexing.html#returning-a-view-versus-a-copy\n",
      "  data[\"industri\"][i] = impute_industri[j]\n",
      "/var/folders/v5/qz8b1b916txcqz__966vn8dr0000gn/T/ipykernel_21609/3995431535.py:13: SettingWithCopyWarning: \n",
      "A value is trying to be set on a copy of a slice from a DataFrame\n",
      "\n",
      "See the caveats in the documentation: https://pandas.pydata.org/pandas-docs/stable/user_guide/indexing.html#returning-a-view-versus-a-copy\n",
      "  data[\"industri\"][i] = impute_industri[j]\n",
      "/var/folders/v5/qz8b1b916txcqz__966vn8dr0000gn/T/ipykernel_21609/3995431535.py:13: SettingWithCopyWarning: \n",
      "A value is trying to be set on a copy of a slice from a DataFrame\n",
      "\n",
      "See the caveats in the documentation: https://pandas.pydata.org/pandas-docs/stable/user_guide/indexing.html#returning-a-view-versus-a-copy\n",
      "  data[\"industri\"][i] = impute_industri[j]\n",
      "/var/folders/v5/qz8b1b916txcqz__966vn8dr0000gn/T/ipykernel_21609/3995431535.py:13: SettingWithCopyWarning: \n",
      "A value is trying to be set on a copy of a slice from a DataFrame\n",
      "\n",
      "See the caveats in the documentation: https://pandas.pydata.org/pandas-docs/stable/user_guide/indexing.html#returning-a-view-versus-a-copy\n",
      "  data[\"industri\"][i] = impute_industri[j]\n",
      "/var/folders/v5/qz8b1b916txcqz__966vn8dr0000gn/T/ipykernel_21609/3995431535.py:13: SettingWithCopyWarning: \n",
      "A value is trying to be set on a copy of a slice from a DataFrame\n",
      "\n",
      "See the caveats in the documentation: https://pandas.pydata.org/pandas-docs/stable/user_guide/indexing.html#returning-a-view-versus-a-copy\n",
      "  data[\"industri\"][i] = impute_industri[j]\n",
      "/var/folders/v5/qz8b1b916txcqz__966vn8dr0000gn/T/ipykernel_21609/3995431535.py:13: SettingWithCopyWarning: \n",
      "A value is trying to be set on a copy of a slice from a DataFrame\n",
      "\n",
      "See the caveats in the documentation: https://pandas.pydata.org/pandas-docs/stable/user_guide/indexing.html#returning-a-view-versus-a-copy\n",
      "  data[\"industri\"][i] = impute_industri[j]\n",
      "/var/folders/v5/qz8b1b916txcqz__966vn8dr0000gn/T/ipykernel_21609/3995431535.py:13: SettingWithCopyWarning: \n",
      "A value is trying to be set on a copy of a slice from a DataFrame\n",
      "\n",
      "See the caveats in the documentation: https://pandas.pydata.org/pandas-docs/stable/user_guide/indexing.html#returning-a-view-versus-a-copy\n",
      "  data[\"industri\"][i] = impute_industri[j]\n",
      "/var/folders/v5/qz8b1b916txcqz__966vn8dr0000gn/T/ipykernel_21609/3995431535.py:13: SettingWithCopyWarning: \n",
      "A value is trying to be set on a copy of a slice from a DataFrame\n",
      "\n",
      "See the caveats in the documentation: https://pandas.pydata.org/pandas-docs/stable/user_guide/indexing.html#returning-a-view-versus-a-copy\n",
      "  data[\"industri\"][i] = impute_industri[j]\n",
      "/var/folders/v5/qz8b1b916txcqz__966vn8dr0000gn/T/ipykernel_21609/3995431535.py:13: SettingWithCopyWarning: \n",
      "A value is trying to be set on a copy of a slice from a DataFrame\n",
      "\n",
      "See the caveats in the documentation: https://pandas.pydata.org/pandas-docs/stable/user_guide/indexing.html#returning-a-view-versus-a-copy\n",
      "  data[\"industri\"][i] = impute_industri[j]\n",
      "/var/folders/v5/qz8b1b916txcqz__966vn8dr0000gn/T/ipykernel_21609/3995431535.py:13: SettingWithCopyWarning: \n",
      "A value is trying to be set on a copy of a slice from a DataFrame\n",
      "\n",
      "See the caveats in the documentation: https://pandas.pydata.org/pandas-docs/stable/user_guide/indexing.html#returning-a-view-versus-a-copy\n",
      "  data[\"industri\"][i] = impute_industri[j]\n",
      "/var/folders/v5/qz8b1b916txcqz__966vn8dr0000gn/T/ipykernel_21609/3995431535.py:13: SettingWithCopyWarning: \n",
      "A value is trying to be set on a copy of a slice from a DataFrame\n",
      "\n",
      "See the caveats in the documentation: https://pandas.pydata.org/pandas-docs/stable/user_guide/indexing.html#returning-a-view-versus-a-copy\n",
      "  data[\"industri\"][i] = impute_industri[j]\n",
      "/var/folders/v5/qz8b1b916txcqz__966vn8dr0000gn/T/ipykernel_21609/3995431535.py:13: SettingWithCopyWarning: \n",
      "A value is trying to be set on a copy of a slice from a DataFrame\n",
      "\n",
      "See the caveats in the documentation: https://pandas.pydata.org/pandas-docs/stable/user_guide/indexing.html#returning-a-view-versus-a-copy\n",
      "  data[\"industri\"][i] = impute_industri[j]\n",
      "/var/folders/v5/qz8b1b916txcqz__966vn8dr0000gn/T/ipykernel_21609/3995431535.py:13: SettingWithCopyWarning: \n",
      "A value is trying to be set on a copy of a slice from a DataFrame\n",
      "\n",
      "See the caveats in the documentation: https://pandas.pydata.org/pandas-docs/stable/user_guide/indexing.html#returning-a-view-versus-a-copy\n",
      "  data[\"industri\"][i] = impute_industri[j]\n",
      "/var/folders/v5/qz8b1b916txcqz__966vn8dr0000gn/T/ipykernel_21609/3995431535.py:13: SettingWithCopyWarning: \n",
      "A value is trying to be set on a copy of a slice from a DataFrame\n",
      "\n",
      "See the caveats in the documentation: https://pandas.pydata.org/pandas-docs/stable/user_guide/indexing.html#returning-a-view-versus-a-copy\n",
      "  data[\"industri\"][i] = impute_industri[j]\n",
      "/var/folders/v5/qz8b1b916txcqz__966vn8dr0000gn/T/ipykernel_21609/3995431535.py:13: SettingWithCopyWarning: \n",
      "A value is trying to be set on a copy of a slice from a DataFrame\n",
      "\n",
      "See the caveats in the documentation: https://pandas.pydata.org/pandas-docs/stable/user_guide/indexing.html#returning-a-view-versus-a-copy\n",
      "  data[\"industri\"][i] = impute_industri[j]\n",
      "/var/folders/v5/qz8b1b916txcqz__966vn8dr0000gn/T/ipykernel_21609/3995431535.py:13: SettingWithCopyWarning: \n",
      "A value is trying to be set on a copy of a slice from a DataFrame\n",
      "\n",
      "See the caveats in the documentation: https://pandas.pydata.org/pandas-docs/stable/user_guide/indexing.html#returning-a-view-versus-a-copy\n",
      "  data[\"industri\"][i] = impute_industri[j]\n",
      "/var/folders/v5/qz8b1b916txcqz__966vn8dr0000gn/T/ipykernel_21609/3995431535.py:13: SettingWithCopyWarning: \n",
      "A value is trying to be set on a copy of a slice from a DataFrame\n",
      "\n",
      "See the caveats in the documentation: https://pandas.pydata.org/pandas-docs/stable/user_guide/indexing.html#returning-a-view-versus-a-copy\n",
      "  data[\"industri\"][i] = impute_industri[j]\n",
      "/var/folders/v5/qz8b1b916txcqz__966vn8dr0000gn/T/ipykernel_21609/3995431535.py:13: SettingWithCopyWarning: \n",
      "A value is trying to be set on a copy of a slice from a DataFrame\n",
      "\n",
      "See the caveats in the documentation: https://pandas.pydata.org/pandas-docs/stable/user_guide/indexing.html#returning-a-view-versus-a-copy\n",
      "  data[\"industri\"][i] = impute_industri[j]\n",
      "/var/folders/v5/qz8b1b916txcqz__966vn8dr0000gn/T/ipykernel_21609/3995431535.py:13: SettingWithCopyWarning: \n",
      "A value is trying to be set on a copy of a slice from a DataFrame\n",
      "\n",
      "See the caveats in the documentation: https://pandas.pydata.org/pandas-docs/stable/user_guide/indexing.html#returning-a-view-versus-a-copy\n",
      "  data[\"industri\"][i] = impute_industri[j]\n",
      "/var/folders/v5/qz8b1b916txcqz__966vn8dr0000gn/T/ipykernel_21609/3995431535.py:13: SettingWithCopyWarning: \n",
      "A value is trying to be set on a copy of a slice from a DataFrame\n",
      "\n",
      "See the caveats in the documentation: https://pandas.pydata.org/pandas-docs/stable/user_guide/indexing.html#returning-a-view-versus-a-copy\n",
      "  data[\"industri\"][i] = impute_industri[j]\n"
     ]
    }
   ],
   "source": [
    "# Coba impute menggunakan modus yang lain\n",
    "impute_industri = {\"data analyst\": \"konsultasi\", \n",
    "                   \"data engineer\": \"teknologi informasi dan komunikasi\", \n",
    "                   \"data scientist\": \"teknologi informasi dan komunikasi\"}\n",
    "\n",
    "missing_industri1 = data[pd.isna(data[\"industri\"])]\n",
    "\n",
    "for i in missing_industri1.index:\n",
    "    for j in impute_industri.keys():\n",
    "        data_asli = (data[\"job_name\"][i])\n",
    "        \n",
    "        if data_asli == j:\n",
    "            data[\"industri\"][i] = impute_industri[j]"
   ]
  },
  {
   "cell_type": "code",
   "execution_count": 31,
   "metadata": {
    "scrolled": false
   },
   "outputs": [
    {
     "data": {
      "text/plain": [
       "job_name            0\n",
       "lokasi              0\n",
       "tingkat_job         0\n",
       "lama_pengalaman    47\n",
       "ukuran_company      0\n",
       "industri            0\n",
       "median_gaji         0\n",
       "dtype: int64"
      ]
     },
     "execution_count": 31,
     "metadata": {},
     "output_type": "execute_result"
    }
   ],
   "source": [
    "pd.isna(data).sum()"
   ]
  },
  {
   "cell_type": "markdown",
   "metadata": {},
   "source": [
    "### 3. Menangani Missing Value di \"lama_pengalaman\""
   ]
  },
  {
   "cell_type": "code",
   "execution_count": 32,
   "metadata": {},
   "outputs": [
    {
     "data": {
      "text/plain": [
       "lama_pengalaman\n",
       "1.0    11\n",
       "2.0    10\n",
       "5.0     5\n",
       "3.0     5\n",
       "Name: count, dtype: int64"
      ]
     },
     "execution_count": 32,
     "metadata": {},
     "output_type": "execute_result"
    }
   ],
   "source": [
    "data[\"lama_pengalaman\"].value_counts()"
   ]
  },
  {
   "cell_type": "code",
   "execution_count": 33,
   "metadata": {},
   "outputs": [
    {
     "data": {
      "image/png": "[encoded data removed]",
      "text/plain": [
       "<Figure size 640x480 with 1 Axes>"
      ]
     },
     "metadata": {},
     "output_type": "display_data"
    }
   ],
   "source": [
    "filtered_lama_pengalaman = data[\"lama_pengalaman\"][~np.isnan(data[\"lama_pengalaman\"])]\n",
    "\n",
    "plt.boxplot(filtered_lama_pengalaman, meanline = True, showmeans = True)\n",
    "plt.title(\"Boxplot Lama Pengalaman\")\n",
    "plt.ylabel(\"Lama Pengalaman (Tahun)\")\n",
    "\n",
    "#plt.savefig(\"1. Boxplot Lama Pengalaman (Untuk Handling Missing Value) REVISI.png\")\n",
    "\n",
    "plt.show()"
   ]
  },
  {
   "cell_type": "code",
   "execution_count": 34,
   "metadata": {
    "scrolled": true
   },
   "outputs": [
    {
     "name": "stderr",
     "output_type": "stream",
     "text": [
      "/var/folders/v5/qz8b1b916txcqz__966vn8dr0000gn/T/ipykernel_21609/1167210052.py:2: UserWarning: \n",
      "\n",
      "`distplot` is a deprecated function and will be removed in seaborn v0.14.0.\n",
      "\n",
      "Please adapt your code to use either `displot` (a figure-level function with\n",
      "similar flexibility) or `kdeplot` (an axes-level function for kernel density plots).\n",
      "\n",
      "For a guide to updating your code to use the new functions, please see\n",
      "https://gist.github.com/mwaskom/de44147ed2974457ad6372750bbe5751\n",
      "\n",
      "  sns.distplot(filtered_lama_pengalaman, hist = False, kde = True, axlabel = \"Lama Pengalaman (Tahun)\")\n"
     ]
    },
    {
     "data": {
      "image/png": "[encoded data removed]",
      "text/plain": [
       "<Figure size 640x480 with 1 Axes>"
      ]
     },
     "metadata": {},
     "output_type": "display_data"
    }
   ],
   "source": [
    "import seaborn as sns\n",
    "sns.distplot(filtered_lama_pengalaman, hist = False, kde = True, axlabel = \"Lama Pengalaman (Tahun)\")\n",
    "\n",
    "# plt.savefig(\"1. Distplot Lama Pengalaman (Untuk Handling Missing Value) REVISI.png\")\n",
    "\n",
    "plt.show()\n",
    "\n",
    "# Distribusi cenderung Normal sehingga penggantinya akan menggunakan nilai mean"
   ]
  },
  {
   "cell_type": "code",
   "execution_count": 35,
   "metadata": {},
   "outputs": [
    {
     "data": {
      "text/plain": [
       "3"
      ]
     },
     "execution_count": 35,
     "metadata": {},
     "output_type": "execute_result"
    }
   ],
   "source": [
    "# Coba berdasarkan variabel -> \"job_name\"\n",
    "\n",
    "count_lama_pengalaman1 = data.groupby([\"job_name\"])[\"lama_pengalaman\"].count() # Hasilnya adalah banyaknya data yang tidak missing\n",
    "mean_lama_pengalaman1 = data[data[\"lama_pengalaman\"].notna()].groupby([\"job_name\"])[\"lama_pengalaman\"].mean()\n",
    "\n",
    "len(mean_lama_pengalaman1)"
   ]
  },
  {
   "cell_type": "code",
   "execution_count": 36,
   "metadata": {},
   "outputs": [
    {
     "data": {
      "text/plain": [
       "job_name\n",
       "data analyst      2.200000\n",
       "data engineer     2.285714\n",
       "data scientist    2.750000\n",
       "Name: lama_pengalaman, dtype: float64"
      ]
     },
     "execution_count": 36,
     "metadata": {},
     "output_type": "execute_result"
    }
   ],
   "source": [
    "mean_lama_pengalaman1"
   ]
  },
  {
   "cell_type": "code",
   "execution_count": 37,
   "metadata": {},
   "outputs": [
    {
     "data": {
      "text/plain": [
       "array([2.2       , 2.28571429, 2.75      ])"
      ]
     },
     "execution_count": 37,
     "metadata": {},
     "output_type": "execute_result"
    }
   ],
   "source": [
    "mean_lama_pengalaman1.values"
   ]
  },
  {
   "cell_type": "code",
   "execution_count": 38,
   "metadata": {},
   "outputs": [],
   "source": [
    "dict_group4a = {}\n",
    "\n",
    "for indeks in mean_lama_pengalaman1.index:      \n",
    "    group4a = {indeks: round(mean_lama_pengalaman1[indeks], 1)}\n",
    "\n",
    "    dict_group4a.update(group4a)"
   ]
  },
  {
   "cell_type": "code",
   "execution_count": 39,
   "metadata": {},
   "outputs": [
    {
     "data": {
      "text/plain": [
       "{'data analyst': 2.2, 'data engineer': 2.3, 'data scientist': 2.8}"
      ]
     },
     "execution_count": 39,
     "metadata": {},
     "output_type": "execute_result"
    }
   ],
   "source": [
    "dict_group4a"
   ]
  },
  {
   "cell_type": "code",
   "execution_count": 40,
   "metadata": {},
   "outputs": [
    {
     "name": "stderr",
     "output_type": "stream",
     "text": [
      "/var/folders/v5/qz8b1b916txcqz__966vn8dr0000gn/T/ipykernel_21609/3343468947.py:8: SettingWithCopyWarning: \n",
      "A value is trying to be set on a copy of a slice from a DataFrame\n",
      "\n",
      "See the caveats in the documentation: https://pandas.pydata.org/pandas-docs/stable/user_guide/indexing.html#returning-a-view-versus-a-copy\n",
      "  data[\"lama_pengalaman\"][i] = dict_group4a[j]\n",
      "/var/folders/v5/qz8b1b916txcqz__966vn8dr0000gn/T/ipykernel_21609/3343468947.py:8: SettingWithCopyWarning: \n",
      "A value is trying to be set on a copy of a slice from a DataFrame\n",
      "\n",
      "See the caveats in the documentation: https://pandas.pydata.org/pandas-docs/stable/user_guide/indexing.html#returning-a-view-versus-a-copy\n",
      "  data[\"lama_pengalaman\"][i] = dict_group4a[j]\n",
      "/var/folders/v5/qz8b1b916txcqz__966vn8dr0000gn/T/ipykernel_21609/3343468947.py:8: SettingWithCopyWarning: \n",
      "A value is trying to be set on a copy of a slice from a DataFrame\n",
      "\n",
      "See the caveats in the documentation: https://pandas.pydata.org/pandas-docs/stable/user_guide/indexing.html#returning-a-view-versus-a-copy\n",
      "  data[\"lama_pengalaman\"][i] = dict_group4a[j]\n",
      "/var/folders/v5/qz8b1b916txcqz__966vn8dr0000gn/T/ipykernel_21609/3343468947.py:8: SettingWithCopyWarning: \n",
      "A value is trying to be set on a copy of a slice from a DataFrame\n",
      "\n",
      "See the caveats in the documentation: https://pandas.pydata.org/pandas-docs/stable/user_guide/indexing.html#returning-a-view-versus-a-copy\n",
      "  data[\"lama_pengalaman\"][i] = dict_group4a[j]\n",
      "/var/folders/v5/qz8b1b916txcqz__966vn8dr0000gn/T/ipykernel_21609/3343468947.py:8: SettingWithCopyWarning: \n",
      "A value is trying to be set on a copy of a slice from a DataFrame\n",
      "\n",
      "See the caveats in the documentation: https://pandas.pydata.org/pandas-docs/stable/user_guide/indexing.html#returning-a-view-versus-a-copy\n",
      "  data[\"lama_pengalaman\"][i] = dict_group4a[j]\n",
      "/var/folders/v5/qz8b1b916txcqz__966vn8dr0000gn/T/ipykernel_21609/3343468947.py:8: SettingWithCopyWarning: \n",
      "A value is trying to be set on a copy of a slice from a DataFrame\n",
      "\n",
      "See the caveats in the documentation: https://pandas.pydata.org/pandas-docs/stable/user_guide/indexing.html#returning-a-view-versus-a-copy\n",
      "  data[\"lama_pengalaman\"][i] = dict_group4a[j]\n",
      "/var/folders/v5/qz8b1b916txcqz__966vn8dr0000gn/T/ipykernel_21609/3343468947.py:8: SettingWithCopyWarning: \n",
      "A value is trying to be set on a copy of a slice from a DataFrame\n",
      "\n",
      "See the caveats in the documentation: https://pandas.pydata.org/pandas-docs/stable/user_guide/indexing.html#returning-a-view-versus-a-copy\n",
      "  data[\"lama_pengalaman\"][i] = dict_group4a[j]\n",
      "/var/folders/v5/qz8b1b916txcqz__966vn8dr0000gn/T/ipykernel_21609/3343468947.py:8: SettingWithCopyWarning: \n",
      "A value is trying to be set on a copy of a slice from a DataFrame\n",
      "\n",
      "See the caveats in the documentation: https://pandas.pydata.org/pandas-docs/stable/user_guide/indexing.html#returning-a-view-versus-a-copy\n",
      "  data[\"lama_pengalaman\"][i] = dict_group4a[j]\n",
      "/var/folders/v5/qz8b1b916txcqz__966vn8dr0000gn/T/ipykernel_21609/3343468947.py:8: SettingWithCopyWarning: \n",
      "A value is trying to be set on a copy of a slice from a DataFrame\n",
      "\n",
      "See the caveats in the documentation: https://pandas.pydata.org/pandas-docs/stable/user_guide/indexing.html#returning-a-view-versus-a-copy\n",
      "  data[\"lama_pengalaman\"][i] = dict_group4a[j]\n",
      "/var/folders/v5/qz8b1b916txcqz__966vn8dr0000gn/T/ipykernel_21609/3343468947.py:8: SettingWithCopyWarning: \n",
      "A value is trying to be set on a copy of a slice from a DataFrame\n",
      "\n",
      "See the caveats in the documentation: https://pandas.pydata.org/pandas-docs/stable/user_guide/indexing.html#returning-a-view-versus-a-copy\n",
      "  data[\"lama_pengalaman\"][i] = dict_group4a[j]\n",
      "/var/folders/v5/qz8b1b916txcqz__966vn8dr0000gn/T/ipykernel_21609/3343468947.py:8: SettingWithCopyWarning: \n",
      "A value is trying to be set on a copy of a slice from a DataFrame\n",
      "\n",
      "See the caveats in the documentation: https://pandas.pydata.org/pandas-docs/stable/user_guide/indexing.html#returning-a-view-versus-a-copy\n",
      "  data[\"lama_pengalaman\"][i] = dict_group4a[j]\n",
      "/var/folders/v5/qz8b1b916txcqz__966vn8dr0000gn/T/ipykernel_21609/3343468947.py:8: SettingWithCopyWarning: \n",
      "A value is trying to be set on a copy of a slice from a DataFrame\n",
      "\n",
      "See the caveats in the documentation: https://pandas.pydata.org/pandas-docs/stable/user_guide/indexing.html#returning-a-view-versus-a-copy\n",
      "  data[\"lama_pengalaman\"][i] = dict_group4a[j]\n",
      "/var/folders/v5/qz8b1b916txcqz__966vn8dr0000gn/T/ipykernel_21609/3343468947.py:8: SettingWithCopyWarning: \n",
      "A value is trying to be set on a copy of a slice from a DataFrame\n",
      "\n",
      "See the caveats in the documentation: https://pandas.pydata.org/pandas-docs/stable/user_guide/indexing.html#returning-a-view-versus-a-copy\n",
      "  data[\"lama_pengalaman\"][i] = dict_group4a[j]\n",
      "/var/folders/v5/qz8b1b916txcqz__966vn8dr0000gn/T/ipykernel_21609/3343468947.py:8: SettingWithCopyWarning: \n",
      "A value is trying to be set on a copy of a slice from a DataFrame\n",
      "\n",
      "See the caveats in the documentation: https://pandas.pydata.org/pandas-docs/stable/user_guide/indexing.html#returning-a-view-versus-a-copy\n",
      "  data[\"lama_pengalaman\"][i] = dict_group4a[j]\n",
      "/var/folders/v5/qz8b1b916txcqz__966vn8dr0000gn/T/ipykernel_21609/3343468947.py:8: SettingWithCopyWarning: \n",
      "A value is trying to be set on a copy of a slice from a DataFrame\n",
      "\n",
      "See the caveats in the documentation: https://pandas.pydata.org/pandas-docs/stable/user_guide/indexing.html#returning-a-view-versus-a-copy\n",
      "  data[\"lama_pengalaman\"][i] = dict_group4a[j]\n",
      "/var/folders/v5/qz8b1b916txcqz__966vn8dr0000gn/T/ipykernel_21609/3343468947.py:8: SettingWithCopyWarning: \n",
      "A value is trying to be set on a copy of a slice from a DataFrame\n",
      "\n",
      "See the caveats in the documentation: https://pandas.pydata.org/pandas-docs/stable/user_guide/indexing.html#returning-a-view-versus-a-copy\n",
      "  data[\"lama_pengalaman\"][i] = dict_group4a[j]\n",
      "/var/folders/v5/qz8b1b916txcqz__966vn8dr0000gn/T/ipykernel_21609/3343468947.py:8: SettingWithCopyWarning: \n",
      "A value is trying to be set on a copy of a slice from a DataFrame\n",
      "\n",
      "See the caveats in the documentation: https://pandas.pydata.org/pandas-docs/stable/user_guide/indexing.html#returning-a-view-versus-a-copy\n",
      "  data[\"lama_pengalaman\"][i] = dict_group4a[j]\n",
      "/var/folders/v5/qz8b1b916txcqz__966vn8dr0000gn/T/ipykernel_21609/3343468947.py:8: SettingWithCopyWarning: \n",
      "A value is trying to be set on a copy of a slice from a DataFrame\n",
      "\n",
      "See the caveats in the documentation: https://pandas.pydata.org/pandas-docs/stable/user_guide/indexing.html#returning-a-view-versus-a-copy\n",
      "  data[\"lama_pengalaman\"][i] = dict_group4a[j]\n",
      "/var/folders/v5/qz8b1b916txcqz__966vn8dr0000gn/T/ipykernel_21609/3343468947.py:8: SettingWithCopyWarning: \n",
      "A value is trying to be set on a copy of a slice from a DataFrame\n",
      "\n",
      "See the caveats in the documentation: https://pandas.pydata.org/pandas-docs/stable/user_guide/indexing.html#returning-a-view-versus-a-copy\n",
      "  data[\"lama_pengalaman\"][i] = dict_group4a[j]\n",
      "/var/folders/v5/qz8b1b916txcqz__966vn8dr0000gn/T/ipykernel_21609/3343468947.py:8: SettingWithCopyWarning: \n",
      "A value is trying to be set on a copy of a slice from a DataFrame\n",
      "\n",
      "See the caveats in the documentation: https://pandas.pydata.org/pandas-docs/stable/user_guide/indexing.html#returning-a-view-versus-a-copy\n",
      "  data[\"lama_pengalaman\"][i] = dict_group4a[j]\n",
      "/var/folders/v5/qz8b1b916txcqz__966vn8dr0000gn/T/ipykernel_21609/3343468947.py:8: SettingWithCopyWarning: \n",
      "A value is trying to be set on a copy of a slice from a DataFrame\n",
      "\n",
      "See the caveats in the documentation: https://pandas.pydata.org/pandas-docs/stable/user_guide/indexing.html#returning-a-view-versus-a-copy\n",
      "  data[\"lama_pengalaman\"][i] = dict_group4a[j]\n",
      "/var/folders/v5/qz8b1b916txcqz__966vn8dr0000gn/T/ipykernel_21609/3343468947.py:8: SettingWithCopyWarning: \n",
      "A value is trying to be set on a copy of a slice from a DataFrame\n",
      "\n",
      "See the caveats in the documentation: https://pandas.pydata.org/pandas-docs/stable/user_guide/indexing.html#returning-a-view-versus-a-copy\n",
      "  data[\"lama_pengalaman\"][i] = dict_group4a[j]\n",
      "/var/folders/v5/qz8b1b916txcqz__966vn8dr0000gn/T/ipykernel_21609/3343468947.py:8: SettingWithCopyWarning: \n",
      "A value is trying to be set on a copy of a slice from a DataFrame\n",
      "\n",
      "See the caveats in the documentation: https://pandas.pydata.org/pandas-docs/stable/user_guide/indexing.html#returning-a-view-versus-a-copy\n",
      "  data[\"lama_pengalaman\"][i] = dict_group4a[j]\n",
      "/var/folders/v5/qz8b1b916txcqz__966vn8dr0000gn/T/ipykernel_21609/3343468947.py:8: SettingWithCopyWarning: \n",
      "A value is trying to be set on a copy of a slice from a DataFrame\n",
      "\n",
      "See the caveats in the documentation: https://pandas.pydata.org/pandas-docs/stable/user_guide/indexing.html#returning-a-view-versus-a-copy\n",
      "  data[\"lama_pengalaman\"][i] = dict_group4a[j]\n",
      "/var/folders/v5/qz8b1b916txcqz__966vn8dr0000gn/T/ipykernel_21609/3343468947.py:8: SettingWithCopyWarning: \n",
      "A value is trying to be set on a copy of a slice from a DataFrame\n",
      "\n",
      "See the caveats in the documentation: https://pandas.pydata.org/pandas-docs/stable/user_guide/indexing.html#returning-a-view-versus-a-copy\n",
      "  data[\"lama_pengalaman\"][i] = dict_group4a[j]\n",
      "/var/folders/v5/qz8b1b916txcqz__966vn8dr0000gn/T/ipykernel_21609/3343468947.py:8: SettingWithCopyWarning: \n",
      "A value is trying to be set on a copy of a slice from a DataFrame\n",
      "\n",
      "See the caveats in the documentation: https://pandas.pydata.org/pandas-docs/stable/user_guide/indexing.html#returning-a-view-versus-a-copy\n",
      "  data[\"lama_pengalaman\"][i] = dict_group4a[j]\n",
      "/var/folders/v5/qz8b1b916txcqz__966vn8dr0000gn/T/ipykernel_21609/3343468947.py:8: SettingWithCopyWarning: \n",
      "A value is trying to be set on a copy of a slice from a DataFrame\n",
      "\n",
      "See the caveats in the documentation: https://pandas.pydata.org/pandas-docs/stable/user_guide/indexing.html#returning-a-view-versus-a-copy\n",
      "  data[\"lama_pengalaman\"][i] = dict_group4a[j]\n",
      "/var/folders/v5/qz8b1b916txcqz__966vn8dr0000gn/T/ipykernel_21609/3343468947.py:8: SettingWithCopyWarning: \n",
      "A value is trying to be set on a copy of a slice from a DataFrame\n",
      "\n",
      "See the caveats in the documentation: https://pandas.pydata.org/pandas-docs/stable/user_guide/indexing.html#returning-a-view-versus-a-copy\n",
      "  data[\"lama_pengalaman\"][i] = dict_group4a[j]\n",
      "/var/folders/v5/qz8b1b916txcqz__966vn8dr0000gn/T/ipykernel_21609/3343468947.py:8: SettingWithCopyWarning: \n",
      "A value is trying to be set on a copy of a slice from a DataFrame\n",
      "\n",
      "See the caveats in the documentation: https://pandas.pydata.org/pandas-docs/stable/user_guide/indexing.html#returning-a-view-versus-a-copy\n",
      "  data[\"lama_pengalaman\"][i] = dict_group4a[j]\n",
      "/var/folders/v5/qz8b1b916txcqz__966vn8dr0000gn/T/ipykernel_21609/3343468947.py:8: SettingWithCopyWarning: \n",
      "A value is trying to be set on a copy of a slice from a DataFrame\n",
      "\n",
      "See the caveats in the documentation: https://pandas.pydata.org/pandas-docs/stable/user_guide/indexing.html#returning-a-view-versus-a-copy\n",
      "  data[\"lama_pengalaman\"][i] = dict_group4a[j]\n",
      "/var/folders/v5/qz8b1b916txcqz__966vn8dr0000gn/T/ipykernel_21609/3343468947.py:8: SettingWithCopyWarning: \n",
      "A value is trying to be set on a copy of a slice from a DataFrame\n",
      "\n",
      "See the caveats in the documentation: https://pandas.pydata.org/pandas-docs/stable/user_guide/indexing.html#returning-a-view-versus-a-copy\n",
      "  data[\"lama_pengalaman\"][i] = dict_group4a[j]\n",
      "/var/folders/v5/qz8b1b916txcqz__966vn8dr0000gn/T/ipykernel_21609/3343468947.py:8: SettingWithCopyWarning: \n",
      "A value is trying to be set on a copy of a slice from a DataFrame\n",
      "\n",
      "See the caveats in the documentation: https://pandas.pydata.org/pandas-docs/stable/user_guide/indexing.html#returning-a-view-versus-a-copy\n",
      "  data[\"lama_pengalaman\"][i] = dict_group4a[j]\n",
      "/var/folders/v5/qz8b1b916txcqz__966vn8dr0000gn/T/ipykernel_21609/3343468947.py:8: SettingWithCopyWarning: \n",
      "A value is trying to be set on a copy of a slice from a DataFrame\n",
      "\n",
      "See the caveats in the documentation: https://pandas.pydata.org/pandas-docs/stable/user_guide/indexing.html#returning-a-view-versus-a-copy\n",
      "  data[\"lama_pengalaman\"][i] = dict_group4a[j]\n",
      "/var/folders/v5/qz8b1b916txcqz__966vn8dr0000gn/T/ipykernel_21609/3343468947.py:8: SettingWithCopyWarning: \n",
      "A value is trying to be set on a copy of a slice from a DataFrame\n",
      "\n",
      "See the caveats in the documentation: https://pandas.pydata.org/pandas-docs/stable/user_guide/indexing.html#returning-a-view-versus-a-copy\n",
      "  data[\"lama_pengalaman\"][i] = dict_group4a[j]\n",
      "/var/folders/v5/qz8b1b916txcqz__966vn8dr0000gn/T/ipykernel_21609/3343468947.py:8: SettingWithCopyWarning: \n",
      "A value is trying to be set on a copy of a slice from a DataFrame\n",
      "\n",
      "See the caveats in the documentation: https://pandas.pydata.org/pandas-docs/stable/user_guide/indexing.html#returning-a-view-versus-a-copy\n",
      "  data[\"lama_pengalaman\"][i] = dict_group4a[j]\n",
      "/var/folders/v5/qz8b1b916txcqz__966vn8dr0000gn/T/ipykernel_21609/3343468947.py:8: SettingWithCopyWarning: \n",
      "A value is trying to be set on a copy of a slice from a DataFrame\n",
      "\n",
      "See the caveats in the documentation: https://pandas.pydata.org/pandas-docs/stable/user_guide/indexing.html#returning-a-view-versus-a-copy\n",
      "  data[\"lama_pengalaman\"][i] = dict_group4a[j]\n",
      "/var/folders/v5/qz8b1b916txcqz__966vn8dr0000gn/T/ipykernel_21609/3343468947.py:8: SettingWithCopyWarning: \n",
      "A value is trying to be set on a copy of a slice from a DataFrame\n",
      "\n",
      "See the caveats in the documentation: https://pandas.pydata.org/pandas-docs/stable/user_guide/indexing.html#returning-a-view-versus-a-copy\n",
      "  data[\"lama_pengalaman\"][i] = dict_group4a[j]\n",
      "/var/folders/v5/qz8b1b916txcqz__966vn8dr0000gn/T/ipykernel_21609/3343468947.py:8: SettingWithCopyWarning: \n",
      "A value is trying to be set on a copy of a slice from a DataFrame\n",
      "\n",
      "See the caveats in the documentation: https://pandas.pydata.org/pandas-docs/stable/user_guide/indexing.html#returning-a-view-versus-a-copy\n",
      "  data[\"lama_pengalaman\"][i] = dict_group4a[j]\n",
      "/var/folders/v5/qz8b1b916txcqz__966vn8dr0000gn/T/ipykernel_21609/3343468947.py:8: SettingWithCopyWarning: \n",
      "A value is trying to be set on a copy of a slice from a DataFrame\n",
      "\n",
      "See the caveats in the documentation: https://pandas.pydata.org/pandas-docs/stable/user_guide/indexing.html#returning-a-view-versus-a-copy\n",
      "  data[\"lama_pengalaman\"][i] = dict_group4a[j]\n",
      "/var/folders/v5/qz8b1b916txcqz__966vn8dr0000gn/T/ipykernel_21609/3343468947.py:8: SettingWithCopyWarning: \n",
      "A value is trying to be set on a copy of a slice from a DataFrame\n",
      "\n",
      "See the caveats in the documentation: https://pandas.pydata.org/pandas-docs/stable/user_guide/indexing.html#returning-a-view-versus-a-copy\n",
      "  data[\"lama_pengalaman\"][i] = dict_group4a[j]\n",
      "/var/folders/v5/qz8b1b916txcqz__966vn8dr0000gn/T/ipykernel_21609/3343468947.py:8: SettingWithCopyWarning: \n",
      "A value is trying to be set on a copy of a slice from a DataFrame\n",
      "\n",
      "See the caveats in the documentation: https://pandas.pydata.org/pandas-docs/stable/user_guide/indexing.html#returning-a-view-versus-a-copy\n",
      "  data[\"lama_pengalaman\"][i] = dict_group4a[j]\n",
      "/var/folders/v5/qz8b1b916txcqz__966vn8dr0000gn/T/ipykernel_21609/3343468947.py:8: SettingWithCopyWarning: \n",
      "A value is trying to be set on a copy of a slice from a DataFrame\n",
      "\n",
      "See the caveats in the documentation: https://pandas.pydata.org/pandas-docs/stable/user_guide/indexing.html#returning-a-view-versus-a-copy\n",
      "  data[\"lama_pengalaman\"][i] = dict_group4a[j]\n",
      "/var/folders/v5/qz8b1b916txcqz__966vn8dr0000gn/T/ipykernel_21609/3343468947.py:8: SettingWithCopyWarning: \n",
      "A value is trying to be set on a copy of a slice from a DataFrame\n",
      "\n",
      "See the caveats in the documentation: https://pandas.pydata.org/pandas-docs/stable/user_guide/indexing.html#returning-a-view-versus-a-copy\n",
      "  data[\"lama_pengalaman\"][i] = dict_group4a[j]\n",
      "/var/folders/v5/qz8b1b916txcqz__966vn8dr0000gn/T/ipykernel_21609/3343468947.py:8: SettingWithCopyWarning: \n",
      "A value is trying to be set on a copy of a slice from a DataFrame\n",
      "\n",
      "See the caveats in the documentation: https://pandas.pydata.org/pandas-docs/stable/user_guide/indexing.html#returning-a-view-versus-a-copy\n",
      "  data[\"lama_pengalaman\"][i] = dict_group4a[j]\n",
      "/var/folders/v5/qz8b1b916txcqz__966vn8dr0000gn/T/ipykernel_21609/3343468947.py:8: SettingWithCopyWarning: \n",
      "A value is trying to be set on a copy of a slice from a DataFrame\n",
      "\n",
      "See the caveats in the documentation: https://pandas.pydata.org/pandas-docs/stable/user_guide/indexing.html#returning-a-view-versus-a-copy\n",
      "  data[\"lama_pengalaman\"][i] = dict_group4a[j]\n",
      "/var/folders/v5/qz8b1b916txcqz__966vn8dr0000gn/T/ipykernel_21609/3343468947.py:8: SettingWithCopyWarning: \n",
      "A value is trying to be set on a copy of a slice from a DataFrame\n",
      "\n",
      "See the caveats in the documentation: https://pandas.pydata.org/pandas-docs/stable/user_guide/indexing.html#returning-a-view-versus-a-copy\n",
      "  data[\"lama_pengalaman\"][i] = dict_group4a[j]\n",
      "/var/folders/v5/qz8b1b916txcqz__966vn8dr0000gn/T/ipykernel_21609/3343468947.py:8: SettingWithCopyWarning: \n",
      "A value is trying to be set on a copy of a slice from a DataFrame\n",
      "\n",
      "See the caveats in the documentation: https://pandas.pydata.org/pandas-docs/stable/user_guide/indexing.html#returning-a-view-versus-a-copy\n",
      "  data[\"lama_pengalaman\"][i] = dict_group4a[j]\n"
     ]
    }
   ],
   "source": [
    "missing_lama_pengalaman1 = data[pd.isna(data[\"lama_pengalaman\"])]\n",
    "\n",
    "for i in missing_lama_pengalaman1.index:\n",
    "    for j in dict_group4a.keys():\n",
    "        data_asli = (data[\"job_name\"][i])\n",
    "        \n",
    "        if data_asli == j:\n",
    "            data[\"lama_pengalaman\"][i] = dict_group4a[j]"
   ]
  },
  {
   "cell_type": "code",
   "execution_count": 41,
   "metadata": {
    "scrolled": true
   },
   "outputs": [
    {
     "data": {
      "text/plain": [
       "job_name           0\n",
       "lokasi             0\n",
       "tingkat_job        0\n",
       "lama_pengalaman    0\n",
       "ukuran_company     0\n",
       "industri           0\n",
       "median_gaji        0\n",
       "dtype: int64"
      ]
     },
     "execution_count": 41,
     "metadata": {},
     "output_type": "execute_result"
    }
   ],
   "source": [
    "pd.isna(data).sum() "
   ]
  },
  {
   "cell_type": "code",
   "execution_count": 42,
   "metadata": {
    "scrolled": false
   },
   "outputs": [
    {
     "data": {
      "text/plain": [
       "job_name\n",
       "data analyst      37\n",
       "data engineer     25\n",
       "data scientist    16\n",
       "dtype: int64"
      ]
     },
     "execution_count": 42,
     "metadata": {},
     "output_type": "execute_result"
    }
   ],
   "source": [
    "data.groupby([\"job_name\"]).size()"
   ]
  },
  {
   "cell_type": "markdown",
   "metadata": {},
   "source": [
    "# Handling Categorical Data"
   ]
  },
  {
   "cell_type": "code",
   "execution_count": 73,
   "metadata": {},
   "outputs": [
    {
     "data": {
      "text/plain": [
       "78"
      ]
     },
     "execution_count": 73,
     "metadata": {},
     "output_type": "execute_result"
    }
   ],
   "source": [
    "data_oke = data.copy()\n",
    "len(data_oke)"
   ]
  },
  {
   "cell_type": "code",
   "execution_count": 74,
   "metadata": {
    "scrolled": true
   },
   "outputs": [
    {
     "data": {
      "text/html": [
       "<div>\n",
       "<style scoped>\n",
       "    .dataframe tbody tr th:only-of-type {\n",
       "        vertical-align: middle;\n",
       "    }\n",
       "\n",
       "    .dataframe tbody tr th {\n",
       "        vertical-align: top;\n",
       "    }\n",
       "\n",
       "    .dataframe thead th {\n",
       "        text-align: right;\n",
       "    }\n",
       "</style>\n",
       "<table border=\"1\" class=\"dataframe\">\n",
       "  <thead>\n",
       "    <tr style=\"text-align: right;\">\n",
       "      <th></th>\n",
       "      <th>index</th>\n",
       "      <th>dtypes</th>\n",
       "      <th>Missing</th>\n",
       "      <th>Uniques</th>\n",
       "    </tr>\n",
       "  </thead>\n",
       "  <tbody>\n",
       "    <tr>\n",
       "      <th>0</th>\n",
       "      <td>job_name</td>\n",
       "      <td>object</td>\n",
       "      <td>0</td>\n",
       "      <td>3</td>\n",
       "    </tr>\n",
       "    <tr>\n",
       "      <th>1</th>\n",
       "      <td>lokasi</td>\n",
       "      <td>object</td>\n",
       "      <td>0</td>\n",
       "      <td>7</td>\n",
       "    </tr>\n",
       "    <tr>\n",
       "      <th>2</th>\n",
       "      <td>tingkat_job</td>\n",
       "      <td>object</td>\n",
       "      <td>0</td>\n",
       "      <td>4</td>\n",
       "    </tr>\n",
       "    <tr>\n",
       "      <th>3</th>\n",
       "      <td>lama_pengalaman</td>\n",
       "      <td>float64</td>\n",
       "      <td>0</td>\n",
       "      <td>7</td>\n",
       "    </tr>\n",
       "    <tr>\n",
       "      <th>4</th>\n",
       "      <td>ukuran_company</td>\n",
       "      <td>object</td>\n",
       "      <td>0</td>\n",
       "      <td>6</td>\n",
       "    </tr>\n",
       "    <tr>\n",
       "      <th>5</th>\n",
       "      <td>industri</td>\n",
       "      <td>object</td>\n",
       "      <td>0</td>\n",
       "      <td>10</td>\n",
       "    </tr>\n",
       "    <tr>\n",
       "      <th>6</th>\n",
       "      <td>median_gaji</td>\n",
       "      <td>float64</td>\n",
       "      <td>0</td>\n",
       "      <td>52</td>\n",
       "    </tr>\n",
       "  </tbody>\n",
       "</table>\n",
       "</div>"
      ],
      "text/plain": [
       "             index   dtypes  Missing  Uniques\n",
       "0         job_name   object        0        3\n",
       "1           lokasi   object        0        7\n",
       "2      tingkat_job   object        0        4\n",
       "3  lama_pengalaman  float64        0        7\n",
       "4   ukuran_company   object        0        6\n",
       "5         industri   object        0       10\n",
       "6      median_gaji  float64        0       52"
      ]
     },
     "execution_count": 74,
     "metadata": {},
     "output_type": "execute_result"
    }
   ],
   "source": [
    "summarize_features(data_oke)"
   ]
  },
  {
   "cell_type": "code",
   "execution_count": 75,
   "metadata": {},
   "outputs": [],
   "source": [
    "# NOMINAL -> \"job_name\", \"lokasi\", \"industri\" (pakai get_dummies)\n",
    "# ORDINAL -> \"tingkat_job\", \"ukuran_company\" (pakai OrdinalEncoder)"
   ]
  },
  {
   "cell_type": "code",
   "execution_count": 76,
   "metadata": {},
   "outputs": [
    {
     "data": {
      "text/html": [
       "<div>\n",
       "<style scoped>\n",
       "    .dataframe tbody tr th:only-of-type {\n",
       "        vertical-align: middle;\n",
       "    }\n",
       "\n",
       "    .dataframe tbody tr th {\n",
       "        vertical-align: top;\n",
       "    }\n",
       "\n",
       "    .dataframe thead th {\n",
       "        text-align: right;\n",
       "    }\n",
       "</style>\n",
       "<table border=\"1\" class=\"dataframe\">\n",
       "  <thead>\n",
       "    <tr style=\"text-align: right;\">\n",
       "      <th></th>\n",
       "      <th>lokasi_bali</th>\n",
       "      <th>lokasi_banten</th>\n",
       "      <th>lokasi_diy</th>\n",
       "      <th>lokasi_dki jakarta</th>\n",
       "      <th>lokasi_jawa barat</th>\n",
       "      <th>lokasi_jawa timur</th>\n",
       "      <th>lokasi_kalimantan barat</th>\n",
       "      <th>industri_acara</th>\n",
       "      <th>industri_ekonomi</th>\n",
       "      <th>industri_human resources</th>\n",
       "      <th>...</th>\n",
       "      <th>industri_konsultasi</th>\n",
       "      <th>industri_media</th>\n",
       "      <th>industri_pemasaran &amp; periklanan</th>\n",
       "      <th>industri_teknologi informasi dan komunikasi</th>\n",
       "      <th>industri_transportasi</th>\n",
       "      <th>job_name</th>\n",
       "      <th>tingkat_job</th>\n",
       "      <th>lama_pengalaman</th>\n",
       "      <th>ukuran_company</th>\n",
       "      <th>median_gaji</th>\n",
       "    </tr>\n",
       "  </thead>\n",
       "  <tbody>\n",
       "    <tr>\n",
       "      <th>0</th>\n",
       "      <td>0.0</td>\n",
       "      <td>0.0</td>\n",
       "      <td>0.0</td>\n",
       "      <td>1.0</td>\n",
       "      <td>0.0</td>\n",
       "      <td>0.0</td>\n",
       "      <td>0.0</td>\n",
       "      <td>0.0</td>\n",
       "      <td>0.0</td>\n",
       "      <td>0.0</td>\n",
       "      <td>...</td>\n",
       "      <td>0.0</td>\n",
       "      <td>0.0</td>\n",
       "      <td>0.0</td>\n",
       "      <td>1.0</td>\n",
       "      <td>0.0</td>\n",
       "      <td>data scientist</td>\n",
       "      <td>senior tingkat menengah</td>\n",
       "      <td>5.0</td>\n",
       "      <td>51-200 pekerja</td>\n",
       "      <td>22500000.0</td>\n",
       "    </tr>\n",
       "    <tr>\n",
       "      <th>1</th>\n",
       "      <td>0.0</td>\n",
       "      <td>0.0</td>\n",
       "      <td>0.0</td>\n",
       "      <td>1.0</td>\n",
       "      <td>0.0</td>\n",
       "      <td>0.0</td>\n",
       "      <td>0.0</td>\n",
       "      <td>0.0</td>\n",
       "      <td>0.0</td>\n",
       "      <td>0.0</td>\n",
       "      <td>...</td>\n",
       "      <td>1.0</td>\n",
       "      <td>0.0</td>\n",
       "      <td>0.0</td>\n",
       "      <td>0.0</td>\n",
       "      <td>0.0</td>\n",
       "      <td>data scientist</td>\n",
       "      <td>asosiasi</td>\n",
       "      <td>2.0</td>\n",
       "      <td>51-200 pekerja</td>\n",
       "      <td>16000000.0</td>\n",
       "    </tr>\n",
       "  </tbody>\n",
       "</table>\n",
       "<p>2 rows × 22 columns</p>\n",
       "</div>"
      ],
      "text/plain": [
       "   lokasi_bali  lokasi_banten  lokasi_diy  lokasi_dki jakarta  \\\n",
       "0          0.0            0.0         0.0                 1.0   \n",
       "1          0.0            0.0         0.0                 1.0   \n",
       "\n",
       "   lokasi_jawa barat  lokasi_jawa timur  lokasi_kalimantan barat  \\\n",
       "0                0.0                0.0                      0.0   \n",
       "1                0.0                0.0                      0.0   \n",
       "\n",
       "   industri_acara  industri_ekonomi  industri_human resources  ...  \\\n",
       "0             0.0               0.0                       0.0  ...   \n",
       "1             0.0               0.0                       0.0  ...   \n",
       "\n",
       "   industri_konsultasi  industri_media  industri_pemasaran & periklanan  \\\n",
       "0                  0.0             0.0                              0.0   \n",
       "1                  1.0             0.0                              0.0   \n",
       "\n",
       "   industri_teknologi informasi dan komunikasi  industri_transportasi  \\\n",
       "0                                          1.0                    0.0   \n",
       "1                                          0.0                    0.0   \n",
       "\n",
       "         job_name              tingkat_job lama_pengalaman  ukuran_company  \\\n",
       "0  data scientist  senior tingkat menengah             5.0  51-200 pekerja   \n",
       "1  data scientist                 asosiasi             2.0  51-200 pekerja   \n",
       "\n",
       "   median_gaji  \n",
       "0   22500000.0  \n",
       "1   16000000.0  \n",
       "\n",
       "[2 rows x 22 columns]"
      ]
     },
     "execution_count": 76,
     "metadata": {},
     "output_type": "execute_result"
    }
   ],
   "source": [
    "# NOMINAL\n",
    "\n",
    "# \"lokasi\", \"industri\"\n",
    "nominal_cols = data_oke[[\"lokasi\", \"industri\"]]\n",
    "encoded_nominal = pd.get_dummies(data = nominal_cols, dtype = float)\n",
    "\n",
    "# Gabungkan ke data asli\n",
    "data_oke = pd.concat(objs = [encoded_nominal, data_oke], axis = 1)\n",
    "data_oke.drop(nominal_cols, axis = 1, inplace = True)\n",
    "data_oke.head(2)"
   ]
  },
  {
   "cell_type": "code",
   "execution_count": 77,
   "metadata": {},
   "outputs": [],
   "source": [
    "#!pip install category_encoders"
   ]
  },
  {
   "cell_type": "code",
   "execution_count": 78,
   "metadata": {},
   "outputs": [
    {
     "name": "stdout",
     "output_type": "stream",
     "text": [
      "['senior tingkat menengah' 'asosiasi' 'tingkat pemula' 'magang']\n",
      "\n",
      "['51-200 pekerja' '1-50 pekerja' '501-1.000 pekerja' '>5.000 pekerja'\n",
      " '1.001-5.000 pekerja' '201-500 pekerja']\n"
     ]
    }
   ],
   "source": [
    "print(data_oke[\"tingkat_job\"].unique())\n",
    "print()\n",
    "print(data_oke[\"ukuran_company\"].unique())"
   ]
  },
  {
   "cell_type": "code",
   "execution_count": 79,
   "metadata": {},
   "outputs": [],
   "source": [
    "# ORDINAL\n",
    "import category_encoders as ce\n",
    "\n",
    "# 1. \"tingkat_job\"\n",
    "encoder_tingkat_job = ce.OrdinalEncoder(cols = [\"tingkat_job\"], return_df = True, \n",
    "                                        mapping = [{\"col\": \"tingkat_job\", \n",
    "                                                    \"mapping\": {\"magang\": 0, \"tingkat pemula\": 1, \"asosiasi\": 2, \n",
    "                                                                \"senior tingkat menengah\": 3, \"direktur\": 4, \"eksekutif\": 5}}])\n",
    "\n",
    "data_oke[\"tingkat_job\"] = encoder_tingkat_job.fit_transform(data_oke[\"tingkat_job\"])\n",
    "\n",
    "# 2. \"ukuran_company\"\n",
    "encoder_ukuran_company = ce.OrdinalEncoder(cols = [\"ukuran_company\"], return_df = True, \n",
    "                                           mapping = [{\"col\": \"ukuran_company\", \n",
    "                                                       \"mapping\": {\"1-50 pekerja\": 0, \"51-200 pekerja\": 1, \"201-500 pekerja\": 2,\n",
    "                                                                   \"501-1.000 pekerja\": 3, \"1.001-5.000 pekerja\": 4, \">5.000 pekerja\": 5}}])\n",
    "\n",
    "data_oke[\"ukuran_company\"] = encoder_ukuran_company.fit_transform(data_oke[\"ukuran_company\"])"
   ]
  },
  {
   "cell_type": "code",
   "execution_count": 80,
   "metadata": {},
   "outputs": [
    {
     "data": {
      "text/plain": [
       "0     data scientist\n",
       "1     data scientist\n",
       "2     data scientist\n",
       "3     data scientist\n",
       "4       data analyst\n",
       "           ...      \n",
       "73     data engineer\n",
       "74     data engineer\n",
       "75     data engineer\n",
       "76     data engineer\n",
       "77     data engineer\n",
       "Name: job_name, Length: 78, dtype: object"
      ]
     },
     "execution_count": 80,
     "metadata": {},
     "output_type": "execute_result"
    }
   ],
   "source": [
    "data_oke[\"job_name\"]"
   ]
  },
  {
   "cell_type": "markdown",
   "metadata": {},
   "source": [
    "### COBA SMOTE PAKAI SEMUA DATA"
   ]
  },
  {
   "cell_type": "code",
   "execution_count": 81,
   "metadata": {},
   "outputs": [],
   "source": [
    "# Karena mau pakai SMOTE, yang jadi y itu nama profesi data dulu\n",
    "X = data_oke.drop(\"job_name\", axis = 1)\n",
    "y = data_oke[\"job_name\"]"
   ]
  },
  {
   "cell_type": "code",
   "execution_count": 82,
   "metadata": {},
   "outputs": [
    {
     "data": {
      "text/plain": [
       "job_name\n",
       "data analyst      37\n",
       "data engineer     25\n",
       "data scientist    16\n",
       "Name: count, dtype: int64"
      ]
     },
     "execution_count": 82,
     "metadata": {},
     "output_type": "execute_result"
    }
   ],
   "source": [
    "y.value_counts()"
   ]
  },
  {
   "cell_type": "code",
   "execution_count": 83,
   "metadata": {},
   "outputs": [],
   "source": [
    "# pip install -U imbalanced-learn"
   ]
  },
  {
   "cell_type": "code",
   "execution_count": 84,
   "metadata": {},
   "outputs": [],
   "source": [
    "from imblearn.over_sampling import SMOTE\n",
    "strategy = {\"data analyst\": 87, \"data engineer\": 87, \"data scientist\": 87}\n",
    "oversample = SMOTE(random_state = 0, sampling_strategy = strategy)\n",
    "X_smote, y_smote = oversample.fit_resample(X, y)"
   ]
  },
  {
   "cell_type": "code",
   "execution_count": 85,
   "metadata": {},
   "outputs": [
    {
     "data": {
      "text/plain": [
       "job_name\n",
       "data scientist    87\n",
       "data analyst      87\n",
       "data engineer     87\n",
       "Name: count, dtype: int64"
      ]
     },
     "execution_count": 85,
     "metadata": {},
     "output_type": "execute_result"
    }
   ],
   "source": [
    "y_smote.value_counts()"
   ]
  },
  {
   "cell_type": "code",
   "execution_count": 86,
   "metadata": {},
   "outputs": [],
   "source": [
    "data_smote = pd.concat([y_smote, X_smote], axis = 1)"
   ]
  },
  {
   "cell_type": "code",
   "execution_count": 87,
   "metadata": {},
   "outputs": [
    {
     "data": {
      "text/html": [
       "<div>\n",
       "<style scoped>\n",
       "    .dataframe tbody tr th:only-of-type {\n",
       "        vertical-align: middle;\n",
       "    }\n",
       "\n",
       "    .dataframe tbody tr th {\n",
       "        vertical-align: top;\n",
       "    }\n",
       "\n",
       "    .dataframe thead th {\n",
       "        text-align: right;\n",
       "    }\n",
       "</style>\n",
       "<table border=\"1\" class=\"dataframe\">\n",
       "  <thead>\n",
       "    <tr style=\"text-align: right;\">\n",
       "      <th></th>\n",
       "      <th>job_name</th>\n",
       "      <th>lokasi_bali</th>\n",
       "      <th>lokasi_banten</th>\n",
       "      <th>lokasi_diy</th>\n",
       "      <th>lokasi_dki jakarta</th>\n",
       "      <th>lokasi_jawa barat</th>\n",
       "      <th>lokasi_jawa timur</th>\n",
       "      <th>lokasi_kalimantan barat</th>\n",
       "      <th>industri_acara</th>\n",
       "      <th>industri_ekonomi</th>\n",
       "      <th>...</th>\n",
       "      <th>industri_konstruksi</th>\n",
       "      <th>industri_konsultasi</th>\n",
       "      <th>industri_media</th>\n",
       "      <th>industri_pemasaran &amp; periklanan</th>\n",
       "      <th>industri_teknologi informasi dan komunikasi</th>\n",
       "      <th>industri_transportasi</th>\n",
       "      <th>tingkat_job</th>\n",
       "      <th>lama_pengalaman</th>\n",
       "      <th>ukuran_company</th>\n",
       "      <th>median_gaji</th>\n",
       "    </tr>\n",
       "  </thead>\n",
       "  <tbody>\n",
       "    <tr>\n",
       "      <th>0</th>\n",
       "      <td>data scientist</td>\n",
       "      <td>0.0</td>\n",
       "      <td>0.0</td>\n",
       "      <td>0.0</td>\n",
       "      <td>1.0</td>\n",
       "      <td>0.0</td>\n",
       "      <td>0.0</td>\n",
       "      <td>0.0</td>\n",
       "      <td>0.0</td>\n",
       "      <td>0.0</td>\n",
       "      <td>...</td>\n",
       "      <td>0.0</td>\n",
       "      <td>0.0</td>\n",
       "      <td>0.0</td>\n",
       "      <td>0.0</td>\n",
       "      <td>1.0</td>\n",
       "      <td>0.0</td>\n",
       "      <td>3</td>\n",
       "      <td>5.0</td>\n",
       "      <td>1</td>\n",
       "      <td>22500000.0</td>\n",
       "    </tr>\n",
       "    <tr>\n",
       "      <th>1</th>\n",
       "      <td>data scientist</td>\n",
       "      <td>0.0</td>\n",
       "      <td>0.0</td>\n",
       "      <td>0.0</td>\n",
       "      <td>1.0</td>\n",
       "      <td>0.0</td>\n",
       "      <td>0.0</td>\n",
       "      <td>0.0</td>\n",
       "      <td>0.0</td>\n",
       "      <td>0.0</td>\n",
       "      <td>...</td>\n",
       "      <td>0.0</td>\n",
       "      <td>1.0</td>\n",
       "      <td>0.0</td>\n",
       "      <td>0.0</td>\n",
       "      <td>0.0</td>\n",
       "      <td>0.0</td>\n",
       "      <td>2</td>\n",
       "      <td>2.0</td>\n",
       "      <td>1</td>\n",
       "      <td>16000000.0</td>\n",
       "    </tr>\n",
       "  </tbody>\n",
       "</table>\n",
       "<p>2 rows × 22 columns</p>\n",
       "</div>"
      ],
      "text/plain": [
       "         job_name  lokasi_bali  lokasi_banten  lokasi_diy  lokasi_dki jakarta  \\\n",
       "0  data scientist          0.0            0.0         0.0                 1.0   \n",
       "1  data scientist          0.0            0.0         0.0                 1.0   \n",
       "\n",
       "   lokasi_jawa barat  lokasi_jawa timur  lokasi_kalimantan barat  \\\n",
       "0                0.0                0.0                      0.0   \n",
       "1                0.0                0.0                      0.0   \n",
       "\n",
       "   industri_acara  industri_ekonomi  ...  industri_konstruksi  \\\n",
       "0             0.0               0.0  ...                  0.0   \n",
       "1             0.0               0.0  ...                  0.0   \n",
       "\n",
       "   industri_konsultasi  industri_media  industri_pemasaran & periklanan  \\\n",
       "0                  0.0             0.0                              0.0   \n",
       "1                  1.0             0.0                              0.0   \n",
       "\n",
       "   industri_teknologi informasi dan komunikasi  industri_transportasi  \\\n",
       "0                                          1.0                    0.0   \n",
       "1                                          0.0                    0.0   \n",
       "\n",
       "   tingkat_job  lama_pengalaman  ukuran_company  median_gaji  \n",
       "0            3              5.0               1   22500000.0  \n",
       "1            2              2.0               1   16000000.0  \n",
       "\n",
       "[2 rows x 22 columns]"
      ]
     },
     "execution_count": 87,
     "metadata": {},
     "output_type": "execute_result"
    }
   ],
   "source": [
    "data_smote.head(2)"
   ]
  },
  {
   "cell_type": "code",
   "execution_count": 88,
   "metadata": {
    "scrolled": true
   },
   "outputs": [
    {
     "data": {
      "text/html": [
       "<div>\n",
       "<style scoped>\n",
       "    .dataframe tbody tr th:only-of-type {\n",
       "        vertical-align: middle;\n",
       "    }\n",
       "\n",
       "    .dataframe tbody tr th {\n",
       "        vertical-align: top;\n",
       "    }\n",
       "\n",
       "    .dataframe thead th {\n",
       "        text-align: right;\n",
       "    }\n",
       "</style>\n",
       "<table border=\"1\" class=\"dataframe\">\n",
       "  <thead>\n",
       "    <tr style=\"text-align: right;\">\n",
       "      <th></th>\n",
       "      <th>job_name_data analyst</th>\n",
       "      <th>job_name_data engineer</th>\n",
       "      <th>job_name_data scientist</th>\n",
       "      <th>lokasi_bali</th>\n",
       "      <th>lokasi_banten</th>\n",
       "      <th>lokasi_diy</th>\n",
       "      <th>lokasi_dki jakarta</th>\n",
       "      <th>lokasi_jawa barat</th>\n",
       "      <th>lokasi_jawa timur</th>\n",
       "      <th>lokasi_kalimantan barat</th>\n",
       "      <th>...</th>\n",
       "      <th>industri_konstruksi</th>\n",
       "      <th>industri_konsultasi</th>\n",
       "      <th>industri_media</th>\n",
       "      <th>industri_pemasaran &amp; periklanan</th>\n",
       "      <th>industri_teknologi informasi dan komunikasi</th>\n",
       "      <th>industri_transportasi</th>\n",
       "      <th>tingkat_job</th>\n",
       "      <th>lama_pengalaman</th>\n",
       "      <th>ukuran_company</th>\n",
       "      <th>median_gaji</th>\n",
       "    </tr>\n",
       "  </thead>\n",
       "  <tbody>\n",
       "    <tr>\n",
       "      <th>0</th>\n",
       "      <td>0.0</td>\n",
       "      <td>0.0</td>\n",
       "      <td>1.0</td>\n",
       "      <td>0.0</td>\n",
       "      <td>0.0</td>\n",
       "      <td>0.0</td>\n",
       "      <td>1.0</td>\n",
       "      <td>0.0</td>\n",
       "      <td>0.0</td>\n",
       "      <td>0.0</td>\n",
       "      <td>...</td>\n",
       "      <td>0.0</td>\n",
       "      <td>0.0</td>\n",
       "      <td>0.0</td>\n",
       "      <td>0.0</td>\n",
       "      <td>1.0</td>\n",
       "      <td>0.0</td>\n",
       "      <td>3</td>\n",
       "      <td>5.0</td>\n",
       "      <td>1</td>\n",
       "      <td>22500000.0</td>\n",
       "    </tr>\n",
       "    <tr>\n",
       "      <th>1</th>\n",
       "      <td>0.0</td>\n",
       "      <td>0.0</td>\n",
       "      <td>1.0</td>\n",
       "      <td>0.0</td>\n",
       "      <td>0.0</td>\n",
       "      <td>0.0</td>\n",
       "      <td>1.0</td>\n",
       "      <td>0.0</td>\n",
       "      <td>0.0</td>\n",
       "      <td>0.0</td>\n",
       "      <td>...</td>\n",
       "      <td>0.0</td>\n",
       "      <td>1.0</td>\n",
       "      <td>0.0</td>\n",
       "      <td>0.0</td>\n",
       "      <td>0.0</td>\n",
       "      <td>0.0</td>\n",
       "      <td>2</td>\n",
       "      <td>2.0</td>\n",
       "      <td>1</td>\n",
       "      <td>16000000.0</td>\n",
       "    </tr>\n",
       "  </tbody>\n",
       "</table>\n",
       "<p>2 rows × 24 columns</p>\n",
       "</div>"
      ],
      "text/plain": [
       "   job_name_data analyst  job_name_data engineer  job_name_data scientist  \\\n",
       "0                    0.0                     0.0                      1.0   \n",
       "1                    0.0                     0.0                      1.0   \n",
       "\n",
       "   lokasi_bali  lokasi_banten  lokasi_diy  lokasi_dki jakarta  \\\n",
       "0          0.0            0.0         0.0                 1.0   \n",
       "1          0.0            0.0         0.0                 1.0   \n",
       "\n",
       "   lokasi_jawa barat  lokasi_jawa timur  lokasi_kalimantan barat  ...  \\\n",
       "0                0.0                0.0                      0.0  ...   \n",
       "1                0.0                0.0                      0.0  ...   \n",
       "\n",
       "   industri_konstruksi  industri_konsultasi  industri_media  \\\n",
       "0                  0.0                  0.0             0.0   \n",
       "1                  0.0                  1.0             0.0   \n",
       "\n",
       "   industri_pemasaran & periklanan  \\\n",
       "0                              0.0   \n",
       "1                              0.0   \n",
       "\n",
       "   industri_teknologi informasi dan komunikasi  industri_transportasi  \\\n",
       "0                                          1.0                    0.0   \n",
       "1                                          0.0                    0.0   \n",
       "\n",
       "   tingkat_job  lama_pengalaman  ukuran_company  median_gaji  \n",
       "0            3              5.0               1   22500000.0  \n",
       "1            2              2.0               1   16000000.0  \n",
       "\n",
       "[2 rows x 24 columns]"
      ]
     },
     "execution_count": 88,
     "metadata": {},
     "output_type": "execute_result"
    }
   ],
   "source": [
    "# NOMINAL\n",
    "\n",
    "# \"job_name\"\n",
    "nominal_cols = data_smote[[\"job_name\"]]\n",
    "encoded_nominal = pd.get_dummies(data = nominal_cols, dtype = float)\n",
    "\n",
    "# Gabungkan ke data asli\n",
    "data_smote = pd.concat(objs = [encoded_nominal, data_smote], axis = 1)\n",
    "data_smote.drop(nominal_cols, axis = 1, inplace = True)\n",
    "data_smote.head(2)"
   ]
  },
  {
   "cell_type": "code",
   "execution_count": 89,
   "metadata": {},
   "outputs": [
    {
     "data": {
      "text/plain": [
       "261"
      ]
     },
     "execution_count": 89,
     "metadata": {},
     "output_type": "execute_result"
    }
   ],
   "source": [
    "len(data_smote)"
   ]
  },
  {
   "cell_type": "markdown",
   "metadata": {},
   "source": [
    "# Target Engineering"
   ]
  },
  {
   "cell_type": "markdown",
   "metadata": {},
   "source": [
    "#### Target Engineering Pakai Semua Data (Seperti Saat Menggunakan Random Oversampling)"
   ]
  },
  {
   "cell_type": "code",
   "execution_count": 90,
   "metadata": {},
   "outputs": [],
   "source": [
    "from scipy import stats\n",
    "import matplotlib.pyplot as plt\n",
    "import seaborn as sns"
   ]
  },
  {
   "cell_type": "code",
   "execution_count": 91,
   "metadata": {},
   "outputs": [
    {
     "data": {
      "text/plain": [
       "261"
      ]
     },
     "execution_count": 91,
     "metadata": {},
     "output_type": "execute_result"
    }
   ],
   "source": [
    "len(data_smote)"
   ]
  },
  {
   "cell_type": "code",
   "execution_count": 92,
   "metadata": {
    "scrolled": true
   },
   "outputs": [
    {
     "name": "stderr",
     "output_type": "stream",
     "text": [
      "/var/folders/v5/qz8b1b916txcqz__966vn8dr0000gn/T/ipykernel_21609/3371456346.py:2: UserWarning: \n",
      "\n",
      "`distplot` is a deprecated function and will be removed in seaborn v0.14.0.\n",
      "\n",
      "Please adapt your code to use either `displot` (a figure-level function with\n",
      "similar flexibility) or `kdeplot` (an axes-level function for kernel density plots).\n",
      "\n",
      "For a guide to updating your code to use the new functions, please see\n",
      "https://gist.github.com/mwaskom/de44147ed2974457ad6372750bbe5751\n",
      "\n",
      "  sns.distplot(data_smote[\"median_gaji\"], hist = False, kde = True, axlabel = \"Gaji\")\n"
     ]
    },
    {
     "data": {
      "image/png": "[encoded data removed]",
      "text/plain": [
       "<Figure size 640x480 with 1 Axes>"
      ]
     },
     "metadata": {},
     "output_type": "display_data"
    }
   ],
   "source": [
    "# Data Asli\n",
    "sns.distplot(data_smote[\"median_gaji\"], hist = False, kde = True, axlabel = \"Gaji\")\n",
    "\n",
    "#plt.savefig(\"11. Distplot Gaji (261 Data) REVISI.png\")\n",
    "\n",
    "plt.show()"
   ]
  },
  {
   "cell_type": "code",
   "execution_count": 93,
   "metadata": {
    "scrolled": true
   },
   "outputs": [
    {
     "name": "stderr",
     "output_type": "stream",
     "text": [
      "/var/folders/v5/qz8b1b916txcqz__966vn8dr0000gn/T/ipykernel_21609/1875701716.py:7: UserWarning: \n",
      "\n",
      "`distplot` is a deprecated function and will be removed in seaborn v0.14.0.\n",
      "\n",
      "Please adapt your code to use either `displot` (a figure-level function with\n",
      "similar flexibility) or `kdeplot` (an axes-level function for kernel density plots).\n",
      "\n",
      "For a guide to updating your code to use the new functions, please see\n",
      "https://gist.github.com/mwaskom/de44147ed2974457ad6372750bbe5751\n",
      "\n",
      "  sns.distplot(transformed_data, hist = False, kde = True, axlabel = \"Gaji Hasil Transformasi\")\n"
     ]
    },
    {
     "data": {
      "image/png": "[encoded data removed]",
      "text/plain": [
       "<Figure size 640x480 with 1 Axes>"
      ]
     },
     "metadata": {},
     "output_type": "display_data"
    }
   ],
   "source": [
    "# Data Hasil Transformasi\n",
    "\n",
    "#perform Box-Cox transformation on original data\n",
    "transformed_data, best_lambda = stats.boxcox(data_smote[\"median_gaji\"]) \n",
    "\n",
    "#plot the distribution of the transformed data values\n",
    "sns.distplot(transformed_data, hist = False, kde = True, axlabel = \"Gaji Hasil Transformasi\")\n",
    "\n",
    "#plt.savefig(\"12. Distplot Gaji Setelah Transformasi (261 Data) REVISI.png\")\n",
    "\n",
    "plt.show()"
   ]
  },
  {
   "cell_type": "code",
   "execution_count": 94,
   "metadata": {},
   "outputs": [
    {
     "data": {
      "text/plain": [
       "0.3624440881025335"
      ]
     },
     "execution_count": 94,
     "metadata": {},
     "output_type": "execute_result"
    }
   ],
   "source": [
    "nilai_lambda = best_lambda\n",
    "nilai_lambda"
   ]
  },
  {
   "cell_type": "code",
   "execution_count": 95,
   "metadata": {},
   "outputs": [
    {
     "name": "stdout",
     "output_type": "stream",
     "text": [
      "Data Asli: [22500000.0, 16000000.0, 10800000.0, 6000000.0, 20000000.0]\n",
      "Data Hasil Transformasi: [1272.25235435 1124.04831997  974.43731023  786.93675459 1218.96786057]\n"
     ]
    }
   ],
   "source": [
    "print(\"Data Asli:\", list(data_smote[\"median_gaji\"][0:5]))\n",
    "print(\"Data Hasil Transformasi:\", transformed_data[0:5])"
   ]
  },
  {
   "cell_type": "code",
   "execution_count": 96,
   "metadata": {},
   "outputs": [
    {
     "data": {
      "text/plain": [
       "0    1272.252354\n",
       "1    1124.048320\n",
       "2     974.437310\n",
       "3     786.936755\n",
       "4    1218.967861\n",
       "Name: median_gaji, dtype: float64"
      ]
     },
     "execution_count": 96,
     "metadata": {},
     "output_type": "execute_result"
    }
   ],
   "source": [
    "(data_smote[\"median_gaji\"][0:5]**nilai_lambda - 1) / nilai_lambda"
   ]
  },
  {
   "cell_type": "code",
   "execution_count": 97,
   "metadata": {},
   "outputs": [],
   "source": [
    "# Transformasikan\n",
    "data_smote[\"median_gaji\"] = transformed_data"
   ]
  },
  {
   "cell_type": "code",
   "execution_count": 98,
   "metadata": {
    "scrolled": false
   },
   "outputs": [
    {
     "data": {
      "text/plain": [
       "0    1272.252354\n",
       "1    1124.048320\n",
       "2     974.437310\n",
       "3     786.936755\n",
       "4    1218.967861\n",
       "Name: median_gaji, dtype: float64"
      ]
     },
     "execution_count": 98,
     "metadata": {},
     "output_type": "execute_result"
    }
   ],
   "source": [
    "data_smote[\"median_gaji\"][0:5]"
   ]
  },
  {
   "cell_type": "code",
   "execution_count": 99,
   "metadata": {
    "scrolled": true
   },
   "outputs": [
    {
     "data": {
      "text/html": [
       "<div>\n",
       "<style scoped>\n",
       "    .dataframe tbody tr th:only-of-type {\n",
       "        vertical-align: middle;\n",
       "    }\n",
       "\n",
       "    .dataframe tbody tr th {\n",
       "        vertical-align: top;\n",
       "    }\n",
       "\n",
       "    .dataframe thead th {\n",
       "        text-align: right;\n",
       "    }\n",
       "</style>\n",
       "<table border=\"1\" class=\"dataframe\">\n",
       "  <thead>\n",
       "    <tr style=\"text-align: right;\">\n",
       "      <th></th>\n",
       "      <th>job_name_data analyst</th>\n",
       "      <th>job_name_data engineer</th>\n",
       "      <th>job_name_data scientist</th>\n",
       "      <th>lokasi_bali</th>\n",
       "      <th>lokasi_banten</th>\n",
       "      <th>lokasi_diy</th>\n",
       "      <th>lokasi_dki jakarta</th>\n",
       "      <th>lokasi_jawa barat</th>\n",
       "      <th>lokasi_jawa timur</th>\n",
       "      <th>lokasi_kalimantan barat</th>\n",
       "      <th>...</th>\n",
       "      <th>industri_konstruksi</th>\n",
       "      <th>industri_konsultasi</th>\n",
       "      <th>industri_media</th>\n",
       "      <th>industri_pemasaran &amp; periklanan</th>\n",
       "      <th>industri_teknologi informasi dan komunikasi</th>\n",
       "      <th>industri_transportasi</th>\n",
       "      <th>tingkat_job</th>\n",
       "      <th>lama_pengalaman</th>\n",
       "      <th>ukuran_company</th>\n",
       "      <th>median_gaji</th>\n",
       "    </tr>\n",
       "  </thead>\n",
       "  <tbody>\n",
       "    <tr>\n",
       "      <th>0</th>\n",
       "      <td>0.0</td>\n",
       "      <td>0.0</td>\n",
       "      <td>1.0</td>\n",
       "      <td>0.0</td>\n",
       "      <td>0.0</td>\n",
       "      <td>0.0</td>\n",
       "      <td>1.0</td>\n",
       "      <td>0.0</td>\n",
       "      <td>0.0</td>\n",
       "      <td>0.0</td>\n",
       "      <td>...</td>\n",
       "      <td>0.0</td>\n",
       "      <td>0.0</td>\n",
       "      <td>0.0</td>\n",
       "      <td>0.0</td>\n",
       "      <td>1.0</td>\n",
       "      <td>0.0</td>\n",
       "      <td>3</td>\n",
       "      <td>5.0</td>\n",
       "      <td>1</td>\n",
       "      <td>1272.252354</td>\n",
       "    </tr>\n",
       "    <tr>\n",
       "      <th>1</th>\n",
       "      <td>0.0</td>\n",
       "      <td>0.0</td>\n",
       "      <td>1.0</td>\n",
       "      <td>0.0</td>\n",
       "      <td>0.0</td>\n",
       "      <td>0.0</td>\n",
       "      <td>1.0</td>\n",
       "      <td>0.0</td>\n",
       "      <td>0.0</td>\n",
       "      <td>0.0</td>\n",
       "      <td>...</td>\n",
       "      <td>0.0</td>\n",
       "      <td>1.0</td>\n",
       "      <td>0.0</td>\n",
       "      <td>0.0</td>\n",
       "      <td>0.0</td>\n",
       "      <td>0.0</td>\n",
       "      <td>2</td>\n",
       "      <td>2.0</td>\n",
       "      <td>1</td>\n",
       "      <td>1124.048320</td>\n",
       "    </tr>\n",
       "  </tbody>\n",
       "</table>\n",
       "<p>2 rows × 24 columns</p>\n",
       "</div>"
      ],
      "text/plain": [
       "   job_name_data analyst  job_name_data engineer  job_name_data scientist  \\\n",
       "0                    0.0                     0.0                      1.0   \n",
       "1                    0.0                     0.0                      1.0   \n",
       "\n",
       "   lokasi_bali  lokasi_banten  lokasi_diy  lokasi_dki jakarta  \\\n",
       "0          0.0            0.0         0.0                 1.0   \n",
       "1          0.0            0.0         0.0                 1.0   \n",
       "\n",
       "   lokasi_jawa barat  lokasi_jawa timur  lokasi_kalimantan barat  ...  \\\n",
       "0                0.0                0.0                      0.0  ...   \n",
       "1                0.0                0.0                      0.0  ...   \n",
       "\n",
       "   industri_konstruksi  industri_konsultasi  industri_media  \\\n",
       "0                  0.0                  0.0             0.0   \n",
       "1                  0.0                  1.0             0.0   \n",
       "\n",
       "   industri_pemasaran & periklanan  \\\n",
       "0                              0.0   \n",
       "1                              0.0   \n",
       "\n",
       "   industri_teknologi informasi dan komunikasi  industri_transportasi  \\\n",
       "0                                          1.0                    0.0   \n",
       "1                                          0.0                    0.0   \n",
       "\n",
       "   tingkat_job  lama_pengalaman  ukuran_company  median_gaji  \n",
       "0            3              5.0               1  1272.252354  \n",
       "1            2              2.0               1  1124.048320  \n",
       "\n",
       "[2 rows x 24 columns]"
      ]
     },
     "execution_count": 99,
     "metadata": {},
     "output_type": "execute_result"
    }
   ],
   "source": [
    "data_smote.head(2)"
   ]
  },
  {
   "cell_type": "markdown",
   "metadata": {},
   "source": [
    "# K-Fold Cross Validation"
   ]
  },
  {
   "cell_type": "code",
   "execution_count": 100,
   "metadata": {},
   "outputs": [],
   "source": [
    "# Kalau pakai k-fold cross validation berarti langsung pakai semua data\n",
    "X = data_smote.drop(\"median_gaji\", axis = 1)\n",
    "y = data_smote[\"median_gaji\"]"
   ]
  },
  {
   "cell_type": "code",
   "execution_count": 101,
   "metadata": {},
   "outputs": [
    {
     "data": {
      "text/plain": [
       "0    1272.252354\n",
       "1    1124.048320\n",
       "2     974.437310\n",
       "3     786.936755\n",
       "4    1218.967861\n",
       "Name: median_gaji, dtype: float64"
      ]
     },
     "execution_count": 101,
     "metadata": {},
     "output_type": "execute_result"
    }
   ],
   "source": [
    "y.head()"
   ]
  },
  {
   "cell_type": "code",
   "execution_count": 102,
   "metadata": {},
   "outputs": [
    {
     "data": {
      "text/html": [
       "<div>\n",
       "<style scoped>\n",
       "    .dataframe tbody tr th:only-of-type {\n",
       "        vertical-align: middle;\n",
       "    }\n",
       "\n",
       "    .dataframe tbody tr th {\n",
       "        vertical-align: top;\n",
       "    }\n",
       "\n",
       "    .dataframe thead th {\n",
       "        text-align: right;\n",
       "    }\n",
       "</style>\n",
       "<table border=\"1\" class=\"dataframe\">\n",
       "  <thead>\n",
       "    <tr style=\"text-align: right;\">\n",
       "      <th></th>\n",
       "      <th>job_name_data analyst</th>\n",
       "      <th>job_name_data engineer</th>\n",
       "      <th>job_name_data scientist</th>\n",
       "      <th>lokasi_bali</th>\n",
       "      <th>lokasi_banten</th>\n",
       "      <th>lokasi_diy</th>\n",
       "      <th>lokasi_dki jakarta</th>\n",
       "      <th>lokasi_jawa barat</th>\n",
       "      <th>lokasi_jawa timur</th>\n",
       "      <th>lokasi_kalimantan barat</th>\n",
       "      <th>...</th>\n",
       "      <th>industri_keuangan</th>\n",
       "      <th>industri_konstruksi</th>\n",
       "      <th>industri_konsultasi</th>\n",
       "      <th>industri_media</th>\n",
       "      <th>industri_pemasaran &amp; periklanan</th>\n",
       "      <th>industri_teknologi informasi dan komunikasi</th>\n",
       "      <th>industri_transportasi</th>\n",
       "      <th>tingkat_job</th>\n",
       "      <th>lama_pengalaman</th>\n",
       "      <th>ukuran_company</th>\n",
       "    </tr>\n",
       "  </thead>\n",
       "  <tbody>\n",
       "    <tr>\n",
       "      <th>0</th>\n",
       "      <td>0.0</td>\n",
       "      <td>0.0</td>\n",
       "      <td>1.0</td>\n",
       "      <td>0.0</td>\n",
       "      <td>0.0</td>\n",
       "      <td>0.0</td>\n",
       "      <td>1.0</td>\n",
       "      <td>0.0</td>\n",
       "      <td>0.0</td>\n",
       "      <td>0.0</td>\n",
       "      <td>...</td>\n",
       "      <td>0.0</td>\n",
       "      <td>0.0</td>\n",
       "      <td>0.0</td>\n",
       "      <td>0.0</td>\n",
       "      <td>0.0</td>\n",
       "      <td>1.0</td>\n",
       "      <td>0.0</td>\n",
       "      <td>3</td>\n",
       "      <td>5.0</td>\n",
       "      <td>1</td>\n",
       "    </tr>\n",
       "    <tr>\n",
       "      <th>1</th>\n",
       "      <td>0.0</td>\n",
       "      <td>0.0</td>\n",
       "      <td>1.0</td>\n",
       "      <td>0.0</td>\n",
       "      <td>0.0</td>\n",
       "      <td>0.0</td>\n",
       "      <td>1.0</td>\n",
       "      <td>0.0</td>\n",
       "      <td>0.0</td>\n",
       "      <td>0.0</td>\n",
       "      <td>...</td>\n",
       "      <td>0.0</td>\n",
       "      <td>0.0</td>\n",
       "      <td>1.0</td>\n",
       "      <td>0.0</td>\n",
       "      <td>0.0</td>\n",
       "      <td>0.0</td>\n",
       "      <td>0.0</td>\n",
       "      <td>2</td>\n",
       "      <td>2.0</td>\n",
       "      <td>1</td>\n",
       "    </tr>\n",
       "  </tbody>\n",
       "</table>\n",
       "<p>2 rows × 23 columns</p>\n",
       "</div>"
      ],
      "text/plain": [
       "   job_name_data analyst  job_name_data engineer  job_name_data scientist  \\\n",
       "0                    0.0                     0.0                      1.0   \n",
       "1                    0.0                     0.0                      1.0   \n",
       "\n",
       "   lokasi_bali  lokasi_banten  lokasi_diy  lokasi_dki jakarta  \\\n",
       "0          0.0            0.0         0.0                 1.0   \n",
       "1          0.0            0.0         0.0                 1.0   \n",
       "\n",
       "   lokasi_jawa barat  lokasi_jawa timur  lokasi_kalimantan barat  ...  \\\n",
       "0                0.0                0.0                      0.0  ...   \n",
       "1                0.0                0.0                      0.0  ...   \n",
       "\n",
       "   industri_keuangan  industri_konstruksi  industri_konsultasi  \\\n",
       "0                0.0                  0.0                  0.0   \n",
       "1                0.0                  0.0                  1.0   \n",
       "\n",
       "   industri_media  industri_pemasaran & periklanan  \\\n",
       "0             0.0                              0.0   \n",
       "1             0.0                              0.0   \n",
       "\n",
       "   industri_teknologi informasi dan komunikasi  industri_transportasi  \\\n",
       "0                                          1.0                    0.0   \n",
       "1                                          0.0                    0.0   \n",
       "\n",
       "   tingkat_job  lama_pengalaman  ukuran_company  \n",
       "0            3              5.0               1  \n",
       "1            2              2.0               1  \n",
       "\n",
       "[2 rows x 23 columns]"
      ]
     },
     "execution_count": 102,
     "metadata": {},
     "output_type": "execute_result"
    }
   ],
   "source": [
    "X.head(2)"
   ]
  },
  {
   "cell_type": "markdown",
   "metadata": {},
   "source": [
    "# Modelling"
   ]
  },
  {
   "cell_type": "markdown",
   "metadata": {},
   "source": [
    "### Decision Tree"
   ]
  },
  {
   "cell_type": "code",
   "execution_count": 103,
   "metadata": {
    "scrolled": true
   },
   "outputs": [],
   "source": [
    "from sklearn.tree import DecisionTreeRegressor\n",
    "\n",
    "tree = DecisionTreeRegressor(random_state = 0)\n",
    "\n",
    "# PAKAI CROSS VAL\n",
    "from sklearn.model_selection import cross_val_score\n",
    "r2_tree = cross_val_score(estimator = tree, X = X, y = y, cv = 5)"
   ]
  },
  {
   "cell_type": "code",
   "execution_count": 104,
   "metadata": {},
   "outputs": [
    {
     "data": {
      "text/plain": [
       "0.5791693254696201"
      ]
     },
     "execution_count": 104,
     "metadata": {},
     "output_type": "execute_result"
    }
   ],
   "source": [
    "r2_tree.mean()"
   ]
  },
  {
   "cell_type": "code",
   "execution_count": 112,
   "metadata": {
    "scrolled": true
   },
   "outputs": [
    {
     "name": "stdout",
     "output_type": "stream",
     "text": [
      "Fitting 5 folds for each of 480 candidates, totalling 2400 fits\n"
     ]
    },
    {
     "data": {
      "text/html": [
       "<style>#sk-container-id-8 {color: black;}#sk-container-id-8 pre{padding: 0;}#sk-container-id-8 div.sk-toggleable {background-color: white;}#sk-container-id-8 label.sk-toggleable__label {cursor: pointer;display: block;width: 100%;margin-bottom: 0;padding: 0.3em;box-sizing: border-box;text-align: center;}#sk-container-id-8 label.sk-toggleable__label-arrow:before {content: \"▸\";float: left;margin-right: 0.25em;color: #696969;}#sk-container-id-8 label.sk-toggleable__label-arrow:hover:before {color: black;}#sk-container-id-8 div.sk-estimator:hover label.sk-toggleable__label-arrow:before {color: black;}#sk-container-id-8 div.sk-toggleable__content {max-height: 0;max-width: 0;overflow: hidden;text-align: left;background-color: #f0f8ff;}#sk-container-id-8 div.sk-toggleable__content pre {margin: 0.2em;color: black;border-radius: 0.25em;background-color: #f0f8ff;}#sk-container-id-8 input.sk-toggleable__control:checked~div.sk-toggleable__content {max-height: 200px;max-width: 100%;overflow: auto;}#sk-container-id-8 input.sk-toggleable__control:checked~label.sk-toggleable__label-arrow:before {content: \"▾\";}#sk-container-id-8 div.sk-estimator input.sk-toggleable__control:checked~label.sk-toggleable__label {background-color: #d4ebff;}#sk-container-id-8 div.sk-label input.sk-toggleable__control:checked~label.sk-toggleable__label {background-color: #d4ebff;}#sk-container-id-8 input.sk-hidden--visually {border: 0;clip: rect(1px 1px 1px 1px);clip: rect(1px, 1px, 1px, 1px);height: 1px;margin: -1px;overflow: hidden;padding: 0;position: absolute;width: 1px;}#sk-container-id-8 div.sk-estimator {font-family: monospace;background-color: #f0f8ff;border: 1px dotted black;border-radius: 0.25em;box-sizing: border-box;margin-bottom: 0.5em;}#sk-container-id-8 div.sk-estimator:hover {background-color: #d4ebff;}#sk-container-id-8 div.sk-parallel-item::after {content: \"\";width: 100%;border-bottom: 1px solid gray;flex-grow: 1;}#sk-container-id-8 div.sk-label:hover label.sk-toggleable__label {background-color: #d4ebff;}#sk-container-id-8 div.sk-serial::before {content: \"\";position: absolute;border-left: 1px solid gray;box-sizing: border-box;top: 0;bottom: 0;left: 50%;z-index: 0;}#sk-container-id-8 div.sk-serial {display: flex;flex-direction: column;align-items: center;background-color: white;padding-right: 0.2em;padding-left: 0.2em;position: relative;}#sk-container-id-8 div.sk-item {position: relative;z-index: 1;}#sk-container-id-8 div.sk-parallel {display: flex;align-items: stretch;justify-content: center;background-color: white;position: relative;}#sk-container-id-8 div.sk-item::before, #sk-container-id-8 div.sk-parallel-item::before {content: \"\";position: absolute;border-left: 1px solid gray;box-sizing: border-box;top: 0;bottom: 0;left: 50%;z-index: -1;}#sk-container-id-8 div.sk-parallel-item {display: flex;flex-direction: column;z-index: 1;position: relative;background-color: white;}#sk-container-id-8 div.sk-parallel-item:first-child::after {align-self: flex-end;width: 50%;}#sk-container-id-8 div.sk-parallel-item:last-child::after {align-self: flex-start;width: 50%;}#sk-container-id-8 div.sk-parallel-item:only-child::after {width: 0;}#sk-container-id-8 div.sk-dashed-wrapped {border: 1px dashed gray;margin: 0 0.4em 0.5em 0.4em;box-sizing: border-box;padding-bottom: 0.4em;background-color: white;}#sk-container-id-8 div.sk-label label {font-family: monospace;font-weight: bold;display: inline-block;line-height: 1.2em;}#sk-container-id-8 div.sk-label-container {text-align: center;}#sk-container-id-8 div.sk-container {/* jupyter's `normalize.less` sets `[hidden] { display: none; }` but bootstrap.min.css set `[hidden] { display: none !important; }` so we also need the `!important` here to be able to override the default hidden behavior on the sphinx rendered scikit-learn.org. See: https://github.com/scikit-learn/scikit-learn/issues/21755 */display: inline-block !important;position: relative;}#sk-container-id-8 div.sk-text-repr-fallback {display: none;}</style><div id=\"sk-container-id-8\" class=\"sk-top-container\"><div class=\"sk-text-repr-fallback\"><pre>GridSearchCV(cv=5, estimator=DecisionTreeRegressor(random_state=0), n_jobs=2,\n",
       "             param_grid={&#x27;criterion&#x27;: [&#x27;squared_error&#x27;, &#x27;friedman_mse&#x27;,\n",
       "                                       &#x27;absolute_error&#x27;],\n",
       "                         &#x27;max_depth&#x27;: [1, 2, 3, 4, 5, 6, 7, 8, 9, 10, 11, 12,\n",
       "                                       13, 14, 15, 16, 17, 18, 19, 20],\n",
       "                         &#x27;max_features&#x27;: [&#x27;sqrt&#x27;, &#x27;log2&#x27;],\n",
       "                         &#x27;min_samples_split&#x27;: [2, 3, 4, 5]},\n",
       "             verbose=1)</pre><b>In a Jupyter environment, please rerun this cell to show the HTML representation or trust the notebook. <br />On GitHub, the HTML representation is unable to render, please try loading this page with nbviewer.org.</b></div><div class=\"sk-container\" hidden><div class=\"sk-item sk-dashed-wrapped\"><div class=\"sk-label-container\"><div class=\"sk-label sk-toggleable\"><input class=\"sk-toggleable__control sk-hidden--visually\" id=\"sk-estimator-id-22\" type=\"checkbox\" ><label for=\"sk-estimator-id-22\" class=\"sk-toggleable__label sk-toggleable__label-arrow\">GridSearchCV</label><div class=\"sk-toggleable__content\"><pre>GridSearchCV(cv=5, estimator=DecisionTreeRegressor(random_state=0), n_jobs=2,\n",
       "             param_grid={&#x27;criterion&#x27;: [&#x27;squared_error&#x27;, &#x27;friedman_mse&#x27;,\n",
       "                                       &#x27;absolute_error&#x27;],\n",
       "                         &#x27;max_depth&#x27;: [1, 2, 3, 4, 5, 6, 7, 8, 9, 10, 11, 12,\n",
       "                                       13, 14, 15, 16, 17, 18, 19, 20],\n",
       "                         &#x27;max_features&#x27;: [&#x27;sqrt&#x27;, &#x27;log2&#x27;],\n",
       "                         &#x27;min_samples_split&#x27;: [2, 3, 4, 5]},\n",
       "             verbose=1)</pre></div></div></div><div class=\"sk-parallel\"><div class=\"sk-parallel-item\"><div class=\"sk-item\"><div class=\"sk-label-container\"><div class=\"sk-label sk-toggleable\"><input class=\"sk-toggleable__control sk-hidden--visually\" id=\"sk-estimator-id-23\" type=\"checkbox\" ><label for=\"sk-estimator-id-23\" class=\"sk-toggleable__label sk-toggleable__label-arrow\">estimator: DecisionTreeRegressor</label><div class=\"sk-toggleable__content\"><pre>DecisionTreeRegressor(random_state=0)</pre></div></div></div><div class=\"sk-serial\"><div class=\"sk-item\"><div class=\"sk-estimator sk-toggleable\"><input class=\"sk-toggleable__control sk-hidden--visually\" id=\"sk-estimator-id-24\" type=\"checkbox\" ><label for=\"sk-estimator-id-24\" class=\"sk-toggleable__label sk-toggleable__label-arrow\">DecisionTreeRegressor</label><div class=\"sk-toggleable__content\"><pre>DecisionTreeRegressor(random_state=0)</pre></div></div></div></div></div></div></div></div></div></div>"
      ],
      "text/plain": [
       "GridSearchCV(cv=5, estimator=DecisionTreeRegressor(random_state=0), n_jobs=2,\n",
       "             param_grid={'criterion': ['squared_error', 'friedman_mse',\n",
       "                                       'absolute_error'],\n",
       "                         'max_depth': [1, 2, 3, 4, 5, 6, 7, 8, 9, 10, 11, 12,\n",
       "                                       13, 14, 15, 16, 17, 18, 19, 20],\n",
       "                         'max_features': ['sqrt', 'log2'],\n",
       "                         'min_samples_split': [2, 3, 4, 5]},\n",
       "             verbose=1)"
      ]
     },
     "execution_count": 112,
     "metadata": {},
     "output_type": "execute_result"
    }
   ],
   "source": [
    "from sklearn.model_selection import GridSearchCV\n",
    "\n",
    "tree_x = DecisionTreeRegressor(random_state = 0)\n",
    "param_grid = {\"max_depth\": list(range(1, 21)), \n",
    "              \"criterion\": [\"squared_error\", \"friedman_mse\", \"absolute_error\"], \n",
    "              \"max_features\": [\"sqrt\", \"log2\"], \n",
    "              \"min_samples_split\": list(range(2, 6))}\n",
    "\n",
    "grid_search_x = GridSearchCV(tree_x, param_grid, n_jobs = 2, verbose = 1, cv = 5)\n",
    "\n",
    "grid_search_x.fit(X, y)"
   ]
  },
  {
   "cell_type": "code",
   "execution_count": 113,
   "metadata": {},
   "outputs": [
    {
     "data": {
      "text/plain": [
       "{'criterion': 'squared_error',\n",
       " 'max_depth': 15,\n",
       " 'max_features': 'sqrt',\n",
       " 'min_samples_split': 2}"
      ]
     },
     "execution_count": 113,
     "metadata": {},
     "output_type": "execute_result"
    }
   ],
   "source": [
    "grid_search_x.best_params_"
   ]
  },
  {
   "cell_type": "code",
   "execution_count": 114,
   "metadata": {},
   "outputs": [
    {
     "data": {
      "text/plain": [
       "0.6829171190426447"
      ]
     },
     "execution_count": 114,
     "metadata": {},
     "output_type": "execute_result"
    }
   ],
   "source": [
    "# Ini nilai score test (R2)-nya\n",
    "grid_search_x.best_score_ # Mean cross-validated score of the best_estimator"
   ]
  },
  {
   "cell_type": "code",
   "execution_count": 115,
   "metadata": {
    "scrolled": true
   },
   "outputs": [],
   "source": [
    "# COBA BUAT MODEL BERDASARKAN \"best_params_\"\n",
    "tree_x1 = DecisionTreeRegressor(random_state = 0, \n",
    "                                criterion = 'squared_error',\n",
    "                                max_depth = 15,\n",
    "                                max_features = 'sqrt',\n",
    "                                min_samples_split = 2)"
   ]
  },
  {
   "cell_type": "code",
   "execution_count": 116,
   "metadata": {},
   "outputs": [
    {
     "data": {
      "text/html": [
       "<style>#sk-container-id-9 {color: black;}#sk-container-id-9 pre{padding: 0;}#sk-container-id-9 div.sk-toggleable {background-color: white;}#sk-container-id-9 label.sk-toggleable__label {cursor: pointer;display: block;width: 100%;margin-bottom: 0;padding: 0.3em;box-sizing: border-box;text-align: center;}#sk-container-id-9 label.sk-toggleable__label-arrow:before {content: \"▸\";float: left;margin-right: 0.25em;color: #696969;}#sk-container-id-9 label.sk-toggleable__label-arrow:hover:before {color: black;}#sk-container-id-9 div.sk-estimator:hover label.sk-toggleable__label-arrow:before {color: black;}#sk-container-id-9 div.sk-toggleable__content {max-height: 0;max-width: 0;overflow: hidden;text-align: left;background-color: #f0f8ff;}#sk-container-id-9 div.sk-toggleable__content pre {margin: 0.2em;color: black;border-radius: 0.25em;background-color: #f0f8ff;}#sk-container-id-9 input.sk-toggleable__control:checked~div.sk-toggleable__content {max-height: 200px;max-width: 100%;overflow: auto;}#sk-container-id-9 input.sk-toggleable__control:checked~label.sk-toggleable__label-arrow:before {content: \"▾\";}#sk-container-id-9 div.sk-estimator input.sk-toggleable__control:checked~label.sk-toggleable__label {background-color: #d4ebff;}#sk-container-id-9 div.sk-label input.sk-toggleable__control:checked~label.sk-toggleable__label {background-color: #d4ebff;}#sk-container-id-9 input.sk-hidden--visually {border: 0;clip: rect(1px 1px 1px 1px);clip: rect(1px, 1px, 1px, 1px);height: 1px;margin: -1px;overflow: hidden;padding: 0;position: absolute;width: 1px;}#sk-container-id-9 div.sk-estimator {font-family: monospace;background-color: #f0f8ff;border: 1px dotted black;border-radius: 0.25em;box-sizing: border-box;margin-bottom: 0.5em;}#sk-container-id-9 div.sk-estimator:hover {background-color: #d4ebff;}#sk-container-id-9 div.sk-parallel-item::after {content: \"\";width: 100%;border-bottom: 1px solid gray;flex-grow: 1;}#sk-container-id-9 div.sk-label:hover label.sk-toggleable__label {background-color: #d4ebff;}#sk-container-id-9 div.sk-serial::before {content: \"\";position: absolute;border-left: 1px solid gray;box-sizing: border-box;top: 0;bottom: 0;left: 50%;z-index: 0;}#sk-container-id-9 div.sk-serial {display: flex;flex-direction: column;align-items: center;background-color: white;padding-right: 0.2em;padding-left: 0.2em;position: relative;}#sk-container-id-9 div.sk-item {position: relative;z-index: 1;}#sk-container-id-9 div.sk-parallel {display: flex;align-items: stretch;justify-content: center;background-color: white;position: relative;}#sk-container-id-9 div.sk-item::before, #sk-container-id-9 div.sk-parallel-item::before {content: \"\";position: absolute;border-left: 1px solid gray;box-sizing: border-box;top: 0;bottom: 0;left: 50%;z-index: -1;}#sk-container-id-9 div.sk-parallel-item {display: flex;flex-direction: column;z-index: 1;position: relative;background-color: white;}#sk-container-id-9 div.sk-parallel-item:first-child::after {align-self: flex-end;width: 50%;}#sk-container-id-9 div.sk-parallel-item:last-child::after {align-self: flex-start;width: 50%;}#sk-container-id-9 div.sk-parallel-item:only-child::after {width: 0;}#sk-container-id-9 div.sk-dashed-wrapped {border: 1px dashed gray;margin: 0 0.4em 0.5em 0.4em;box-sizing: border-box;padding-bottom: 0.4em;background-color: white;}#sk-container-id-9 div.sk-label label {font-family: monospace;font-weight: bold;display: inline-block;line-height: 1.2em;}#sk-container-id-9 div.sk-label-container {text-align: center;}#sk-container-id-9 div.sk-container {/* jupyter's `normalize.less` sets `[hidden] { display: none; }` but bootstrap.min.css set `[hidden] { display: none !important; }` so we also need the `!important` here to be able to override the default hidden behavior on the sphinx rendered scikit-learn.org. See: https://github.com/scikit-learn/scikit-learn/issues/21755 */display: inline-block !important;position: relative;}#sk-container-id-9 div.sk-text-repr-fallback {display: none;}</style><div id=\"sk-container-id-9\" class=\"sk-top-container\"><div class=\"sk-text-repr-fallback\"><pre>DecisionTreeRegressor(max_depth=15, max_features=&#x27;sqrt&#x27;, random_state=0)</pre><b>In a Jupyter environment, please rerun this cell to show the HTML representation or trust the notebook. <br />On GitHub, the HTML representation is unable to render, please try loading this page with nbviewer.org.</b></div><div class=\"sk-container\" hidden><div class=\"sk-item\"><div class=\"sk-estimator sk-toggleable\"><input class=\"sk-toggleable__control sk-hidden--visually\" id=\"sk-estimator-id-25\" type=\"checkbox\" checked><label for=\"sk-estimator-id-25\" class=\"sk-toggleable__label sk-toggleable__label-arrow\">DecisionTreeRegressor</label><div class=\"sk-toggleable__content\"><pre>DecisionTreeRegressor(max_depth=15, max_features=&#x27;sqrt&#x27;, random_state=0)</pre></div></div></div></div></div>"
      ],
      "text/plain": [
       "DecisionTreeRegressor(max_depth=15, max_features='sqrt', random_state=0)"
      ]
     },
     "execution_count": 116,
     "metadata": {},
     "output_type": "execute_result"
    }
   ],
   "source": [
    "tree_x1.fit(X, y)"
   ]
  },
  {
   "cell_type": "code",
   "execution_count": 117,
   "metadata": {
    "scrolled": true
   },
   "outputs": [],
   "source": [
    "# PAKAI CROSS VAL\n",
    "from sklearn.model_selection import cross_val_score\n",
    "from numpy import mean\n",
    "from numpy import absolute\n",
    "\n",
    "r2_tree_x1 = cross_val_score(estimator = tree_x1, X = X, y = y, cv = 5, scoring  ='r2')\n",
    "nrmse_tree_x1 = cross_val_score(estimator = tree_x1, X = X, y = y, cv = 5, scoring  ='neg_root_mean_squared_error')\n",
    "nmape_tree_x1 = cross_val_score(estimator = tree_x1, X = X, y = y, cv = 5, scoring  ='neg_mean_absolute_percentage_error')\n",
    "\n",
    "r2_tree_x1 = mean(r2_tree_x1)\n",
    "rmse_tree_x1 = mean(absolute(nrmse_tree_x1))\n",
    "mape_tree_x1 = mean(absolute(nmape_tree_x1))"
   ]
  },
  {
   "cell_type": "code",
   "execution_count": 118,
   "metadata": {},
   "outputs": [
    {
     "name": "stdout",
     "output_type": "stream",
     "text": [
      "R2 TREE: 0.6829171190426447\n",
      "RMSE TREE: 144.409521250045\n",
      "MAPE TREE: 0.1256892956835243\n"
     ]
    }
   ],
   "source": [
    "print(\"R2 TREE:\", r2_tree_x1)\n",
    "print(\"RMSE TREE:\", rmse_tree_x1)\n",
    "print(\"MAPE TREE:\", mape_tree_x1)"
   ]
  },
  {
   "cell_type": "code",
   "execution_count": 119,
   "metadata": {},
   "outputs": [],
   "source": [
    "# grid_search ini itu sebagai modelnya\n",
    "# Simpan model\n",
    "\n",
    "import pickle\n",
    "with open(\"model_decisiontree_smote.pkl\", \"wb\") as f:\n",
    "    pickle.dump(tree_x1, f)"
   ]
  },
  {
   "cell_type": "markdown",
   "metadata": {},
   "source": [
    "#### Coba Prediksi Menggunakan Model yang Sudah Disimpan"
   ]
  },
  {
   "cell_type": "code",
   "execution_count": 120,
   "metadata": {},
   "outputs": [],
   "source": [
    "# Prediksi\n",
    "import pickle\n",
    "\n",
    "with open(\"model_decisiontree_smote.pkl\", \"rb\") as f:\n",
    "    model = pickle.load(f)"
   ]
  },
  {
   "cell_type": "code",
   "execution_count": 121,
   "metadata": {},
   "outputs": [],
   "source": [
    "kolom = [\"job_name_data analyst\", \"job_name_data engineer\", \"job_name_data scientist\", \n",
    "         \"lokasi_bali\", \"lokasi_banten\", \"lokasi_diy\", \"lokasi_dki jakarta\", \n",
    "         \"lokasi_jawa barat\", \"lokasi_jawa timur\", \"lokasi_kalimantan barat\", \n",
    "         \"industri_acara\", \"industri_ekonomi\", \"industri_human resources\", \"industri_keuangan\", \n",
    "         \"industri_konstruksi\", \"industri_konsultasi\", \"industri_media\", \n",
    "         \"industri_pemasaran & periklanan\", \"industri_teknologi informasi dan komunikasi\", \"industri_transportasi\",\n",
    "         \"tingkat_job\", \"lama_pengalaman\", \"ukuran_company\"]\n",
    "\n",
    "nilai = [[1, 0, 0, # \"job_name\" = \"data analyst\"\n",
    "         1, 0, 0, 0, 0, 0, 0, # \"lokasi\" = \"bali\"\n",
    "         1, 0, 0, 0, 0, 0, 0, 0, 0, 0, # \"industri\" = \"acara\"\n",
    "         1, 0, 0]] # \"tingkat_job\" = \"tingkat pemula\", \"lama_pengalaman\" = 0, \"ukuran_company\" = \"1-50 pekerja\""
   ]
  },
  {
   "cell_type": "code",
   "execution_count": 122,
   "metadata": {},
   "outputs": [
    {
     "data": {
      "text/plain": [
       "Index(['job_name_data analyst', 'job_name_data engineer',\n",
       "       'job_name_data scientist', 'lokasi_bali', 'lokasi_banten', 'lokasi_diy',\n",
       "       'lokasi_dki jakarta', 'lokasi_jawa barat', 'lokasi_jawa timur',\n",
       "       'lokasi_kalimantan barat', 'industri_acara', 'industri_ekonomi',\n",
       "       'industri_human resources', 'industri_keuangan', 'industri_konstruksi',\n",
       "       'industri_konsultasi', 'industri_media',\n",
       "       'industri_pemasaran & periklanan',\n",
       "       'industri_teknologi informasi dan komunikasi', 'industri_transportasi',\n",
       "       'tingkat_job', 'lama_pengalaman', 'ukuran_company'],\n",
       "      dtype='object')"
      ]
     },
     "execution_count": 122,
     "metadata": {},
     "output_type": "execute_result"
    }
   ],
   "source": [
    "X.columns"
   ]
  },
  {
   "cell_type": "code",
   "execution_count": 123,
   "metadata": {},
   "outputs": [
    {
     "data": {
      "text/html": [
       "<div>\n",
       "<style scoped>\n",
       "    .dataframe tbody tr th:only-of-type {\n",
       "        vertical-align: middle;\n",
       "    }\n",
       "\n",
       "    .dataframe tbody tr th {\n",
       "        vertical-align: top;\n",
       "    }\n",
       "\n",
       "    .dataframe thead th {\n",
       "        text-align: right;\n",
       "    }\n",
       "</style>\n",
       "<table border=\"1\" class=\"dataframe\">\n",
       "  <thead>\n",
       "    <tr style=\"text-align: right;\">\n",
       "      <th></th>\n",
       "      <th>job_name_data analyst</th>\n",
       "      <th>job_name_data engineer</th>\n",
       "      <th>job_name_data scientist</th>\n",
       "      <th>lokasi_bali</th>\n",
       "      <th>lokasi_banten</th>\n",
       "      <th>lokasi_diy</th>\n",
       "      <th>lokasi_dki jakarta</th>\n",
       "      <th>lokasi_jawa barat</th>\n",
       "      <th>lokasi_jawa timur</th>\n",
       "      <th>lokasi_kalimantan barat</th>\n",
       "      <th>...</th>\n",
       "      <th>industri_keuangan</th>\n",
       "      <th>industri_konstruksi</th>\n",
       "      <th>industri_konsultasi</th>\n",
       "      <th>industri_media</th>\n",
       "      <th>industri_pemasaran &amp; periklanan</th>\n",
       "      <th>industri_teknologi informasi dan komunikasi</th>\n",
       "      <th>industri_transportasi</th>\n",
       "      <th>tingkat_job</th>\n",
       "      <th>lama_pengalaman</th>\n",
       "      <th>ukuran_company</th>\n",
       "    </tr>\n",
       "  </thead>\n",
       "  <tbody>\n",
       "    <tr>\n",
       "      <th>0</th>\n",
       "      <td>1</td>\n",
       "      <td>0</td>\n",
       "      <td>0</td>\n",
       "      <td>1</td>\n",
       "      <td>0</td>\n",
       "      <td>0</td>\n",
       "      <td>0</td>\n",
       "      <td>0</td>\n",
       "      <td>0</td>\n",
       "      <td>0</td>\n",
       "      <td>...</td>\n",
       "      <td>0</td>\n",
       "      <td>0</td>\n",
       "      <td>0</td>\n",
       "      <td>0</td>\n",
       "      <td>0</td>\n",
       "      <td>0</td>\n",
       "      <td>0</td>\n",
       "      <td>1</td>\n",
       "      <td>0</td>\n",
       "      <td>0</td>\n",
       "    </tr>\n",
       "  </tbody>\n",
       "</table>\n",
       "<p>1 rows × 23 columns</p>\n",
       "</div>"
      ],
      "text/plain": [
       "   job_name_data analyst  job_name_data engineer  job_name_data scientist  \\\n",
       "0                      1                       0                        0   \n",
       "\n",
       "   lokasi_bali  lokasi_banten  lokasi_diy  lokasi_dki jakarta  \\\n",
       "0            1              0           0                   0   \n",
       "\n",
       "   lokasi_jawa barat  lokasi_jawa timur  lokasi_kalimantan barat  ...  \\\n",
       "0                  0                  0                        0  ...   \n",
       "\n",
       "   industri_keuangan  industri_konstruksi  industri_konsultasi  \\\n",
       "0                  0                    0                    0   \n",
       "\n",
       "   industri_media  industri_pemasaran & periklanan  \\\n",
       "0               0                                0   \n",
       "\n",
       "   industri_teknologi informasi dan komunikasi  industri_transportasi  \\\n",
       "0                                            0                      0   \n",
       "\n",
       "   tingkat_job  lama_pengalaman  ukuran_company  \n",
       "0            1                0               0  \n",
       "\n",
       "[1 rows x 23 columns]"
      ]
     },
     "execution_count": 123,
     "metadata": {},
     "output_type": "execute_result"
    }
   ],
   "source": [
    "import pandas as pd\n",
    "\n",
    "coba_test = pd.DataFrame(nilai, columns = kolom)\n",
    "coba_test"
   ]
  },
  {
   "cell_type": "code",
   "execution_count": 124,
   "metadata": {
    "scrolled": true
   },
   "outputs": [
    {
     "data": {
      "text/plain": [
       "625.6206171009436"
      ]
     },
     "execution_count": 124,
     "metadata": {},
     "output_type": "execute_result"
    }
   ],
   "source": [
    "# Predict-nya harus bentuk data frame (masih dalam bentuk transformasi Box-Cox)\n",
    "hasil_pred = float(model.predict(coba_test))\n",
    "hasil_pred"
   ]
  },
  {
   "cell_type": "code",
   "execution_count": 125,
   "metadata": {},
   "outputs": [],
   "source": [
    "#nilai_lambda"
   ]
  },
  {
   "cell_type": "code",
   "execution_count": 126,
   "metadata": {},
   "outputs": [],
   "source": [
    "nilai_lambda = 0.3624440881025335"
   ]
  },
  {
   "cell_type": "code",
   "execution_count": 127,
   "metadata": {},
   "outputs": [
    {
     "data": {
      "text/plain": [
       "3194110"
      ]
     },
     "execution_count": 127,
     "metadata": {},
     "output_type": "execute_result"
    }
   ],
   "source": [
    "# Kembalikan ke nilai asli\n",
    "nilai_asli = round(((hasil_pred * nilai_lambda) + 1) ** (1/float(nilai_lambda)))\n",
    "nilai_asli"
   ]
  },
  {
   "cell_type": "code",
   "execution_count": null,
   "metadata": {},
   "outputs": [],
   "source": [
    "# Heroku -> https://prediksi-gaji-profesi-data.herokuapp.com/"
   ]
  },
  {
   "cell_type": "markdown",
   "metadata": {},
   "source": [
    "#### Menampilkan Grafik Decision Tree"
   ]
  },
  {
   "cell_type": "code",
   "execution_count": null,
   "metadata": {},
   "outputs": [],
   "source": [
    "model"
   ]
  },
  {
   "cell_type": "code",
   "execution_count": null,
   "metadata": {},
   "outputs": [],
   "source": [
    "from sklearn import tree"
   ]
  },
  {
   "cell_type": "code",
   "execution_count": null,
   "metadata": {
    "scrolled": true
   },
   "outputs": [],
   "source": [
    "fig = plt.figure(figsize = (25, 20))\n",
    "_ = tree.plot_tree(model, feature_names = X.columns, filled = True)"
   ]
  },
  {
   "cell_type": "code",
   "execution_count": null,
   "metadata": {},
   "outputs": [],
   "source": [
    "fig.savefig(\"grafik decison tree (akhir) REVISI.png\")"
   ]
  },
  {
   "cell_type": "code",
   "execution_count": null,
   "metadata": {
    "scrolled": true
   },
   "outputs": [],
   "source": [
    "text_representation = tree.export_text(model, feature_names = list(X.columns), max_depth = 3)\n",
    "print(text_representation)"
   ]
  },
  {
   "cell_type": "code",
   "execution_count": null,
   "metadata": {},
   "outputs": [],
   "source": []
  }
 ],
 "metadata": {
  "kernelspec": {
   "display_name": "Python 3 (ipykernel)",
   "language": "python",
   "name": "python3"
  },
  "language_info": {
   "codemirror_mode": {
    "name": "ipython",
    "version": 3
   },
   "file_extension": ".py",
   "mimetype": "text/x-python",
   "name": "python",
   "nbconvert_exporter": "python",
   "pygments_lexer": "ipython3",
   "version": "3.11.4"
  }
 },
 "nbformat": 4,
 "nbformat_minor": 4
}
