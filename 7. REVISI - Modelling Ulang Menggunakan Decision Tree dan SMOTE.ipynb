{
 "cells": [
  {
   "cell_type": "markdown",
   "metadata": {},
   "source": [
    "# Modelling Ulang Menggunakan Random Forest dan SMOTE"
   ]
  },
  {
   "cell_type": "code",
   "execution_count": null,
   "metadata": {},
   "outputs": [],
   "source": [
    "import pandas as pd\n",
    "import numpy as np\n",
    "import json\n",
    "import matplotlib.pyplot as plt"
   ]
  },
  {
   "cell_type": "code",
   "execution_count": null,
   "metadata": {
    "scrolled": true
   },
   "outputs": [],
   "source": [
    "data = pd.read_csv(\"Data Gabungan dari Linkedin dan Jobstreet (3 Profesi).csv\")\n",
    "data.tail()"
   ]
  },
  {
   "cell_type": "code",
   "execution_count": null,
   "metadata": {},
   "outputs": [],
   "source": [
    "data.info()"
   ]
  },
  {
   "cell_type": "code",
   "execution_count": null,
   "metadata": {
    "scrolled": true
   },
   "outputs": [],
   "source": [
    "def summarize_features(df):\n",
    "    # first column will be data types of each feature\n",
    "    summary = pd.DataFrame(df.dtypes, columns = ['dtypes'])\n",
    "    summary = summary.reset_index()\n",
    "    # how many missing values in each feature\n",
    "    summary['Missing'] = df.isnull().sum().values\n",
    "    # how many unique values in each feature (cardinality indicator)\n",
    "    summary['Uniques'] = df.nunique().values\n",
    "\n",
    "    return summary\n",
    "\n",
    "summarize_features(data)"
   ]
  },
  {
   "cell_type": "code",
   "execution_count": null,
   "metadata": {},
   "outputs": [],
   "source": [
    "len(data)"
   ]
  },
  {
   "cell_type": "code",
   "execution_count": null,
   "metadata": {},
   "outputs": [],
   "source": [
    "data.drop([\"company\", \"gaji\", \"sumber\"], axis = 1, inplace = True)"
   ]
  },
  {
   "cell_type": "code",
   "execution_count": null,
   "metadata": {},
   "outputs": [],
   "source": [
    "data.columns"
   ]
  },
  {
   "cell_type": "code",
   "execution_count": null,
   "metadata": {},
   "outputs": [],
   "source": [
    "# subset -> Define in which columns to look for missing values\n",
    "\n",
    "data.dropna(subset = [\"median_gaji\"], inplace = True)"
   ]
  },
  {
   "cell_type": "code",
   "execution_count": null,
   "metadata": {},
   "outputs": [],
   "source": [
    "data.head(2)"
   ]
  },
  {
   "cell_type": "code",
   "execution_count": null,
   "metadata": {},
   "outputs": [],
   "source": [
    "data.reset_index(drop = True, inplace = True)"
   ]
  },
  {
   "cell_type": "code",
   "execution_count": null,
   "metadata": {},
   "outputs": [],
   "source": [
    "data.head(2)"
   ]
  },
  {
   "cell_type": "code",
   "execution_count": null,
   "metadata": {},
   "outputs": [],
   "source": [
    "len(data)"
   ]
  },
  {
   "cell_type": "code",
   "execution_count": null,
   "metadata": {},
   "outputs": [],
   "source": [
    "data.groupby([\"job_name\"]).size()"
   ]
  },
  {
   "cell_type": "code",
   "execution_count": null,
   "metadata": {},
   "outputs": [],
   "source": [
    "summarize_features(data)"
   ]
  },
  {
   "cell_type": "code",
   "execution_count": null,
   "metadata": {},
   "outputs": [],
   "source": [
    "data_awal = data.copy()"
   ]
  },
  {
   "cell_type": "code",
   "execution_count": null,
   "metadata": {
    "scrolled": true
   },
   "outputs": [],
   "source": [
    "len(data_awal) # \"data_awal\" yang disimpan aja, \"data\" dipakai di bawah2nya"
   ]
  },
  {
   "cell_type": "code",
   "execution_count": null,
   "metadata": {},
   "outputs": [],
   "source": [
    "data_awal.rename(columns = {\"job_name\": \"Nama Profesi Data\",\n",
    "                       \"lokasi\": \"Lokasi Perusahaan\", \n",
    "                       \"tingkat_job\": \"Tingkat Pekerjaan\", \n",
    "                       \"lama_pengalaman\": \"Lama Pengalaman\",\n",
    "                       \"jenis_job\": \"Jenis Pekerjaan\", \n",
    "                       \"ukuran_company\": \"Ukuran Perusahaan\", \n",
    "                       \"industri\": \"Industri\", \n",
    "                       \"median_gaji\": \"Gaji\"}, inplace=True)"
   ]
  },
  {
   "cell_type": "code",
   "execution_count": null,
   "metadata": {
    "scrolled": true
   },
   "outputs": [],
   "source": [
    "#!pip install dython"
   ]
  },
  {
   "cell_type": "code",
   "execution_count": null,
   "metadata": {
    "scrolled": true
   },
   "outputs": [],
   "source": [
    "# KORELASI\n",
    "from dython import nominal\n",
    "nominal.associations(data_awal, \n",
    "                     nominal_columns = [\"Nama Profesi Data\", \"Lokasi Perusahaan\", \"Tingkat Pekerjaan\", \"Jenis Pekerjaan\", \"Ukuran Perusahaan\", \"Industri\"], \n",
    "                     numerical_columns = [\"Lama Pengalaman\", \"Gaji\"],\n",
    "                     figsize = (13, 12), \n",
    "                     title = \"Korelasi Antar Variabel\",\n",
    "                     filename = \"Hasil Korelasi Dython\")\n",
    "\n",
    "# Coba ambil yang korelasinya >0,25 dan yang masuk akal\n",
    "# Coba variabel \"jenis_job\" dihapus saja"
   ]
  },
  {
   "cell_type": "code",
   "execution_count": null,
   "metadata": {},
   "outputs": [],
   "source": [
    "data.drop([\"jenis_job\"], axis = 1, inplace = True)"
   ]
  },
  {
   "cell_type": "code",
   "execution_count": null,
   "metadata": {},
   "outputs": [],
   "source": [
    "summarize_features(data)"
   ]
  },
  {
   "cell_type": "markdown",
   "metadata": {},
   "source": [
    "# Handling Missing Value"
   ]
  },
  {
   "cell_type": "markdown",
   "metadata": {},
   "source": [
    "### 1. Menangani Missing Value di \"ukuran_company\""
   ]
  },
  {
   "cell_type": "code",
   "execution_count": null,
   "metadata": {},
   "outputs": [],
   "source": [
    "# Coba berdasarkan variabel -> \"job_name\"\n",
    "\n",
    "import statistics\n",
    "\n",
    "count_ukuran_company1 = data.groupby([\"job_name\", \"ukuran_company\"])[\"ukuran_company\"].count()\n",
    "mode_ukuran_company1 = data[data[\"ukuran_company\"].notna()].groupby([\"job_name\"])[\"ukuran_company\"].apply(statistics.mode)\n",
    "len(mode_ukuran_company1)"
   ]
  },
  {
   "cell_type": "code",
   "execution_count": null,
   "metadata": {},
   "outputs": [],
   "source": [
    "count_ukuran_company1"
   ]
  },
  {
   "cell_type": "code",
   "execution_count": null,
   "metadata": {},
   "outputs": [],
   "source": [
    "mode_ukuran_company1"
   ]
  },
  {
   "cell_type": "code",
   "execution_count": null,
   "metadata": {},
   "outputs": [],
   "source": [
    "mode_ukuran_company1.values"
   ]
  },
  {
   "cell_type": "code",
   "execution_count": null,
   "metadata": {},
   "outputs": [],
   "source": [
    "dict_group1a = {}\n",
    "\n",
    "for indeks in mode_ukuran_company1.index:    \n",
    "    group1a = {indeks: mode_ukuran_company1[indeks]}\n",
    "    \n",
    "    dict_group1a.update(group1a)"
   ]
  },
  {
   "cell_type": "code",
   "execution_count": null,
   "metadata": {},
   "outputs": [],
   "source": [
    "missing_ukuran_company1 = data[pd.isna(data[\"ukuran_company\"])]\n",
    "\n",
    "for i in missing_ukuran_company1.index:\n",
    "    for j in dict_group1a.keys():\n",
    "        data_asli = (data[\"job_name\"][i])\n",
    "        \n",
    "        if data_asli == j:\n",
    "            data[\"ukuran_company\"][i] = dict_group1a[j]"
   ]
  },
  {
   "cell_type": "code",
   "execution_count": null,
   "metadata": {},
   "outputs": [],
   "source": [
    "pd.isna(data).sum()"
   ]
  },
  {
   "cell_type": "markdown",
   "metadata": {},
   "source": [
    "### 2. Menangani Missing Value di \"industri\""
   ]
  },
  {
   "cell_type": "code",
   "execution_count": null,
   "metadata": {},
   "outputs": [],
   "source": [
    "# Coba berdasarkan variabel -> \"job_name\"\n",
    "\n",
    "count_industri1 = data.groupby([\"job_name\", \"industri\"])[\"industri\"].count() # Hasilnya adalah banyaknya data yang tidak missing\n",
    "mode_industri1 = data[data[\"industri\"].notna()].groupby([\"job_name\"])[\"industri\"].apply(statistics.mode) # Pakainya modus karena data kategorik\n",
    "len(mode_industri1)"
   ]
  },
  {
   "cell_type": "code",
   "execution_count": null,
   "metadata": {},
   "outputs": [],
   "source": [
    "count_industri1"
   ]
  },
  {
   "cell_type": "code",
   "execution_count": null,
   "metadata": {},
   "outputs": [],
   "source": [
    "mode_industri1 \n",
    "\n",
    "# Sama semua sehingga ada yang akan diambil nilai modus kedua\n",
    "# \"data analyst\" pakai yang industri \"konsultasi\""
   ]
  },
  {
   "cell_type": "code",
   "execution_count": null,
   "metadata": {},
   "outputs": [],
   "source": [
    "# Coba impute menggunakan modus yang lain\n",
    "impute_industri = {\"data analyst\": \"konsultasi\", \n",
    "                   \"data engineer\": \"teknologi informasi dan komunikasi\", \n",
    "                   \"data scientist\": \"teknologi informasi dan komunikasi\"}\n",
    "\n",
    "missing_industri1 = data[pd.isna(data[\"industri\"])]\n",
    "\n",
    "for i in missing_industri1.index:\n",
    "    for j in impute_industri.keys():\n",
    "        data_asli = (data[\"job_name\"][i])\n",
    "        \n",
    "        if data_asli == j:\n",
    "            data[\"industri\"][i] = impute_industri[j]"
   ]
  },
  {
   "cell_type": "code",
   "execution_count": null,
   "metadata": {
    "scrolled": false
   },
   "outputs": [],
   "source": [
    "pd.isna(data).sum()"
   ]
  },
  {
   "cell_type": "markdown",
   "metadata": {},
   "source": [
    "### 3. Menangani Missing Value di \"lama_pengalaman\""
   ]
  },
  {
   "cell_type": "code",
   "execution_count": null,
   "metadata": {},
   "outputs": [],
   "source": [
    "data[\"lama_pengalaman\"].value_counts()"
   ]
  },
  {
   "cell_type": "code",
   "execution_count": null,
   "metadata": {},
   "outputs": [],
   "source": [
    "filtered_lama_pengalaman = data[\"lama_pengalaman\"][~np.isnan(data[\"lama_pengalaman\"])]\n",
    "\n",
    "plt.boxplot(filtered_lama_pengalaman, meanline = True, showmeans = True)\n",
    "plt.title(\"Boxplot Lama Pengalaman\")\n",
    "plt.ylabel(\"Lama Pengalaman (Tahun)\")\n",
    "\n",
    "#plt.savefig(\"1. Boxplot Lama Pengalaman (Untuk Handling Missing Value) REVISI.png\")\n",
    "\n",
    "plt.show()"
   ]
  },
  {
   "cell_type": "code",
   "execution_count": null,
   "metadata": {
    "scrolled": true
   },
   "outputs": [],
   "source": [
    "import seaborn as sns\n",
    "sns.distplot(filtered_lama_pengalaman, hist = False, kde = True, axlabel = \"Lama Pengalaman (Tahun)\")\n",
    "\n",
    "# plt.savefig(\"1. Distplot Lama Pengalaman (Untuk Handling Missing Value) REVISI.png\")\n",
    "\n",
    "plt.show()\n",
    "\n",
    "# Distribusi cenderung Normal sehingga penggantinya akan menggunakan nilai mean"
   ]
  },
  {
   "cell_type": "code",
   "execution_count": null,
   "metadata": {},
   "outputs": [],
   "source": [
    "# Coba berdasarkan variabel -> \"job_name\"\n",
    "\n",
    "count_lama_pengalaman1 = data.groupby([\"job_name\"])[\"lama_pengalaman\"].count() # Hasilnya adalah banyaknya data yang tidak missing\n",
    "mean_lama_pengalaman1 = data[data[\"lama_pengalaman\"].notna()].groupby([\"job_name\"])[\"lama_pengalaman\"].mean()\n",
    "\n",
    "len(mean_lama_pengalaman1)"
   ]
  },
  {
   "cell_type": "code",
   "execution_count": null,
   "metadata": {},
   "outputs": [],
   "source": [
    "mean_lama_pengalaman1"
   ]
  },
  {
   "cell_type": "code",
   "execution_count": null,
   "metadata": {},
   "outputs": [],
   "source": [
    "mean_lama_pengalaman1.values"
   ]
  },
  {
   "cell_type": "code",
   "execution_count": null,
   "metadata": {},
   "outputs": [],
   "source": [
    "dict_group4a = {}\n",
    "\n",
    "for indeks in mean_lama_pengalaman1.index:      \n",
    "    group4a = {indeks: round(mean_lama_pengalaman1[indeks], 1)}\n",
    "\n",
    "    dict_group4a.update(group4a)"
   ]
  },
  {
   "cell_type": "code",
   "execution_count": null,
   "metadata": {},
   "outputs": [],
   "source": [
    "dict_group4a"
   ]
  },
  {
   "cell_type": "code",
   "execution_count": null,
   "metadata": {},
   "outputs": [],
   "source": [
    "missing_lama_pengalaman1 = data[pd.isna(data[\"lama_pengalaman\"])]\n",
    "\n",
    "for i in missing_lama_pengalaman1.index:\n",
    "    for j in dict_group4a.keys():\n",
    "        data_asli = (data[\"job_name\"][i])\n",
    "        \n",
    "        if data_asli == j:\n",
    "            data[\"lama_pengalaman\"][i] = dict_group4a[j]"
   ]
  },
  {
   "cell_type": "code",
   "execution_count": null,
   "metadata": {
    "scrolled": true
   },
   "outputs": [],
   "source": [
    "pd.isna(data).sum() "
   ]
  },
  {
   "cell_type": "code",
   "execution_count": null,
   "metadata": {
    "scrolled": false
   },
   "outputs": [],
   "source": [
    "data.groupby([\"job_name\"]).size()"
   ]
  },
  {
   "cell_type": "markdown",
   "metadata": {},
   "source": [
    "# Handling Categorical Data"
   ]
  },
  {
   "cell_type": "code",
   "execution_count": null,
   "metadata": {},
   "outputs": [],
   "source": [
    "data_oke = data.copy()\n",
    "len(data_oke)"
   ]
  },
  {
   "cell_type": "code",
   "execution_count": null,
   "metadata": {
    "scrolled": true
   },
   "outputs": [],
   "source": [
    "summarize_features(data_oke)"
   ]
  },
  {
   "cell_type": "code",
   "execution_count": null,
   "metadata": {},
   "outputs": [],
   "source": [
    "# NOMINAL -> \"job_name\", \"lokasi\", \"industri\" (pakai get_dummies)\n",
    "# ORDINAL -> \"tingkat_job\", \"ukuran_company\" (pakai OrdinalEncoder)"
   ]
  },
  {
   "cell_type": "code",
   "execution_count": null,
   "metadata": {},
   "outputs": [],
   "source": [
    "# NOMINAL\n",
    "\n",
    "# \"lokasi\", \"industri\"\n",
    "nominal_cols = data_oke[[\"lokasi\", \"industri\"]]\n",
    "encoded_nominal = pd.get_dummies(data = nominal_cols)\n",
    "\n",
    "# Gabungkan ke data asli\n",
    "data_oke = pd.concat(objs = [encoded_nominal, data_oke], axis = 1)\n",
    "data_oke.drop(nominal_cols, axis = 1, inplace = True)\n",
    "data_oke.head(2)"
   ]
  },
  {
   "cell_type": "code",
   "execution_count": null,
   "metadata": {},
   "outputs": [],
   "source": [
    "#!pip install category_encoders"
   ]
  },
  {
   "cell_type": "code",
   "execution_count": null,
   "metadata": {},
   "outputs": [],
   "source": [
    "print(data_oke[\"tingkat_job\"].unique())\n",
    "print()\n",
    "print(data_oke[\"ukuran_company\"].unique())"
   ]
  },
  {
   "cell_type": "code",
   "execution_count": null,
   "metadata": {},
   "outputs": [],
   "source": [
    "# ORDINAL\n",
    "import category_encoders as ce\n",
    "\n",
    "# 1. \"tingkat_job\"\n",
    "encoder_tingkat_job = ce.OrdinalEncoder(cols = [\"tingkat_job\"], return_df = True, \n",
    "                                        mapping = [{\"col\": \"tingkat_job\", \n",
    "                                                    \"mapping\": {\"magang\": 0, \"tingkat pemula\": 1, \"asosiasi\": 2, \n",
    "                                                                \"senior tingkat menengah\": 3, \"direktur\": 4, \"eksekutif\": 5}}])\n",
    "\n",
    "data_oke[\"tingkat_job\"] = encoder_tingkat_job.fit_transform(data_oke[\"tingkat_job\"])\n",
    "\n",
    "# 2. \"ukuran_company\"\n",
    "encoder_ukuran_company = ce.OrdinalEncoder(cols = [\"ukuran_company\"], return_df = True, \n",
    "                                           mapping = [{\"col\": \"ukuran_company\", \n",
    "                                                       \"mapping\": {\"1-50 pekerja\": 0, \"51-200 pekerja\": 1, \"201-500 pekerja\": 2,\n",
    "                                                                   \"501-1.000 pekerja\": 3, \"1.001-5.000 pekerja\": 4, \">5.000 pekerja\": 5}}])\n",
    "\n",
    "data_oke[\"ukuran_company\"] = encoder_ukuran_company.fit_transform(data_oke[\"ukuran_company\"])"
   ]
  },
  {
   "cell_type": "code",
   "execution_count": null,
   "metadata": {},
   "outputs": [],
   "source": [
    "data_oke[\"job_name\"]"
   ]
  },
  {
   "cell_type": "markdown",
   "metadata": {},
   "source": [
    "### COBA SMOTE PAKAI SEMUA DATA"
   ]
  },
  {
   "cell_type": "code",
   "execution_count": null,
   "metadata": {},
   "outputs": [],
   "source": [
    "# Karena mau pakai SMOTE, yang jadi y itu nama profesi data dulu\n",
    "X = data_oke.drop(\"job_name\", axis = 1)\n",
    "y = data_oke[\"job_name\"]"
   ]
  },
  {
   "cell_type": "code",
   "execution_count": null,
   "metadata": {},
   "outputs": [],
   "source": [
    "y.value_counts()"
   ]
  },
  {
   "cell_type": "code",
   "execution_count": null,
   "metadata": {},
   "outputs": [],
   "source": [
    "from imblearn.over_sampling import SMOTE\n",
    "strategy = {\"data analyst\": 87, \"data engineer\": 87, \"data scientist\": 87}\n",
    "oversample = SMOTE(random_state = 0, sampling_strategy = strategy)\n",
    "X_smote, y_smote = oversample.fit_resample(X, y)"
   ]
  },
  {
   "cell_type": "code",
   "execution_count": null,
   "metadata": {},
   "outputs": [],
   "source": [
    "y_smote.value_counts()"
   ]
  },
  {
   "cell_type": "code",
   "execution_count": null,
   "metadata": {},
   "outputs": [],
   "source": [
    "data_smote = pd.concat([y_smote, X_smote], axis = 1)"
   ]
  },
  {
   "cell_type": "code",
   "execution_count": null,
   "metadata": {},
   "outputs": [],
   "source": [
    "data_smote.head(2)"
   ]
  },
  {
   "cell_type": "code",
   "execution_count": null,
   "metadata": {
    "scrolled": true
   },
   "outputs": [],
   "source": [
    "# NOMINAL\n",
    "\n",
    "# \"job_name\"\n",
    "nominal_cols = data_smote[[\"job_name\"]]\n",
    "encoded_nominal = pd.get_dummies(data = nominal_cols)\n",
    "\n",
    "# Gabungkan ke data asli\n",
    "data_smote = pd.concat(objs = [encoded_nominal, data_smote], axis = 1)\n",
    "data_smote.drop(nominal_cols, axis = 1, inplace = True)\n",
    "data_smote.head(2)"
   ]
  },
  {
   "cell_type": "code",
   "execution_count": null,
   "metadata": {},
   "outputs": [],
   "source": [
    "len(data_smote)"
   ]
  },
  {
   "cell_type": "markdown",
   "metadata": {},
   "source": [
    "# Target Engineering"
   ]
  },
  {
   "cell_type": "markdown",
   "metadata": {},
   "source": [
    "#### Target Engineering Pakai Semua Data (Seperti Saat Menggunakan Random Oversampling)"
   ]
  },
  {
   "cell_type": "code",
   "execution_count": null,
   "metadata": {},
   "outputs": [],
   "source": [
    "from scipy import stats\n",
    "import matplotlib.pyplot as plt\n",
    "import seaborn as sns"
   ]
  },
  {
   "cell_type": "code",
   "execution_count": null,
   "metadata": {},
   "outputs": [],
   "source": [
    "len(data_smote)"
   ]
  },
  {
   "cell_type": "code",
   "execution_count": null,
   "metadata": {
    "scrolled": true
   },
   "outputs": [],
   "source": [
    "# Data Asli\n",
    "sns.distplot(data_smote[\"median_gaji\"], hist = False, kde = True, axlabel = \"Gaji\")\n",
    "\n",
    "#plt.savefig(\"11. Distplot Gaji (261 Data) REVISI.png\")\n",
    "\n",
    "plt.show()"
   ]
  },
  {
   "cell_type": "code",
   "execution_count": null,
   "metadata": {
    "scrolled": true
   },
   "outputs": [],
   "source": [
    "# Data Hasil Transformasi\n",
    "\n",
    "#perform Box-Cox transformation on original data\n",
    "transformed_data, best_lambda = stats.boxcox(data_smote[\"median_gaji\"]) \n",
    "\n",
    "#plot the distribution of the transformed data values\n",
    "sns.distplot(transformed_data, hist = False, kde = True, axlabel = \"Gaji Hasil Transformasi\")\n",
    "\n",
    "#plt.savefig(\"12. Distplot Gaji Setelah Transformasi (261 Data) REVISI.png\")\n",
    "\n",
    "plt.show()"
   ]
  },
  {
   "cell_type": "code",
   "execution_count": null,
   "metadata": {},
   "outputs": [],
   "source": [
    "nilai_lambda = best_lambda\n",
    "nilai_lambda"
   ]
  },
  {
   "cell_type": "code",
   "execution_count": null,
   "metadata": {},
   "outputs": [],
   "source": [
    "print(\"Data Asli:\", list(data_smote[\"median_gaji\"][0:5]))\n",
    "print(\"Data Hasil Transformasi:\", transformed_data[0:5])"
   ]
  },
  {
   "cell_type": "code",
   "execution_count": null,
   "metadata": {},
   "outputs": [],
   "source": [
    "(data_smote[\"median_gaji\"][0:5]**nilai_lambda - 1) / nilai_lambda"
   ]
  },
  {
   "cell_type": "code",
   "execution_count": null,
   "metadata": {},
   "outputs": [],
   "source": [
    "# Transformasikan\n",
    "data_smote[\"median_gaji\"] = transformed_data"
   ]
  },
  {
   "cell_type": "code",
   "execution_count": null,
   "metadata": {
    "scrolled": false
   },
   "outputs": [],
   "source": [
    "data_smote[\"median_gaji\"][0:5]"
   ]
  },
  {
   "cell_type": "code",
   "execution_count": null,
   "metadata": {
    "scrolled": true
   },
   "outputs": [],
   "source": [
    "data_smote.head(2)"
   ]
  },
  {
   "cell_type": "markdown",
   "metadata": {},
   "source": [
    "# K-Fold Cross Validation"
   ]
  },
  {
   "cell_type": "code",
   "execution_count": null,
   "metadata": {},
   "outputs": [],
   "source": [
    "# Kalau pakai k-fold cross validation berarti langsung pakai semua data\n",
    "X = data_smote.drop(\"median_gaji\", axis = 1)\n",
    "y = data_smote[\"median_gaji\"]"
   ]
  },
  {
   "cell_type": "code",
   "execution_count": null,
   "metadata": {},
   "outputs": [],
   "source": [
    "y.head()"
   ]
  },
  {
   "cell_type": "code",
   "execution_count": null,
   "metadata": {},
   "outputs": [],
   "source": [
    "X.head(2)"
   ]
  },
  {
   "cell_type": "markdown",
   "metadata": {},
   "source": [
    "# Modelling"
   ]
  },
  {
   "cell_type": "markdown",
   "metadata": {},
   "source": [
    "### Decision Tree"
   ]
  },
  {
   "cell_type": "code",
   "execution_count": null,
   "metadata": {
    "scrolled": true
   },
   "outputs": [],
   "source": [
    "from sklearn.tree import DecisionTreeRegressor\n",
    "\n",
    "tree = DecisionTreeRegressor(random_state = 0)\n",
    "\n",
    "# PAKAI CROSS VAL\n",
    "from sklearn.model_selection import cross_val_score\n",
    "r2_tree = cross_val_score(estimator = tree, X = X, y = y, cv = 5)"
   ]
  },
  {
   "cell_type": "code",
   "execution_count": null,
   "metadata": {},
   "outputs": [],
   "source": [
    "r2_tree.mean()"
   ]
  },
  {
   "cell_type": "code",
   "execution_count": null,
   "metadata": {
    "scrolled": true
   },
   "outputs": [],
   "source": [
    "from sklearn.model_selection import GridSearchCV\n",
    "\n",
    "tree_x = DecisionTreeRegressor(random_state = 0)\n",
    "param_grid = {\"max_depth\": list(range(21)), \n",
    "              \"criterion\": [\"mse\", \"friedman_mse\", \"mae\"], \n",
    "              \"max_features\": [\"auto\", \"sqrt\", \"log2\"], \n",
    "              \"min_samples_split\": list(range(6))}\n",
    "\n",
    "grid_search_x = GridSearchCV(tree_x, param_grid, n_jobs = 2, verbose = 1, cv = 5)\n",
    "\n",
    "grid_search_x.fit(X, y)"
   ]
  },
  {
   "cell_type": "code",
   "execution_count": null,
   "metadata": {},
   "outputs": [],
   "source": [
    "grid_search_x.best_params_"
   ]
  },
  {
   "cell_type": "code",
   "execution_count": null,
   "metadata": {},
   "outputs": [],
   "source": [
    "# Ini nilai score test (R2)-nya\n",
    "grid_search_x.best_score_ # Mean cross-validated score of the best_estimator"
   ]
  },
  {
   "cell_type": "code",
   "execution_count": null,
   "metadata": {
    "scrolled": true
   },
   "outputs": [],
   "source": [
    "# COBA BUAT MODEL BERDASARKAN \"best_params_\"\n",
    "tree_x1 = DecisionTreeRegressor(random_state = 0, \n",
    "                                criterion = 'mse',\n",
    "                                max_depth = 10,\n",
    "                                max_features = 'sqrt',\n",
    "                                min_samples_split = 3)"
   ]
  },
  {
   "cell_type": "code",
   "execution_count": null,
   "metadata": {},
   "outputs": [],
   "source": [
    "tree_x1.fit(X, y)"
   ]
  },
  {
   "cell_type": "code",
   "execution_count": null,
   "metadata": {
    "scrolled": true
   },
   "outputs": [],
   "source": [
    "# PAKAI CROSS VAL\n",
    "from sklearn.model_selection import cross_val_score\n",
    "from numpy import mean\n",
    "from numpy import absolute\n",
    "\n",
    "r2_tree_x1 = cross_val_score(estimator = tree_x1, X = X, y = y, cv = 5, scoring  ='r2')\n",
    "nrmse_tree_x1 = cross_val_score(estimator = tree_x1, X = X, y = y, cv = 5, scoring  ='neg_root_mean_squared_error')\n",
    "nmape_tree_x1 = cross_val_score(estimator = tree_x1, X = X, y = y, cv = 5, scoring  ='neg_mean_absolute_percentage_error')\n",
    "\n",
    "r2_tree_x1 = mean(r2_tree_x1)\n",
    "rmse_tree_x1 = mean(absolute(nrmse_tree_x1))\n",
    "mape_tree_x1 = mean(absolute(nmape_tree_x1))"
   ]
  },
  {
   "cell_type": "code",
   "execution_count": null,
   "metadata": {},
   "outputs": [],
   "source": [
    "print(\"R2 TREE:\", r2_tree_x1)\n",
    "print(\"RMSE TREE:\", rmse_tree_x1)\n",
    "print(\"MAPE TREE:\", mape_tree_x1)"
   ]
  },
  {
   "cell_type": "code",
   "execution_count": null,
   "metadata": {},
   "outputs": [],
   "source": [
    "# grid_search ini itu sebagai modelnya\n",
    "# Simpan model\n",
    "\n",
    "import pickle\n",
    "with open(\"model_decisiontree_smote.pkl\", \"wb\") as f:\n",
    "    pickle.dump(tree_x1, f)"
   ]
  },
  {
   "cell_type": "markdown",
   "metadata": {},
   "source": [
    "#### Coba Prediksi Menggunakan Model yang Sudah Disimpan"
   ]
  },
  {
   "cell_type": "code",
   "execution_count": 2,
   "metadata": {},
   "outputs": [],
   "source": [
    "# Prediksi\n",
    "import pickle\n",
    "\n",
    "with open(\"model_decisiontree_smote.pkl\", \"rb\") as f:\n",
    "    model = pickle.load(f)"
   ]
  },
  {
   "cell_type": "code",
   "execution_count": 3,
   "metadata": {},
   "outputs": [],
   "source": [
    "kolom = [\"job_name_data analyst\", \"job_name_data engineer\", \"job_name_data scientist\", \n",
    "         \"lokasi_bali\", \"lokasi_banten\", \"lokasi_diy\", \"lokasi_dki jakarta\", \n",
    "         \"lokasi_jawa barat\", \"lokasi_jawa timur\", \"lokasi_kalimantan barat\", \n",
    "         \"industri_acara\", \"industri_ekonomi\", \"industri_human resources\", \"industri_keuangan\", \n",
    "         \"industri_konstruksi\", \"industri_konsultasi\", \"industri_media\", \n",
    "         \"industri_pemasaran & periklanan\", \"industri_teknologi informasi dan komunikasi\", \"industri_transportasi\",\n",
    "         \"tingkat_job\", \"lama_pengalaman\", \"ukuran_company\"]\n",
    "\n",
    "nilai = [[1, 0, 0, # \"job_name\" = \"data analyst\"\n",
    "         1, 0, 0, 0, 0, 0, 0, # \"lokasi\" = \"bali\"\n",
    "         1, 0, 0, 0, 0, 0, 0, 0, 0, 0, # \"industri\" = \"acara\"\n",
    "         1, 0, 0]] # \"tingkat_job\" = \"tingkat pemula\", \"lama_pengalaman\" = 0, \"ukuran_company\" = \"1-50 pekerja\""
   ]
  },
  {
   "cell_type": "code",
   "execution_count": 4,
   "metadata": {},
   "outputs": [
    {
     "ename": "NameError",
     "evalue": "name 'X' is not defined",
     "output_type": "error",
     "traceback": [
      "\u001b[1;31m---------------------------------------------------------------------------\u001b[0m",
      "\u001b[1;31mNameError\u001b[0m                                 Traceback (most recent call last)",
      "\u001b[1;32m<ipython-input-4-901c1061bf7c>\u001b[0m in \u001b[0;36m<module>\u001b[1;34m\u001b[0m\n\u001b[1;32m----> 1\u001b[1;33m \u001b[0mX\u001b[0m\u001b[1;33m.\u001b[0m\u001b[0mcolumns\u001b[0m\u001b[1;33m\u001b[0m\u001b[1;33m\u001b[0m\u001b[0m\n\u001b[0m",
      "\u001b[1;31mNameError\u001b[0m: name 'X' is not defined"
     ]
    }
   ],
   "source": [
    "X.columns"
   ]
  },
  {
   "cell_type": "code",
   "execution_count": 5,
   "metadata": {},
   "outputs": [
    {
     "data": {
      "text/html": [
       "<div>\n",
       "<style scoped>\n",
       "    .dataframe tbody tr th:only-of-type {\n",
       "        vertical-align: middle;\n",
       "    }\n",
       "\n",
       "    .dataframe tbody tr th {\n",
       "        vertical-align: top;\n",
       "    }\n",
       "\n",
       "    .dataframe thead th {\n",
       "        text-align: right;\n",
       "    }\n",
       "</style>\n",
       "<table border=\"1\" class=\"dataframe\">\n",
       "  <thead>\n",
       "    <tr style=\"text-align: right;\">\n",
       "      <th></th>\n",
       "      <th>job_name_data analyst</th>\n",
       "      <th>job_name_data engineer</th>\n",
       "      <th>job_name_data scientist</th>\n",
       "      <th>lokasi_bali</th>\n",
       "      <th>lokasi_banten</th>\n",
       "      <th>lokasi_diy</th>\n",
       "      <th>lokasi_dki jakarta</th>\n",
       "      <th>lokasi_jawa barat</th>\n",
       "      <th>lokasi_jawa timur</th>\n",
       "      <th>lokasi_kalimantan barat</th>\n",
       "      <th>...</th>\n",
       "      <th>industri_keuangan</th>\n",
       "      <th>industri_konstruksi</th>\n",
       "      <th>industri_konsultasi</th>\n",
       "      <th>industri_media</th>\n",
       "      <th>industri_pemasaran &amp; periklanan</th>\n",
       "      <th>industri_teknologi informasi dan komunikasi</th>\n",
       "      <th>industri_transportasi</th>\n",
       "      <th>tingkat_job</th>\n",
       "      <th>lama_pengalaman</th>\n",
       "      <th>ukuran_company</th>\n",
       "    </tr>\n",
       "  </thead>\n",
       "  <tbody>\n",
       "    <tr>\n",
       "      <th>0</th>\n",
       "      <td>1</td>\n",
       "      <td>0</td>\n",
       "      <td>0</td>\n",
       "      <td>1</td>\n",
       "      <td>0</td>\n",
       "      <td>0</td>\n",
       "      <td>0</td>\n",
       "      <td>0</td>\n",
       "      <td>0</td>\n",
       "      <td>0</td>\n",
       "      <td>...</td>\n",
       "      <td>0</td>\n",
       "      <td>0</td>\n",
       "      <td>0</td>\n",
       "      <td>0</td>\n",
       "      <td>0</td>\n",
       "      <td>0</td>\n",
       "      <td>0</td>\n",
       "      <td>1</td>\n",
       "      <td>0</td>\n",
       "      <td>0</td>\n",
       "    </tr>\n",
       "  </tbody>\n",
       "</table>\n",
       "<p>1 rows × 23 columns</p>\n",
       "</div>"
      ],
      "text/plain": [
       "   job_name_data analyst  job_name_data engineer  job_name_data scientist  \\\n",
       "0                      1                       0                        0   \n",
       "\n",
       "   lokasi_bali  lokasi_banten  lokasi_diy  lokasi_dki jakarta  \\\n",
       "0            1              0           0                   0   \n",
       "\n",
       "   lokasi_jawa barat  lokasi_jawa timur  lokasi_kalimantan barat  ...  \\\n",
       "0                  0                  0                        0  ...   \n",
       "\n",
       "   industri_keuangan  industri_konstruksi  industri_konsultasi  \\\n",
       "0                  0                    0                    0   \n",
       "\n",
       "   industri_media  industri_pemasaran & periklanan  \\\n",
       "0               0                                0   \n",
       "\n",
       "   industri_teknologi informasi dan komunikasi  industri_transportasi  \\\n",
       "0                                            0                      0   \n",
       "\n",
       "   tingkat_job  lama_pengalaman  ukuran_company  \n",
       "0            1                0               0  \n",
       "\n",
       "[1 rows x 23 columns]"
      ]
     },
     "execution_count": 5,
     "metadata": {},
     "output_type": "execute_result"
    }
   ],
   "source": [
    "import pandas as pd\n",
    "\n",
    "coba_test = pd.DataFrame(nilai, columns = kolom)\n",
    "coba_test"
   ]
  },
  {
   "cell_type": "code",
   "execution_count": 6,
   "metadata": {
    "scrolled": true
   },
   "outputs": [
    {
     "data": {
      "text/plain": [
       "524.5463902729647"
      ]
     },
     "execution_count": 6,
     "metadata": {},
     "output_type": "execute_result"
    }
   ],
   "source": [
    "# Predict-nya harus bentuk data frame (masih dalam bentuk transformasi Box-Cox)\n",
    "hasil_pred = float(model.predict(coba_test))\n",
    "hasil_pred"
   ]
  },
  {
   "cell_type": "code",
   "execution_count": 7,
   "metadata": {},
   "outputs": [],
   "source": [
    "#nilai_lambda"
   ]
  },
  {
   "cell_type": "code",
   "execution_count": 8,
   "metadata": {},
   "outputs": [],
   "source": [
    "nilai_lambda = 0.3624440881025335"
   ]
  },
  {
   "cell_type": "code",
   "execution_count": 9,
   "metadata": {},
   "outputs": [
    {
     "data": {
      "text/plain": [
       "1968889"
      ]
     },
     "execution_count": 9,
     "metadata": {},
     "output_type": "execute_result"
    }
   ],
   "source": [
    "# Kembalikan ke nilai asli\n",
    "nilai_asli = round(((hasil_pred * nilai_lambda) + 1) ** (1/float(nilai_lambda)))\n",
    "nilai_asli"
   ]
  },
  {
   "cell_type": "code",
   "execution_count": null,
   "metadata": {},
   "outputs": [],
   "source": [
    "# Heroku -> https://prediksi-gaji-profesi-data.herokuapp.com/"
   ]
  },
  {
   "cell_type": "markdown",
   "metadata": {},
   "source": [
    "#### Menampilkan Grafik Decision Tree"
   ]
  },
  {
   "cell_type": "code",
   "execution_count": null,
   "metadata": {},
   "outputs": [],
   "source": [
    "model"
   ]
  },
  {
   "cell_type": "code",
   "execution_count": null,
   "metadata": {},
   "outputs": [],
   "source": [
    "from sklearn import tree"
   ]
  },
  {
   "cell_type": "code",
   "execution_count": null,
   "metadata": {
    "scrolled": true
   },
   "outputs": [],
   "source": [
    "fig = plt.figure(figsize = (25, 20))\n",
    "_ = tree.plot_tree(model, feature_names = X.columns, filled = True)"
   ]
  },
  {
   "cell_type": "code",
   "execution_count": null,
   "metadata": {},
   "outputs": [],
   "source": [
    "fig.savefig(\"grafik decison tree (akhir) REVISI.png\")"
   ]
  },
  {
   "cell_type": "code",
   "execution_count": null,
   "metadata": {
    "scrolled": true
   },
   "outputs": [],
   "source": [
    "text_representation = tree.export_text(model, feature_names = list(X.columns), max_depth = 3)\n",
    "print(text_representation)"
   ]
  }
 ],
 "metadata": {
  "kernelspec": {
   "display_name": "Python 3",
   "language": "python",
   "name": "python3"
  },
  "language_info": {
   "codemirror_mode": {
    "name": "ipython",
    "version": 3
   },
   "file_extension": ".py",
   "mimetype": "text/x-python",
   "name": "python",
   "nbconvert_exporter": "python",
   "pygments_lexer": "ipython3",
   "version": "3.8.3"
  }
 },
 "nbformat": 4,
 "nbformat_minor": 4
}
