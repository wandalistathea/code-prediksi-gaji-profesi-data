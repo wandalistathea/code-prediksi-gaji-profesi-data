{
 "cells": [
  {
   "cell_type": "markdown",
   "metadata": {},
   "source": [
    "# Preprocessing Hasil Scraping LinkedIn"
   ]
  },
  {
   "cell_type": "code",
   "execution_count": null,
   "metadata": {},
   "outputs": [],
   "source": [
    "import pandas as pd\n",
    "import numpy as np\n",
    "import json"
   ]
  },
  {
   "cell_type": "code",
   "execution_count": null,
   "metadata": {},
   "outputs": [],
   "source": [
    "df = pd.read_csv(\"Scraping Profesi Data (Linkedin).csv\")"
   ]
  },
  {
   "cell_type": "code",
   "execution_count": null,
   "metadata": {
    "scrolled": true
   },
   "outputs": [],
   "source": [
    "df.head()"
   ]
  },
  {
   "cell_type": "code",
   "execution_count": null,
   "metadata": {},
   "outputs": [],
   "source": [
    "len(df)"
   ]
  },
  {
   "cell_type": "code",
   "execution_count": null,
   "metadata": {},
   "outputs": [],
   "source": [
    "# Mengubah df[\"icon_keterangan\"] agar menjadi dict, bukan str\n",
    "for i in range(0, len(df)):\n",
    "    s = df[\"icon_keterangan\"][i]\n",
    "    json_acceptable_string = s.replace(\"'\", \"\\\"\")\n",
    "    d = json.loads(json_acceptable_string)\n",
    "    df[\"icon_keterangan\"][i] = d"
   ]
  },
  {
   "cell_type": "code",
   "execution_count": null,
   "metadata": {},
   "outputs": [],
   "source": [
    "# Gabungkan dengan data frame awal\n",
    "df_gabung = pd.concat([df.drop(\"icon_keterangan\", axis = 1), pd.DataFrame(df[\"icon_keterangan\"].tolist())], axis = 1)\n",
    "df_gabung.head()"
   ]
  },
  {
   "cell_type": "markdown",
   "metadata": {},
   "source": [
    "# Preprocessing 1"
   ]
  },
  {
   "cell_type": "markdown",
   "metadata": {},
   "source": [
    "### Untuk Kolom \"briefcase-icon\" & \"company-icon\""
   ]
  },
  {
   "cell_type": "code",
   "execution_count": null,
   "metadata": {},
   "outputs": [],
   "source": [
    "# GABUNG FOR LOOPING UNTUK \"briefcase-icon\" & \"company-icon\"\n",
    "\n",
    "list_dict_gab = []\n",
    "\n",
    "# Data frame awal\n",
    "df = pd.DataFrame(columns = [\"gaji\", \"jenis_job\", \"tingkat_job\", \"ukuran_company\", \"industri\"])\n",
    "    \n",
    "for i in range(0, len(df_gabung)):\n",
    "    dict_gab = {}\n",
    "    \n",
    "    # Untuk kolom \"briefcase-icon\"\n",
    "    if pd.isna(df_gabung[\"briefcase-icon\"][i]) == True:\n",
    "        brief_split = {\"jenis_job\": np.nan}\n",
    "    else:\n",
    "        split_1 = df_gabung[\"briefcase-icon\"][i].split(\" · \")\n",
    "        if len(split_1) == 1:\n",
    "            brief_split = {\"jenis_job\": split_1[0]}\n",
    "        elif len(split_1) == 2:\n",
    "            brief_split = {\"jenis_job\": split_1[0], \"tingkat_job\": split_1[1]}\n",
    "        elif len(split_1) == 3:\n",
    "            brief_split = {\"gaji\": split_1[0], \"jenis_job\": split_1[1], \"tingkat_job\": split_1[2]}\n",
    "            \n",
    "    dict_gab.update(brief_split) \n",
    "    \n",
    "    # Untuk kolom \"company-icon\"\n",
    "    if pd.isna(df_gabung[\"company-icon\"][i]) == True:\n",
    "        company_split = {\"ukuran_company\": np.nan}\n",
    "    else:\n",
    "        split_2 = df_gabung[\"company-icon\"][i].split(\" · \")\n",
    "        if len(split_2) == 1:\n",
    "            company_split = {\"ukuran_company\": split_2[0]}\n",
    "        elif len(split_2) == 2:\n",
    "            company_split = {\"ukuran_company\": split_2[0], \"industri\": split_2[1]}\n",
    "    \n",
    "    dict_gab.update(company_split) \n",
    "    \n",
    "    list_dict_gab.append(dict_gab) # Nanti yang digunakan jadi \"list_dict_gab\"-nya"
   ]
  },
  {
   "cell_type": "code",
   "execution_count": null,
   "metadata": {},
   "outputs": [],
   "source": [
    "list_dict_gab"
   ]
  },
  {
   "cell_type": "code",
   "execution_count": null,
   "metadata": {},
   "outputs": [],
   "source": [
    "#df_gabung2 = pd.concat([df_gabung.drop([\"briefcase-icon\", \"company-icon\"], axis = 1), pd.DataFrame(list_dict_gab)], axis = 1)\n",
    "df_gabung2 = pd.concat([df_gabung, pd.DataFrame(list_dict_gab)], axis = 1)\n",
    "df_gabung2 = df_gabung2.drop([\"briefcase-icon\", \"company-icon\", \"radar-screen-icon\", \"people-icon\"], axis = 1)\n",
    "df_gabung2.head()"
   ]
  },
  {
   "cell_type": "code",
   "execution_count": null,
   "metadata": {},
   "outputs": [],
   "source": [
    "#df_gabung2.to_csv(\"Hasil Preprocessing 1 (Kolom OKE).csv\", index = False)"
   ]
  },
  {
   "cell_type": "markdown",
   "metadata": {},
   "source": [
    "# Preprocessing 2"
   ]
  },
  {
   "cell_type": "markdown",
   "metadata": {},
   "source": [
    "### Ganti Job Name dan Lokasi"
   ]
  },
  {
   "cell_type": "code",
   "execution_count": null,
   "metadata": {},
   "outputs": [],
   "source": [
    "data = pd.read_csv(\"Hasil Preprocessing 1 (Kolom OKE).csv\")\n",
    "data.head(3)"
   ]
  },
  {
   "cell_type": "code",
   "execution_count": null,
   "metadata": {},
   "outputs": [],
   "source": [
    "data.info()"
   ]
  },
  {
   "cell_type": "code",
   "execution_count": null,
   "metadata": {},
   "outputs": [],
   "source": [
    "# Cek data yang duplikat\n",
    "data[data.duplicated(keep = False)] \n",
    "\n",
    "# Data Analyst/ Data Scientist -> Ini dihapus saja agar tidak bingung mau dimasukkan ke \"data analyst\" atau \"data scientist\""
   ]
  },
  {
   "cell_type": "code",
   "execution_count": null,
   "metadata": {},
   "outputs": [],
   "source": [
    "data.drop_duplicates(keep = False, inplace = True, ignore_index = True)\n",
    "data.info() # Ada 4 yang terhapus"
   ]
  },
  {
   "cell_type": "code",
   "execution_count": null,
   "metadata": {},
   "outputs": [],
   "source": [
    "data[data.duplicated(keep = False)] # Sudah tidak ada yang duplikat"
   ]
  },
  {
   "cell_type": "code",
   "execution_count": null,
   "metadata": {},
   "outputs": [],
   "source": [
    "data.index # Index-nya sudah urut"
   ]
  },
  {
   "cell_type": "code",
   "execution_count": null,
   "metadata": {},
   "outputs": [],
   "source": [
    "# PROSESNYA DIGABUNG MENJADI SATU\n",
    "\n",
    "def ganti_nama_dan_lokasi(data, list_kolom):\n",
    "    data2 = data.copy()\n",
    "    \n",
    "    # Looping untuk lower case isi dari masing-masing kolom\n",
    "    for kolom in list_kolom:\n",
    "        data2[kolom] = data2[kolom].str.lower()\n",
    "\n",
    "    # Looping untuk ganti isi di kolom \"job_name\" dan \"lokasi\"\n",
    "    for i in range(0, len(data2)):\n",
    "        # Untuk kolom \"job_name\"\n",
    "        # [\"data scientist\", \"data analyst\", \"data engineer\", \"database manager\", \"data architect\", \"database administrator\"]\n",
    "        if \"data scientist\" in data2[\"job_name\"][i]:\n",
    "            data2[\"job_name\"][i] = \"data scientist\"\n",
    "        elif \"data analyst\" in data2[\"job_name\"][i]:\n",
    "            data2[\"job_name\"][i] = \"data analyst\"\n",
    "        elif \"data engineer\" in data2[\"job_name\"][i]:\n",
    "            data2[\"job_name\"][i] = \"data engineer\"\n",
    "        elif \"database manager\" in data2[\"job_name\"][i]:\n",
    "            data2[\"job_name\"][i] = \"database manager\"\n",
    "        elif \"data architect\" in data2[\"job_name\"][i]:\n",
    "            data2[\"job_name\"][i] = \"data architect\"\n",
    "        elif \"database administrator\" in data2[\"job_name\"][i]:\n",
    "            data2[\"job_name\"][i] = \"database administrator\"\n",
    "\n",
    "        # Untuk kolom \"lokasi\"\n",
    "        if \"jakarta\" in data2[\"lokasi\"][i]:\n",
    "            data2[\"lokasi\"][i] = \"dki jakarta\"\n",
    "        elif \"banten\" in data2[\"lokasi\"][i]:\n",
    "            data2[\"lokasi\"][i] = \"banten\"\n",
    "        elif \"yogyakarta\" in data2[\"lokasi\"][i]:\n",
    "            data2[\"lokasi\"][i] = \"diy\"\n",
    "        elif \"kalimantan barat\" in data2[\"lokasi\"][i]:\n",
    "            data2[\"lokasi\"][i] = \"kalimantan barat\"\n",
    "        elif \"sulawesi selatan\" in data2[\"lokasi\"][i]:\n",
    "            data2[\"lokasi\"][i] = \"sulawesi selatan\"\n",
    "        elif \"jawa barat\" in data2[\"lokasi\"][i]:\n",
    "            data2[\"lokasi\"][i] = \"jawa barat\"\n",
    "        elif \"jawa tengah\" in data2[\"lokasi\"][i]:\n",
    "            data2[\"lokasi\"][i] = \"jawa tengah\"\n",
    "        elif \"jawa timur\" in data2[\"lokasi\"][i]:\n",
    "            data2[\"lokasi\"][i] = \"jawa timur\"\n",
    "        elif \"nusa tenggara barat\" in data2[\"lokasi\"][i]:\n",
    "            data2[\"lokasi\"][i] = \"ntb\"\n",
    "        elif \"bali\" in data2[\"lokasi\"][i]:\n",
    "            data2[\"lokasi\"][i] = \"bali\"\n",
    "        elif \"nanggroe aceh darussalam\" in data2[\"lokasi\"][i]:\n",
    "            data2[\"lokasi\"][i] = \"nad\"\n",
    "    \n",
    "    return data2"
   ]
  },
  {
   "cell_type": "code",
   "execution_count": null,
   "metadata": {},
   "outputs": [],
   "source": [
    "list_kolom = [\"job_name\", \"lokasi\", \"jenis_job\", \"tingkat_job\", \"ukuran_company\", \"industri\", \"gaji\"]\n",
    "\n",
    "data_oke = ganti_nama_dan_lokasi(data, list_kolom)\n",
    "data_oke.head()"
   ]
  },
  {
   "cell_type": "code",
   "execution_count": null,
   "metadata": {},
   "outputs": [],
   "source": [
    "data_oke[data_oke[\"lokasi\"] == \"indonesia\"] # Akan dihapus karena base-nya di Singapura dan di Indonesia juga sistemnya remote"
   ]
  },
  {
   "cell_type": "code",
   "execution_count": null,
   "metadata": {
    "scrolled": true
   },
   "outputs": [],
   "source": [
    "data_oke.drop(250, axis = 0, inplace = True)\n",
    "data_oke = data_oke.reset_index(drop = True)\n",
    "len(data_oke) # Sudah berkurang satu"
   ]
  },
  {
   "cell_type": "code",
   "execution_count": null,
   "metadata": {},
   "outputs": [],
   "source": [
    "data_oke.index"
   ]
  },
  {
   "cell_type": "code",
   "execution_count": null,
   "metadata": {},
   "outputs": [],
   "source": [
    "#data_oke.to_csv(\"Hasil Preprocessing 2 (Ganti Job Name dan Lokasi).csv\", index = False)"
   ]
  },
  {
   "cell_type": "markdown",
   "metadata": {},
   "source": [
    "# Preprocessing 3"
   ]
  },
  {
   "cell_type": "markdown",
   "metadata": {},
   "source": [
    "### Memperbaiki Kolom Gaji & Membuat Kolom Median Gaji"
   ]
  },
  {
   "cell_type": "code",
   "execution_count": null,
   "metadata": {},
   "outputs": [],
   "source": [
    "data_oke = pd.read_csv(\"Hasil Preprocessing 2 (Ganti Job Name dan Lokasi).csv\")\n",
    "data_oke.tail()"
   ]
  },
  {
   "cell_type": "code",
   "execution_count": null,
   "metadata": {},
   "outputs": [],
   "source": [
    "data_oke[\"gaji\"].unique()"
   ]
  },
  {
   "cell_type": "code",
   "execution_count": null,
   "metadata": {},
   "outputs": [],
   "source": [
    "data_oke2 = data_oke.copy()\n",
    "\n",
    "# GAJI PER BULAN\n",
    "for i in range(0, len(data_oke2)):\n",
    "    if pd.isna(data_oke2[\"gaji\"][i]) == True:\n",
    "        pass\n",
    "    else:\n",
    "        if \"month\" in data_oke2[\"gaji\"][i]:\n",
    "            data_oke2[\"gaji\"][i] = data_oke2[\"gaji\"][i].replace(\"/month\", \"\").replace(\"rp\", \"\").replace(\".\", \"\")\n",
    "            data_oke2[\"gaji\"][i] = data_oke2[\"gaji\"][i].split(\" - \")\n",
    "            \n",
    "            if type(pd.isna(data_oke2[\"gaji\"][i])) == type(True):\n",
    "                pass\n",
    "            elif len(data_oke2[\"gaji\"][i]) == 2: # Jika list-nya berisi 2 nilai\n",
    "                list_angka = [int(angka) for angka in data_oke2[\"gaji\"][i]]\n",
    "                data_oke2[\"gaji\"][i] = list_angka\n",
    "            else:\n",
    "                pass\n",
    "            \n",
    "        elif \"yr\" in data_oke2[\"gaji\"][i]:\n",
    "            data_oke2[\"gaji\"][i] = data_oke2[\"gaji\"][i].replace(\"/yr\", \"\").replace(\"rp\", \"\").replace(\".\", \"\")\n",
    "            data_oke2[\"gaji\"][i] = data_oke2[\"gaji\"][i].split(\" - \")\n",
    "            #data_oke2[\"gaji\"][i] = [tahun/12 for tahun in data_oke2[\"gaji\"][i]]\n",
    "            \n",
    "            if type(pd.isna(data_oke2[\"gaji\"][i])) == type(True):\n",
    "                pass\n",
    "            elif len(data_oke2[\"gaji\"][i]) == 2: # Jika list-nya berisi 2 nilai\n",
    "                list_angka = [round(int(angka)/12) for angka in data_oke2[\"gaji\"][i]]\n",
    "                data_oke2[\"gaji\"][i] = list_angka\n",
    "            else:\n",
    "                pass"
   ]
  },
  {
   "cell_type": "code",
   "execution_count": null,
   "metadata": {
    "scrolled": true
   },
   "outputs": [],
   "source": [
    "for i in range(0, len(data_oke2)):\n",
    "    if type(data_oke2[\"gaji\"][i]) == list:\n",
    "        print(i)\n",
    "        print(data_oke2[\"gaji\"][i])\n",
    "    \n",
    "# Yang belum beres -> index 25, 42, 150, 196, 217"
   ]
  },
  {
   "cell_type": "code",
   "execution_count": null,
   "metadata": {},
   "outputs": [],
   "source": [
    "data_oke.iloc[[25, 42, 150, 196, 217]] \n",
    "\n",
    "# Diasumsikan yang hanya tertulis 5, 20, 10, dst itu satuannya juta"
   ]
  },
  {
   "cell_type": "code",
   "execution_count": null,
   "metadata": {},
   "outputs": [],
   "source": [
    "data_oke2[\"gaji\"][25]"
   ]
  },
  {
   "cell_type": "code",
   "execution_count": null,
   "metadata": {},
   "outputs": [],
   "source": [
    "data_oke2[\"gaji\"][150]"
   ]
  },
  {
   "cell_type": "code",
   "execution_count": null,
   "metadata": {},
   "outputs": [],
   "source": [
    "# Menangani yang bentuk range (index 25, 42, 196)\n",
    "data_oke2[\"gaji\"][25] = [5000000 if item == 5 else 20000000 for item in data_oke2[\"gaji\"][25]]\n",
    "data_oke2[\"gaji\"][42] = [15000000 if item == 15 else 0 for item in data_oke2[\"gaji\"][42]]\n",
    "data_oke2[\"gaji\"][196] = [10000000 if item == 10 else 20000000 for item in data_oke2[\"gaji\"][196]]\n",
    "\n",
    "# Menangani yang isi list-nya cuma 1 (index 150, 217)\n",
    "data_oke2[\"gaji\"][150] = [int(data_oke2[\"gaji\"][150][0].replace(\"sgd300\", \"3146244\"))] # 300 SGD -> Rp 3.146.244,-\n",
    "data_oke2[\"gaji\"][217] = [round(int(data_oke2[\"gaji\"][217][0].replace(\"1\", \"1000000\")) / 12)]"
   ]
  },
  {
   "cell_type": "code",
   "execution_count": null,
   "metadata": {
    "scrolled": true
   },
   "outputs": [],
   "source": [
    "data_oke2.iloc[[25, 42, 150, 196, 217]]"
   ]
  },
  {
   "cell_type": "code",
   "execution_count": null,
   "metadata": {},
   "outputs": [],
   "source": [
    "# Menambah kolom baru untuk median dari gaji\n",
    "import statistics\n",
    "\n",
    "median_gaji = []\n",
    "for i in range(0, len(data_oke2)):\n",
    "    if type(data_oke2[\"gaji\"][i]) != list:\n",
    "        median_gaji.append(np.nan)\n",
    "    else:\n",
    "        median_gaji.append(round(statistics.median(data_oke2[\"gaji\"][i])))\n",
    "        \n",
    "data_oke2[\"median_gaji\"] = median_gaji"
   ]
  },
  {
   "cell_type": "code",
   "execution_count": null,
   "metadata": {},
   "outputs": [],
   "source": [
    "data_oke2.tail()"
   ]
  },
  {
   "cell_type": "code",
   "execution_count": null,
   "metadata": {},
   "outputs": [],
   "source": [
    "#data_oke2.to_csv(\"Hasil Preprocessing 3 (Benerin Kolom Gaji & Bikin Kolom Median Gaji).csv\", index = False)"
   ]
  },
  {
   "cell_type": "markdown",
   "metadata": {},
   "source": [
    "# Preprocessing 4"
   ]
  },
  {
   "cell_type": "markdown",
   "metadata": {},
   "source": [
    "### Menyederhanakan Kolom Industri"
   ]
  },
  {
   "cell_type": "code",
   "execution_count": null,
   "metadata": {},
   "outputs": [],
   "source": [
    "data_oke2 = pd.read_csv(\"Hasil Preprocessing 3 (Benerin Kolom Gaji & Bikin Kolom Median Gaji).csv\")\n",
    "data_oke2.tail()"
   ]
  },
  {
   "cell_type": "code",
   "execution_count": null,
   "metadata": {},
   "outputs": [],
   "source": [
    "data_oke2[\"industri\"].nunique()\n",
    "\n",
    "# Misal:\n",
    "# Keuangan -> 'Perbankan', 'Jasa Keuangan'\n",
    "# Pendidikan -> 'Belajar Online', 'Manajemen Pendidikan'\n",
    "# Teknologi Informasi dan Komunikasi -> 'Layanan dan Teknologi Informasi', 'Internet', 'Telekomunikasi', 'Perangkat Lunak Komputer'\n",
    "# Media -> 'Media Online'\n",
    "# Pariwisata -> 'Wisata, Travel & Pariwisata', 'Pariwisata & Perhotelan'\n",
    "# Kesehatan -> 'Perawatan Kesehatan Jiwa', 'Kesehatan dan Kebugaran', 'Olahraga'\n",
    "# Agrikultur -> 'Kertas & Produk Hutan', 'Pertanian', 'Tembakau'\n",
    "# Human Resources -> 'Penetapan Staf dan Perekrutan', 'Sumber Daya Manusia'\n",
    "# Makanan & Minuman -> 'Makanan & Minuman', 'Wine dan Alkohol'\n",
    "# Ekonomi -> 'Logistik dan Rantai Suplai', 'Modal Usaha & Ekuitas Pribadi', 'Ritel'\n",
    "\n",
    "# Ini yang sendiri saja:\n",
    "# 'Otomotif', 'Kosmetik', 'Pakaian & Mode', 'Minyak & Energi', 'Perabot', \n",
    "# 'Konsultan Manajemen' (Industri Konsultasi), \n",
    "# 'Pemasaran dan Periklanan' (Industri Pemasaran & Periklanan)"
   ]
  },
  {
   "cell_type": "code",
   "execution_count": null,
   "metadata": {},
   "outputs": [],
   "source": [
    "industri_dict = {\"perbankan\": \"keuangan\", \"jasa keuangan\": \"keuangan\", \n",
    "                 \"belajar online\": \"pendidikan\", \"manajemen pendidikan\": \"pendidikan\", \n",
    "                 \"layanan dan teknologi informasi\": \"teknologi informasi dan komunikasi\", \"internet\": \"teknologi informasi dan komunikasi\", \"telekomunikasi\": \"teknologi informasi dan komunikasi\", \n",
    "                 \"perangkat lunak komputer\": \"teknologi informasi dan komunikasi\", \"media online\": \"media\", \n",
    "                 \"wisata, travel & pariwisata\": \"pariwisata\", \"pariwisata & perhotelan\": \"pariwisata\", \n",
    "                 \"perawatan kesehatan jiwa\": \"kesehatan\", \"kesehatan dan kebugaran\": \"kesehatan\", \"olahraga\": \"kesehatan\", \n",
    "                 \"kertas & produk hutan\": \"agrikultur\", \"tembakau\": \"agrikultur\", \"pertanian\": \"agrikultur\",\n",
    "                 \"penetapan staf dan perekrutan\": \"human resources\", \"sumber daya manusia\": \"human resources\", \n",
    "                 \"wine dan alkohol\": \"makanan & minuman\", \n",
    "                 \"logistik dan rantai suplai\": \"ekonomi\", \"modal usaha & ekuitas pribadi\": \"ekonomi\", \"ritel\": \"ekonomi\", \n",
    "                 \"konsultan manajemen\": \"konsultasi\", \"pemasaran dan periklanan\": \"pemasaran & periklanan\", \n",
    "                 \"otomotif\": \"permesinan\", \"minyak & energi\": \"pertambangan\"}"
   ]
  },
  {
   "cell_type": "code",
   "execution_count": null,
   "metadata": {},
   "outputs": [],
   "source": [
    "data_oke3 = data_oke2.copy()\n",
    "data_oke3.head()"
   ]
  },
  {
   "cell_type": "code",
   "execution_count": null,
   "metadata": {},
   "outputs": [],
   "source": [
    "for i in range(0, len(data_oke3)):\n",
    "    if pd.isna(data_oke3[\"industri\"][i]) == True:\n",
    "        pass\n",
    "    else:\n",
    "        for awal, pengganti in industri_dict.items():\n",
    "            if awal in data_oke3[\"industri\"][i]:\n",
    "                data_oke3[\"industri\"][i] = data_oke3[\"industri\"][i].replace(awal, pengganti)"
   ]
  },
  {
   "cell_type": "code",
   "execution_count": null,
   "metadata": {},
   "outputs": [],
   "source": [
    "data_oke3.head()"
   ]
  },
  {
   "cell_type": "code",
   "execution_count": null,
   "metadata": {},
   "outputs": [],
   "source": [
    "data_oke3[\"industri\"].nunique()"
   ]
  },
  {
   "cell_type": "code",
   "execution_count": null,
   "metadata": {},
   "outputs": [],
   "source": [
    "#data_oke3.to_csv(\"Hasil Preprocessing 4 (Menyederhanakan Kolom Industri).csv\", index = False)"
   ]
  },
  {
   "cell_type": "markdown",
   "metadata": {},
   "source": [
    "# Preprocessing 5"
   ]
  },
  {
   "cell_type": "markdown",
   "metadata": {},
   "source": [
    "### Menyederhanakan Kolom Ukuran Company"
   ]
  },
  {
   "cell_type": "code",
   "execution_count": null,
   "metadata": {},
   "outputs": [],
   "source": [
    "data_oke4 = pd.read_csv(\"Hasil Preprocessing 4 (Menyederhanakan Kolom Industri).csv\")\n",
    "data_oke4.tail()"
   ]
  },
  {
   "cell_type": "code",
   "execution_count": null,
   "metadata": {},
   "outputs": [],
   "source": [
    "data_oke4[\"ukuran_company\"].unique()"
   ]
  },
  {
   "cell_type": "code",
   "execution_count": null,
   "metadata": {},
   "outputs": [],
   "source": [
    "# \"karyawan\" diubah menjadi \"pekerja\"\n",
    "data_oke4[\"ukuran_company\"] = data_oke4[\"ukuran_company\"].str.replace(\"karyawan\", \"pekerja\")"
   ]
  },
  {
   "cell_type": "code",
   "execution_count": null,
   "metadata": {},
   "outputs": [],
   "source": [
    "data_oke4[\"ukuran_company\"].unique()"
   ]
  },
  {
   "cell_type": "code",
   "execution_count": null,
   "metadata": {},
   "outputs": [],
   "source": [
    "# Disesuaikan dengan data dari Jobstreet juga, sehingga ada yang diubah\n",
    "\n",
    "for i in range(0, len(data_oke4)):\n",
    "    if data_oke4[\"ukuran_company\"][i] == \"1-10 pekerja\":\n",
    "        data_oke4.iloc[i] = data_oke4.iloc[i].replace(\"1-10 pekerja\", \"1-50 pekerja\")\n",
    "    elif data_oke4[\"ukuran_company\"][i] == \"11-50 pekerja\":\n",
    "        data_oke4.iloc[i] = data_oke4.iloc[i].replace(\"11-50 pekerja\", \"1-50 pekerja\")\n",
    "    \n",
    "    elif data_oke4[\"ukuran_company\"][i] == \"5.001-10.000 pekerja\":\n",
    "        data_oke4.iloc[i] = data_oke4.iloc[i].replace(\"5.001-10.000 pekerja\", \">5.000 pekerja\")\n",
    "    elif data_oke4[\"ukuran_company\"][i] == \"10.001+ pekerja\":\n",
    "        data_oke4.iloc[i] = data_oke4.iloc[i].replace(\"10.001+ pekerja\", \">5.000 pekerja\")"
   ]
  },
  {
   "cell_type": "code",
   "execution_count": null,
   "metadata": {},
   "outputs": [],
   "source": [
    "data_oke4[\"ukuran_company\"].unique()"
   ]
  },
  {
   "cell_type": "code",
   "execution_count": null,
   "metadata": {},
   "outputs": [],
   "source": [
    "#data_oke4.to_csv(\"Hasil Preprocessing 5 (Menyederhanakan Kolom Ukuran Company).csv\", index = False)"
   ]
  },
  {
   "cell_type": "code",
   "execution_count": null,
   "metadata": {},
   "outputs": [],
   "source": [
    "######## INSYAALLOH FIX PAKAI INI (Hasil Preprocessing 5)"
   ]
  },
  {
   "cell_type": "code",
   "execution_count": null,
   "metadata": {},
   "outputs": [],
   "source": [
    "len(data_oke4)"
   ]
  }
 ],
 "metadata": {
  "kernelspec": {
   "display_name": "Python 3",
   "language": "python",
   "name": "python3"
  },
  "language_info": {
   "codemirror_mode": {
    "name": "ipython",
    "version": 3
   },
   "file_extension": ".py",
   "mimetype": "text/x-python",
   "name": "python",
   "nbconvert_exporter": "python",
   "pygments_lexer": "ipython3",
   "version": "3.8.3"
  }
 },
 "nbformat": 4,
 "nbformat_minor": 4
}
